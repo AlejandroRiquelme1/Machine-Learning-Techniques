{
  "cells": [
    {
      "cell_type": "markdown",
      "source": [
        "#All the imports we need"
      ],
      "metadata": {
        "id": "-bBVk09QnMIF"
      }
    },
    {
      "cell_type": "code",
      "source": [
        "import re\n",
        "import nltk\n",
        "import pandas as pd\n",
        "import io\n",
        "import pandas\n",
        "import matplotlib.pyplot as plt\n",
        "import numpy as np\n",
        "!pip install textblob\n",
        "nltk.download(\"popular\")\n",
        "\n",
        "from nltk.tokenize import word_tokenize\n",
        "from nltk.stem import WordNetLemmatizer\n",
        "from google.colab import files\n",
        "from textblob import TextBlob\n",
        "from sklearn.feature_extraction.text import TfidfVectorizer\n",
        "from sklearn.feature_selection import SelectKBest, chi2\n",
        "from sklearn import model_selection, svm\n",
        "from sklearn.metrics import confusion_matrix\n",
        "from sklearn.metrics import plot_confusion_matrix\n",
        "from sklearn.model_selection import KFold\n",
        "from sklearn.metrics import mean_absolute_error\n",
        "from sklearn import tree"
      ],
      "metadata": {
        "id": "fyf2hAhXnLyL"
      },
      "execution_count": null,
      "outputs": []
    },
    {
      "cell_type": "markdown",
      "metadata": {
        "id": "vqwtd7zQwJ-N"
      },
      "source": [
        "##Data load"
      ]
    },
    {
      "cell_type": "markdown",
      "source": [
        "First of all, we create a **Pandas DataFrame** from the original csv file. "
      ],
      "metadata": {
        "id": "3iGLBKXCPo5e"
      }
    },
    {
      "cell_type": "code",
      "execution_count": null,
      "metadata": {
        "colab": {
          "base_uri": "https://localhost:8080/",
          "height": 73,
          "resources": {
            "http://localhost:8080/nbextensions/google.colab/files.js": {
              "data": "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",
              "headers": [
                [
                  "content-type",
                  "application/javascript"
                ]
              ],
              "ok": true,
              "status": 200,
              "status_text": ""
            }
          }
        },
        "id": "_UEgESaGuIMh",
        "outputId": "eefc8f51-c6d6-456e-cf51-5434a5dbce54"
      },
      "outputs": [
        {
          "output_type": "display_data",
          "data": {
            "text/html": [
              "\n",
              "     <input type=\"file\" id=\"files-ccd2b5b6-8338-4957-8847-9d5e798fe441\" name=\"files[]\" multiple disabled\n",
              "        style=\"border:none\" />\n",
              "     <output id=\"result-ccd2b5b6-8338-4957-8847-9d5e798fe441\">\n",
              "      Upload widget is only available when the cell has been executed in the\n",
              "      current browser session. Please rerun this cell to enable.\n",
              "      </output>\n",
              "      <script src=\"/nbextensions/google.colab/files.js\"></script> "
            ],
            "text/plain": [
              "<IPython.core.display.HTML object>"
            ]
          },
          "metadata": {}
        },
        {
          "output_type": "stream",
          "name": "stdout",
          "text": [
            "Saving comments.csv to comments (3).csv\n",
            "User uploaded file \"comments.csv\" with length 1691506 bytes\n"
          ]
        }
      ],
      "source": [
        "uploaded = files.upload()\n",
        "\n",
        "for fn in uploaded.keys():\n",
        "  print('User uploaded file \"{name}\" with length {length} bytes'.format(\n",
        "      name=fn, length=len(uploaded[fn])))"
      ]
    },
    {
      "cell_type": "code",
      "execution_count": null,
      "metadata": {
        "id": "zRSQExlbwdYA"
      },
      "outputs": [],
      "source": [
        "comments = pd.read_csv(io.StringIO(uploaded[fn].decode('utf-8')))"
      ]
    },
    {
      "cell_type": "markdown",
      "source": [
        "#Preprocessing"
      ],
      "metadata": {
        "id": "c82NAH2TPmiD"
      }
    },
    {
      "cell_type": "markdown",
      "metadata": {
        "id": "0iINTE0z3AI9"
      },
      "source": [
        "Once we have created the pandas dataframe, the first thing we do is a **preprocessing step**. It includes removing useless data, changing capital letters to lowercase letters, lemmatizing all terms to obtain the relevant information of each word with fewer characters, removing contractions as well as repeated words and emoticons followed by the last step, correcting wrong words. All of that is done to **supply clean input data** to the classification model."
      ]
    },
    {
      "cell_type": "markdown",
      "source": [
        "So, let's begin **removing useless data** such as parenthesis, at signs, etc."
      ],
      "metadata": {
        "id": "1zyXhr1nsLPc"
      }
    },
    {
      "cell_type": "code",
      "execution_count": null,
      "metadata": {
        "id": "3B96mE2p3EbN"
      },
      "outputs": [],
      "source": [
        "comments[\"text\"] = comments[\"text\"].apply(lambda elem: re.sub('!',\"\",elem))\n",
        "comments[\"text\"] = comments[\"text\"].apply(lambda elem: re.sub('\"',\"\",elem))\n",
        "comments[\"text\"] = comments[\"text\"].apply(lambda elem: re.sub('_',\"\",elem))\n",
        "comments[\"text\"] = comments[\"text\"].apply(lambda elem: re.sub('\\$',\"\",elem))\n",
        "comments[\"text\"] = comments[\"text\"].apply(lambda elem: re.sub('%',\"\",elem))\n",
        "comments[\"text\"] = comments[\"text\"].apply(lambda elem: re.sub('&',\"\",elem))\n",
        "comments[\"text\"] = comments[\"text\"].apply(lambda elem: re.sub('/',\"\",elem))\n",
        "comments[\"text\"] = comments[\"text\"].apply(lambda elem: re.sub('\\(',\"\",elem))\n",
        "comments[\"text\"] = comments[\"text\"].apply(lambda elem: re.sub('\\)',\"\",elem))\n",
        "comments[\"text\"] = comments[\"text\"].apply(lambda elem: re.sub('=',\"\",elem))\n",
        "comments[\"text\"] = comments[\"text\"].apply(lambda elem: re.sub('\\^',\"\",elem))\n",
        "comments[\"text\"] = comments[\"text\"].apply(lambda elem: re.sub('\\*',\"\",elem))\n",
        "comments[\"text\"] = comments[\"text\"].apply(lambda elem: re.sub('¡',\"\",elem))\n",
        "comments[\"text\"] = comments[\"text\"].apply(lambda elem: re.sub('@',\"\",elem))"
      ]
    },
    {
      "cell_type": "markdown",
      "metadata": {
        "id": "jXgO6AqpHDV9"
      },
      "source": [
        "We **remove all capital letters** changing them to lowercase letters"
      ]
    },
    {
      "cell_type": "code",
      "execution_count": null,
      "metadata": {
        "id": "LIciQk1AHGTi"
      },
      "outputs": [],
      "source": [
        "comments[\"text\"] = comments[\"text\"].apply(lambda elem: elem.lower())"
      ]
    },
    {
      "cell_type": "markdown",
      "metadata": {
        "id": "0_4PwgNeKBFl"
      },
      "source": [
        "As we have mentioned, we **lemmatize all terms** with the purpose of obtaining the relevant information from the words."
      ]
    },
    {
      "cell_type": "code",
      "execution_count": null,
      "metadata": {
        "colab": {
          "base_uri": "https://localhost:8080/"
        },
        "id": "SNKxL0OMKDTj",
        "outputId": "b175e8f2-8573-4682-b4be-3fb30a5ef969"
      },
      "outputs": [
        {
          "output_type": "stream",
          "name": "stdout",
          "text": [
            "[nltk_data] Downloading package punkt to /root/nltk_data...\n",
            "[nltk_data]   Package punkt is already up-to-date!\n",
            "[nltk_data] Downloading package wordnet to /root/nltk_data...\n",
            "[nltk_data]   Package wordnet is already up-to-date!\n"
          ]
        }
      ],
      "source": [
        "nltk.download('punkt')\n",
        "nltk.download('wordnet')\n",
        "\n",
        "lemmatizer=WordNetLemmatizer()\n",
        "\n",
        "def lemmatizerAux(words):\n",
        "  lemmatized_words = \"\"\n",
        "  tokenized_words = word_tokenize(words)\n",
        "  for word in tokenized_words:\n",
        "    v_lemmatized_word = lemmatizer.lemmatize(word, pos = 'v')\n",
        "    lemmatized_words = lemmatized_words + \" \" + lemmatizer.lemmatize(v_lemmatized_word, pos = 'n')\n",
        "    #lemmatizer.lemmatize(word, pos = \"v\")\n",
        "  return lemmatized_words\n",
        "\n",
        "comments[\"text\"] = comments[\"text\"].apply(lambda elem: lemmatizerAux(elem))"
      ]
    },
    {
      "cell_type": "markdown",
      "metadata": {
        "id": "pCRLYcq1ThY9"
      },
      "source": [
        "Then, we **remove contractions** in order to standarize the words in the text taking into account the most usual ones in the English language.  "
      ]
    },
    {
      "cell_type": "code",
      "execution_count": null,
      "metadata": {
        "id": "4U91ADkwTjaa"
      },
      "outputs": [],
      "source": [
        "patrones=[\n",
        "('can t','cannot'),\n",
        "('i m','i am'),\n",
        "('i ll', 'i will'),\n",
        "('you ll', 'you will'),\n",
        "('they ll', 'they will'),\n",
        "('isn t', 'is not'),\n",
        "('don t', 'do not'),\n",
        "('you ve', 'you have'),\n",
        "('i ve', 'i have'),\n",
        "('he s', 'he is'),\n",
        "('she s', 'she is'),\n",
        "('we re', 'we are'),\n",
        "('they re', 'they are')\n",
        "]\n",
        "\n",
        "patrones = [(regex, no_contraido) for (regex, no_contraido) in patrones]\n",
        "\n",
        "def remove_contractions(words):\n",
        "  text = words\n",
        "  for (patron, no_contraido) in patrones: \n",
        "    (s, count) = re.subn(patron, no_contraido, text)\n",
        "    text = s\n",
        "  return text\n",
        "\n",
        "comments[\"text\"] = comments[\"text\"].apply(lambda elem: remove_contractions(elem))"
      ]
    },
    {
      "cell_type": "markdown",
      "metadata": {
        "id": "NRPmBrdiWYLm"
      },
      "source": [
        "We **remove repeated words** because they are not useful for the classification model."
      ]
    },
    {
      "cell_type": "code",
      "source": [
        "comments[\"text\"] = comments[\"text\"].apply(lambda elem: re.sub(r'\\b(\\w+)( \\1\\b)+', r'\\1', elem))"
      ],
      "metadata": {
        "id": "yEVPrzzrLRyK"
      },
      "execution_count": null,
      "outputs": []
    },
    {
      "cell_type": "markdown",
      "source": [
        "We **remove emoticons** for the same reason as in the last step, they don´t provide any useful information for the classification model."
      ],
      "metadata": {
        "id": "HCtupM7jQ2Yo"
      }
    },
    {
      "cell_type": "code",
      "source": [
        "emoji_pattern = re.compile(\"[\"\n",
        "                               u\"\\U0001F600-\\U0001F64F\"  # emoticons\n",
        "                               u\"\\U0001F300-\\U0001F5FF\"  # symbols & pictographs\n",
        "                               u\"\\U0001F680-\\U0001F6FF\"  # transport & map symbols\n",
        "                               u\"\\U0001F1E0-\\U0001F1FF\"  # flags (iOS)\n",
        "                               u\"\\U00002500-\\U00002BEF\"  # chinese char\n",
        "                               u\"\\U00002702-\\U000027B0\"\n",
        "                               u\"\\U00002702-\\U000027B0\"\n",
        "                               u\"\\U000024C2-\\U0001F251\"\n",
        "                               u\"\\U0001f926-\\U0001f937\"\n",
        "                               u\"\\U00010000-\\U0010ffff\"\n",
        "                               u\"\\u2640-\\u2642\"\n",
        "                               u\"\\u2600-\\u2B55\"\n",
        "                               u\"\\u200d\"\n",
        "                               u\"\\u23cf\"\n",
        "                               u\"\\u23e9\"\n",
        "                               u\"\\u231a\"\n",
        "                               u\"\\ufe0f\"  # dingbats\n",
        "                               u\"\\u3030\"\n",
        "                               \"]+\", flags=re.UNICODE)\n",
        "\n",
        "def remove_emoji(text):\n",
        "  return emoji_pattern.sub(r'', text)\n",
        "\n",
        "comments[\"text\"] = comments[\"text\"].apply(lambda elem: remove_emoji(elem))"
      ],
      "metadata": {
        "id": "RxWg206XU6Ef"
      },
      "execution_count": null,
      "outputs": []
    },
    {
      "cell_type": "markdown",
      "source": [
        "Eventually, we **correct wrong words** using **TextBlob**"
      ],
      "metadata": {
        "id": "jSZiiVdmamrE"
      }
    },
    {
      "cell_type": "code",
      "source": [
        "def correct_words(text):\n",
        "  new_doc = TextBlob(text)\n",
        "  result = new_doc.correct()\n",
        "  return str(result)\n",
        "\n",
        "comments[\"text\"] = comments[\"text\"].apply(lambda elem: correct_words(elem))"
      ],
      "metadata": {
        "colab": {
          "base_uri": "https://localhost:8080/"
        },
        "id": "1UuxEFNiapkd",
        "outputId": "a79810d4-a805-4ce2-f933-07cac3d8e742"
      },
      "execution_count": null,
      "outputs": [
        {
          "output_type": "stream",
          "name": "stdout",
          "text": [
            "Requirement already satisfied: textblob in /usr/local/lib/python3.7/dist-packages (0.15.3)\n",
            "Requirement already satisfied: nltk>=3.1 in /usr/local/lib/python3.7/dist-packages (from textblob) (3.2.5)\n",
            "Requirement already satisfied: six in /usr/local/lib/python3.7/dist-packages (from nltk>=3.1->textblob) (1.15.0)\n"
          ]
        }
      ]
    },
    {
      "cell_type": "markdown",
      "source": [
        "We save the results as a **pickle file**."
      ],
      "metadata": {
        "id": "m0Spk-IhdhE6"
      }
    },
    {
      "cell_type": "code",
      "source": [
        "comments.to_pickle('./preprocessed.pkl')"
      ],
      "metadata": {
        "id": "faTVUqwZnN8_"
      },
      "execution_count": null,
      "outputs": []
    },
    {
      "cell_type": "markdown",
      "source": [
        "#Vectorization"
      ],
      "metadata": {
        "id": "kx5smZX3oZKp"
      }
    },
    {
      "cell_type": "markdown",
      "source": [
        "We **read the pickle file** that we have saved"
      ],
      "metadata": {
        "id": "cGAJVSNwxO2c"
      }
    },
    {
      "cell_type": "code",
      "source": [
        "comments = pd.read_pickle('./preprocessed.pkl')"
      ],
      "metadata": {
        "id": "ZELw6NXl3G_a"
      },
      "execution_count": null,
      "outputs": []
    },
    {
      "cell_type": "markdown",
      "source": [
        "We convert **\"class\" feature into a numerical feature** in order to use it in the **Decision Tree algorithm**"
      ],
      "metadata": {
        "id": "s0pZoJHSwLnd"
      }
    },
    {
      "cell_type": "code",
      "source": [
        "numerical_values = []\n",
        "for i in range(len(comments)):\n",
        "  if(comments[\"class\"].values[i] == \"Auto\"):\n",
        "    numerical_values.append(0)\n",
        "  elif(comments[\"class\"].values[i] == \"Camera\"):\n",
        "    numerical_values.append(1)\n",
        "\n",
        "data = {'class':numerical_values}\n",
        "numerical_class = pd.DataFrame(data=data)"
      ],
      "metadata": {
        "id": "9aBLZ5pDwU0K"
      },
      "execution_count": null,
      "outputs": []
    },
    {
      "cell_type": "markdown",
      "source": [
        "We define a function to **calculate several evaluation metrics** for the support vector machine model"
      ],
      "metadata": {
        "id": "IH6ApHndyYDH"
      }
    },
    {
      "cell_type": "code",
      "source": [
        "def calculate_metrics(tp, fp, tn, fn):\n",
        "    precision= tp/ (tp + fp)\n",
        "    recall= tp/ (tp+fn)\n",
        "    accuracy = (tp+tn)/(tp+fp+fn+tn)\n",
        "    f_measure= 2*(recall * precision) / (recall + precision)\n",
        "    print(\"Precision \"+ str(precision) +\"\\nRecall \" + str(recall) + \"\\nAccuracy \" + str(accuracy) + \"\\nF-Measure \" + str(f_measure))"
      ],
      "metadata": {
        "id": "SpIHkjTXDaaw"
      },
      "execution_count": null,
      "outputs": []
    },
    {
      "cell_type": "markdown",
      "source": [
        "##TFIDF"
      ],
      "metadata": {
        "id": "8QJn_OL6obop"
      }
    },
    {
      "cell_type": "markdown",
      "source": [
        "We calculate the vectorization of the text by using a standard **TFIDF vectorizer**. It returns the **relevance of each word** taking into account the document in which each word appears and the rest of the documents in the collection."
      ],
      "metadata": {
        "id": "8NHvTQBkyjZL"
      }
    },
    {
      "cell_type": "code",
      "source": [
        "vectorizer = TfidfVectorizer(use_idf=True, smooth_idf=True)\n",
        "output_tfidf = vectorizer.fit_transform(comments[\"text\"].tolist())\n",
        "\n",
        "df_output_tfidf=pandas.DataFrame(output_tfidf.toarray(), columns=vectorizer.get_feature_names())\n",
        "df_output_tfidf"
      ],
      "metadata": {
        "colab": {
          "base_uri": "https://localhost:8080/",
          "height": 522
        },
        "id": "LQoKqtfps2Ht",
        "outputId": "5476d4b1-0755-482a-e7ee-7f17681cf64a"
      },
      "execution_count": null,
      "outputs": [
        {
          "output_type": "stream",
          "name": "stderr",
          "text": [
            "/usr/local/lib/python3.7/dist-packages/sklearn/utils/deprecation.py:87: FutureWarning: Function get_feature_names is deprecated; get_feature_names is deprecated in 1.0 and will be removed in 1.2. Please use get_feature_names_out instead.\n",
            "  warnings.warn(msg, category=FutureWarning)\n"
          ]
        },
        {
          "output_type": "execute_result",
          "data": {
            "text/html": [
              "\n",
              "  <div id=\"df-94921942-a962-4947-8333-9f3841e562da\">\n",
              "    <div class=\"colab-df-container\">\n",
              "      <div>\n",
              "<style scoped>\n",
              "    .dataframe tbody tr th:only-of-type {\n",
              "        vertical-align: middle;\n",
              "    }\n",
              "\n",
              "    .dataframe tbody tr th {\n",
              "        vertical-align: top;\n",
              "    }\n",
              "\n",
              "    .dataframe thead th {\n",
              "        text-align: right;\n",
              "    }\n",
              "</style>\n",
              "<table border=\"1\" class=\"dataframe\">\n",
              "  <thead>\n",
              "    <tr style=\"text-align: right;\">\n",
              "      <th></th>\n",
              "      <th>00</th>\n",
              "      <th>000</th>\n",
              "      <th>01</th>\n",
              "      <th>02</th>\n",
              "      <th>024</th>\n",
              "      <th>03</th>\n",
              "      <th>03cm</th>\n",
              "      <th>04</th>\n",
              "      <th>048</th>\n",
              "      <th>05</th>\n",
              "      <th>050</th>\n",
              "      <th>06</th>\n",
              "      <th>07</th>\n",
              "      <th>07280001</th>\n",
              "      <th>075</th>\n",
              "      <th>08</th>\n",
              "      <th>09</th>\n",
              "      <th>0f</th>\n",
              "      <th>0l</th>\n",
              "      <th>0litre</th>\n",
              "      <th>0m</th>\n",
              "      <th>0x</th>\n",
              "      <th>10</th>\n",
              "      <th>100</th>\n",
              "      <th>1000</th>\n",
              "      <th>1000f</th>\n",
              "      <th>1000fn</th>\n",
              "      <th>1000ma</th>\n",
              "      <th>1000mb</th>\n",
              "      <th>1000th</th>\n",
              "      <th>100cs</th>\n",
              "      <th>100k</th>\n",
              "      <th>100lbs</th>\n",
              "      <th>100mph</th>\n",
              "      <th>100s</th>\n",
              "      <th>102</th>\n",
              "      <th>1024</th>\n",
              "      <th>1024x768</th>\n",
              "      <th>102769987204</th>\n",
              "      <th>102mm</th>\n",
              "      <th>...</th>\n",
              "      <th>youth</th>\n",
              "      <th>youthful</th>\n",
              "      <th>yr</th>\n",
              "      <th>yrs</th>\n",
              "      <th>yugo</th>\n",
              "      <th>yup</th>\n",
              "      <th>yuppies</th>\n",
              "      <th>z1</th>\n",
              "      <th>z3</th>\n",
              "      <th>z3m</th>\n",
              "      <th>z66</th>\n",
              "      <th>z71</th>\n",
              "      <th>zagging</th>\n",
              "      <th>zdnet</th>\n",
              "      <th>zealand</th>\n",
              "      <th>zeiss</th>\n",
              "      <th>zero</th>\n",
              "      <th>zeroed</th>\n",
              "      <th>ziebart</th>\n",
              "      <th>zig</th>\n",
              "      <th>zillions</th>\n",
              "      <th>zing</th>\n",
              "      <th>zip</th>\n",
              "      <th>zipp</th>\n",
              "      <th>zippier</th>\n",
              "      <th>zippiness</th>\n",
              "      <th>zippy</th>\n",
              "      <th>zips</th>\n",
              "      <th>zj</th>\n",
              "      <th>zone</th>\n",
              "      <th>zones</th>\n",
              "      <th>zoo</th>\n",
              "      <th>zoom</th>\n",
              "      <th>zoombrowser</th>\n",
              "      <th>zoomed</th>\n",
              "      <th>zoomey</th>\n",
              "      <th>zooming</th>\n",
              "      <th>zooms</th>\n",
              "      <th>zx2</th>\n",
              "      <th>zx3</th>\n",
              "    </tr>\n",
              "  </thead>\n",
              "  <tbody>\n",
              "    <tr>\n",
              "      <th>0</th>\n",
              "      <td>0.000000</td>\n",
              "      <td>0.0</td>\n",
              "      <td>0.0</td>\n",
              "      <td>0.0</td>\n",
              "      <td>0.0</td>\n",
              "      <td>0.0</td>\n",
              "      <td>0.0</td>\n",
              "      <td>0.0</td>\n",
              "      <td>0.0</td>\n",
              "      <td>0.0</td>\n",
              "      <td>0.0</td>\n",
              "      <td>0.0</td>\n",
              "      <td>0.0</td>\n",
              "      <td>0.0</td>\n",
              "      <td>0.0</td>\n",
              "      <td>0.0</td>\n",
              "      <td>0.0</td>\n",
              "      <td>0.0</td>\n",
              "      <td>0.0</td>\n",
              "      <td>0.0</td>\n",
              "      <td>0.0</td>\n",
              "      <td>0.0</td>\n",
              "      <td>0.0</td>\n",
              "      <td>0.000000</td>\n",
              "      <td>0.0</td>\n",
              "      <td>0.0</td>\n",
              "      <td>0.0</td>\n",
              "      <td>0.0</td>\n",
              "      <td>0.0</td>\n",
              "      <td>0.0</td>\n",
              "      <td>0.0</td>\n",
              "      <td>0.000000</td>\n",
              "      <td>0.0</td>\n",
              "      <td>0.0</td>\n",
              "      <td>0.0</td>\n",
              "      <td>0.0</td>\n",
              "      <td>0.0</td>\n",
              "      <td>0.0</td>\n",
              "      <td>0.0</td>\n",
              "      <td>0.0</td>\n",
              "      <td>...</td>\n",
              "      <td>0.0</td>\n",
              "      <td>0.0</td>\n",
              "      <td>0.0</td>\n",
              "      <td>0.0</td>\n",
              "      <td>0.0</td>\n",
              "      <td>0.0</td>\n",
              "      <td>0.0</td>\n",
              "      <td>0.0</td>\n",
              "      <td>0.0</td>\n",
              "      <td>0.0</td>\n",
              "      <td>0.0</td>\n",
              "      <td>0.0</td>\n",
              "      <td>0.0</td>\n",
              "      <td>0.0</td>\n",
              "      <td>0.0</td>\n",
              "      <td>0.0</td>\n",
              "      <td>0.0</td>\n",
              "      <td>0.0</td>\n",
              "      <td>0.0</td>\n",
              "      <td>0.0</td>\n",
              "      <td>0.0</td>\n",
              "      <td>0.0</td>\n",
              "      <td>0.0</td>\n",
              "      <td>0.0</td>\n",
              "      <td>0.0</td>\n",
              "      <td>0.0</td>\n",
              "      <td>0.0</td>\n",
              "      <td>0.0</td>\n",
              "      <td>0.0</td>\n",
              "      <td>0.0</td>\n",
              "      <td>0.0</td>\n",
              "      <td>0.0</td>\n",
              "      <td>0.000000</td>\n",
              "      <td>0.0</td>\n",
              "      <td>0.0</td>\n",
              "      <td>0.0</td>\n",
              "      <td>0.0</td>\n",
              "      <td>0.0</td>\n",
              "      <td>0.0</td>\n",
              "      <td>0.0</td>\n",
              "    </tr>\n",
              "    <tr>\n",
              "      <th>1</th>\n",
              "      <td>0.000000</td>\n",
              "      <td>0.0</td>\n",
              "      <td>0.0</td>\n",
              "      <td>0.0</td>\n",
              "      <td>0.0</td>\n",
              "      <td>0.0</td>\n",
              "      <td>0.0</td>\n",
              "      <td>0.0</td>\n",
              "      <td>0.0</td>\n",
              "      <td>0.0</td>\n",
              "      <td>0.0</td>\n",
              "      <td>0.0</td>\n",
              "      <td>0.0</td>\n",
              "      <td>0.0</td>\n",
              "      <td>0.0</td>\n",
              "      <td>0.0</td>\n",
              "      <td>0.0</td>\n",
              "      <td>0.0</td>\n",
              "      <td>0.0</td>\n",
              "      <td>0.0</td>\n",
              "      <td>0.0</td>\n",
              "      <td>0.0</td>\n",
              "      <td>0.0</td>\n",
              "      <td>0.000000</td>\n",
              "      <td>0.0</td>\n",
              "      <td>0.0</td>\n",
              "      <td>0.0</td>\n",
              "      <td>0.0</td>\n",
              "      <td>0.0</td>\n",
              "      <td>0.0</td>\n",
              "      <td>0.0</td>\n",
              "      <td>0.000000</td>\n",
              "      <td>0.0</td>\n",
              "      <td>0.0</td>\n",
              "      <td>0.0</td>\n",
              "      <td>0.0</td>\n",
              "      <td>0.0</td>\n",
              "      <td>0.0</td>\n",
              "      <td>0.0</td>\n",
              "      <td>0.0</td>\n",
              "      <td>...</td>\n",
              "      <td>0.0</td>\n",
              "      <td>0.0</td>\n",
              "      <td>0.0</td>\n",
              "      <td>0.0</td>\n",
              "      <td>0.0</td>\n",
              "      <td>0.0</td>\n",
              "      <td>0.0</td>\n",
              "      <td>0.0</td>\n",
              "      <td>0.0</td>\n",
              "      <td>0.0</td>\n",
              "      <td>0.0</td>\n",
              "      <td>0.0</td>\n",
              "      <td>0.0</td>\n",
              "      <td>0.0</td>\n",
              "      <td>0.0</td>\n",
              "      <td>0.0</td>\n",
              "      <td>0.0</td>\n",
              "      <td>0.0</td>\n",
              "      <td>0.0</td>\n",
              "      <td>0.0</td>\n",
              "      <td>0.0</td>\n",
              "      <td>0.0</td>\n",
              "      <td>0.0</td>\n",
              "      <td>0.0</td>\n",
              "      <td>0.0</td>\n",
              "      <td>0.0</td>\n",
              "      <td>0.0</td>\n",
              "      <td>0.0</td>\n",
              "      <td>0.0</td>\n",
              "      <td>0.0</td>\n",
              "      <td>0.0</td>\n",
              "      <td>0.0</td>\n",
              "      <td>0.000000</td>\n",
              "      <td>0.0</td>\n",
              "      <td>0.0</td>\n",
              "      <td>0.0</td>\n",
              "      <td>0.0</td>\n",
              "      <td>0.0</td>\n",
              "      <td>0.0</td>\n",
              "      <td>0.0</td>\n",
              "    </tr>\n",
              "    <tr>\n",
              "      <th>2</th>\n",
              "      <td>0.000000</td>\n",
              "      <td>0.0</td>\n",
              "      <td>0.0</td>\n",
              "      <td>0.0</td>\n",
              "      <td>0.0</td>\n",
              "      <td>0.0</td>\n",
              "      <td>0.0</td>\n",
              "      <td>0.0</td>\n",
              "      <td>0.0</td>\n",
              "      <td>0.0</td>\n",
              "      <td>0.0</td>\n",
              "      <td>0.0</td>\n",
              "      <td>0.0</td>\n",
              "      <td>0.0</td>\n",
              "      <td>0.0</td>\n",
              "      <td>0.0</td>\n",
              "      <td>0.0</td>\n",
              "      <td>0.0</td>\n",
              "      <td>0.0</td>\n",
              "      <td>0.0</td>\n",
              "      <td>0.0</td>\n",
              "      <td>0.0</td>\n",
              "      <td>0.0</td>\n",
              "      <td>0.000000</td>\n",
              "      <td>0.0</td>\n",
              "      <td>0.0</td>\n",
              "      <td>0.0</td>\n",
              "      <td>0.0</td>\n",
              "      <td>0.0</td>\n",
              "      <td>0.0</td>\n",
              "      <td>0.0</td>\n",
              "      <td>0.000000</td>\n",
              "      <td>0.0</td>\n",
              "      <td>0.0</td>\n",
              "      <td>0.0</td>\n",
              "      <td>0.0</td>\n",
              "      <td>0.0</td>\n",
              "      <td>0.0</td>\n",
              "      <td>0.0</td>\n",
              "      <td>0.0</td>\n",
              "      <td>...</td>\n",
              "      <td>0.0</td>\n",
              "      <td>0.0</td>\n",
              "      <td>0.0</td>\n",
              "      <td>0.0</td>\n",
              "      <td>0.0</td>\n",
              "      <td>0.0</td>\n",
              "      <td>0.0</td>\n",
              "      <td>0.0</td>\n",
              "      <td>0.0</td>\n",
              "      <td>0.0</td>\n",
              "      <td>0.0</td>\n",
              "      <td>0.0</td>\n",
              "      <td>0.0</td>\n",
              "      <td>0.0</td>\n",
              "      <td>0.0</td>\n",
              "      <td>0.0</td>\n",
              "      <td>0.0</td>\n",
              "      <td>0.0</td>\n",
              "      <td>0.0</td>\n",
              "      <td>0.0</td>\n",
              "      <td>0.0</td>\n",
              "      <td>0.0</td>\n",
              "      <td>0.0</td>\n",
              "      <td>0.0</td>\n",
              "      <td>0.0</td>\n",
              "      <td>0.0</td>\n",
              "      <td>0.0</td>\n",
              "      <td>0.0</td>\n",
              "      <td>0.0</td>\n",
              "      <td>0.0</td>\n",
              "      <td>0.0</td>\n",
              "      <td>0.0</td>\n",
              "      <td>0.000000</td>\n",
              "      <td>0.0</td>\n",
              "      <td>0.0</td>\n",
              "      <td>0.0</td>\n",
              "      <td>0.0</td>\n",
              "      <td>0.0</td>\n",
              "      <td>0.0</td>\n",
              "      <td>0.0</td>\n",
              "    </tr>\n",
              "    <tr>\n",
              "      <th>3</th>\n",
              "      <td>0.000000</td>\n",
              "      <td>0.0</td>\n",
              "      <td>0.0</td>\n",
              "      <td>0.0</td>\n",
              "      <td>0.0</td>\n",
              "      <td>0.0</td>\n",
              "      <td>0.0</td>\n",
              "      <td>0.0</td>\n",
              "      <td>0.0</td>\n",
              "      <td>0.0</td>\n",
              "      <td>0.0</td>\n",
              "      <td>0.0</td>\n",
              "      <td>0.0</td>\n",
              "      <td>0.0</td>\n",
              "      <td>0.0</td>\n",
              "      <td>0.0</td>\n",
              "      <td>0.0</td>\n",
              "      <td>0.0</td>\n",
              "      <td>0.0</td>\n",
              "      <td>0.0</td>\n",
              "      <td>0.0</td>\n",
              "      <td>0.0</td>\n",
              "      <td>0.0</td>\n",
              "      <td>0.000000</td>\n",
              "      <td>0.0</td>\n",
              "      <td>0.0</td>\n",
              "      <td>0.0</td>\n",
              "      <td>0.0</td>\n",
              "      <td>0.0</td>\n",
              "      <td>0.0</td>\n",
              "      <td>0.0</td>\n",
              "      <td>0.000000</td>\n",
              "      <td>0.0</td>\n",
              "      <td>0.0</td>\n",
              "      <td>0.0</td>\n",
              "      <td>0.0</td>\n",
              "      <td>0.0</td>\n",
              "      <td>0.0</td>\n",
              "      <td>0.0</td>\n",
              "      <td>0.0</td>\n",
              "      <td>...</td>\n",
              "      <td>0.0</td>\n",
              "      <td>0.0</td>\n",
              "      <td>0.0</td>\n",
              "      <td>0.0</td>\n",
              "      <td>0.0</td>\n",
              "      <td>0.0</td>\n",
              "      <td>0.0</td>\n",
              "      <td>0.0</td>\n",
              "      <td>0.0</td>\n",
              "      <td>0.0</td>\n",
              "      <td>0.0</td>\n",
              "      <td>0.0</td>\n",
              "      <td>0.0</td>\n",
              "      <td>0.0</td>\n",
              "      <td>0.0</td>\n",
              "      <td>0.0</td>\n",
              "      <td>0.0</td>\n",
              "      <td>0.0</td>\n",
              "      <td>0.0</td>\n",
              "      <td>0.0</td>\n",
              "      <td>0.0</td>\n",
              "      <td>0.0</td>\n",
              "      <td>0.0</td>\n",
              "      <td>0.0</td>\n",
              "      <td>0.0</td>\n",
              "      <td>0.0</td>\n",
              "      <td>0.0</td>\n",
              "      <td>0.0</td>\n",
              "      <td>0.0</td>\n",
              "      <td>0.0</td>\n",
              "      <td>0.0</td>\n",
              "      <td>0.0</td>\n",
              "      <td>0.000000</td>\n",
              "      <td>0.0</td>\n",
              "      <td>0.0</td>\n",
              "      <td>0.0</td>\n",
              "      <td>0.0</td>\n",
              "      <td>0.0</td>\n",
              "      <td>0.0</td>\n",
              "      <td>0.0</td>\n",
              "    </tr>\n",
              "    <tr>\n",
              "      <th>4</th>\n",
              "      <td>0.000000</td>\n",
              "      <td>0.0</td>\n",
              "      <td>0.0</td>\n",
              "      <td>0.0</td>\n",
              "      <td>0.0</td>\n",
              "      <td>0.0</td>\n",
              "      <td>0.0</td>\n",
              "      <td>0.0</td>\n",
              "      <td>0.0</td>\n",
              "      <td>0.0</td>\n",
              "      <td>0.0</td>\n",
              "      <td>0.0</td>\n",
              "      <td>0.0</td>\n",
              "      <td>0.0</td>\n",
              "      <td>0.0</td>\n",
              "      <td>0.0</td>\n",
              "      <td>0.0</td>\n",
              "      <td>0.0</td>\n",
              "      <td>0.0</td>\n",
              "      <td>0.0</td>\n",
              "      <td>0.0</td>\n",
              "      <td>0.0</td>\n",
              "      <td>0.0</td>\n",
              "      <td>0.016739</td>\n",
              "      <td>0.0</td>\n",
              "      <td>0.0</td>\n",
              "      <td>0.0</td>\n",
              "      <td>0.0</td>\n",
              "      <td>0.0</td>\n",
              "      <td>0.0</td>\n",
              "      <td>0.0</td>\n",
              "      <td>0.000000</td>\n",
              "      <td>0.0</td>\n",
              "      <td>0.0</td>\n",
              "      <td>0.0</td>\n",
              "      <td>0.0</td>\n",
              "      <td>0.0</td>\n",
              "      <td>0.0</td>\n",
              "      <td>0.0</td>\n",
              "      <td>0.0</td>\n",
              "      <td>...</td>\n",
              "      <td>0.0</td>\n",
              "      <td>0.0</td>\n",
              "      <td>0.0</td>\n",
              "      <td>0.0</td>\n",
              "      <td>0.0</td>\n",
              "      <td>0.0</td>\n",
              "      <td>0.0</td>\n",
              "      <td>0.0</td>\n",
              "      <td>0.0</td>\n",
              "      <td>0.0</td>\n",
              "      <td>0.0</td>\n",
              "      <td>0.0</td>\n",
              "      <td>0.0</td>\n",
              "      <td>0.0</td>\n",
              "      <td>0.0</td>\n",
              "      <td>0.0</td>\n",
              "      <td>0.0</td>\n",
              "      <td>0.0</td>\n",
              "      <td>0.0</td>\n",
              "      <td>0.0</td>\n",
              "      <td>0.0</td>\n",
              "      <td>0.0</td>\n",
              "      <td>0.0</td>\n",
              "      <td>0.0</td>\n",
              "      <td>0.0</td>\n",
              "      <td>0.0</td>\n",
              "      <td>0.0</td>\n",
              "      <td>0.0</td>\n",
              "      <td>0.0</td>\n",
              "      <td>0.0</td>\n",
              "      <td>0.0</td>\n",
              "      <td>0.0</td>\n",
              "      <td>0.062768</td>\n",
              "      <td>0.0</td>\n",
              "      <td>0.0</td>\n",
              "      <td>0.0</td>\n",
              "      <td>0.0</td>\n",
              "      <td>0.0</td>\n",
              "      <td>0.0</td>\n",
              "      <td>0.0</td>\n",
              "    </tr>\n",
              "    <tr>\n",
              "      <th>...</th>\n",
              "      <td>...</td>\n",
              "      <td>...</td>\n",
              "      <td>...</td>\n",
              "      <td>...</td>\n",
              "      <td>...</td>\n",
              "      <td>...</td>\n",
              "      <td>...</td>\n",
              "      <td>...</td>\n",
              "      <td>...</td>\n",
              "      <td>...</td>\n",
              "      <td>...</td>\n",
              "      <td>...</td>\n",
              "      <td>...</td>\n",
              "      <td>...</td>\n",
              "      <td>...</td>\n",
              "      <td>...</td>\n",
              "      <td>...</td>\n",
              "      <td>...</td>\n",
              "      <td>...</td>\n",
              "      <td>...</td>\n",
              "      <td>...</td>\n",
              "      <td>...</td>\n",
              "      <td>...</td>\n",
              "      <td>...</td>\n",
              "      <td>...</td>\n",
              "      <td>...</td>\n",
              "      <td>...</td>\n",
              "      <td>...</td>\n",
              "      <td>...</td>\n",
              "      <td>...</td>\n",
              "      <td>...</td>\n",
              "      <td>...</td>\n",
              "      <td>...</td>\n",
              "      <td>...</td>\n",
              "      <td>...</td>\n",
              "      <td>...</td>\n",
              "      <td>...</td>\n",
              "      <td>...</td>\n",
              "      <td>...</td>\n",
              "      <td>...</td>\n",
              "      <td>...</td>\n",
              "      <td>...</td>\n",
              "      <td>...</td>\n",
              "      <td>...</td>\n",
              "      <td>...</td>\n",
              "      <td>...</td>\n",
              "      <td>...</td>\n",
              "      <td>...</td>\n",
              "      <td>...</td>\n",
              "      <td>...</td>\n",
              "      <td>...</td>\n",
              "      <td>...</td>\n",
              "      <td>...</td>\n",
              "      <td>...</td>\n",
              "      <td>...</td>\n",
              "      <td>...</td>\n",
              "      <td>...</td>\n",
              "      <td>...</td>\n",
              "      <td>...</td>\n",
              "      <td>...</td>\n",
              "      <td>...</td>\n",
              "      <td>...</td>\n",
              "      <td>...</td>\n",
              "      <td>...</td>\n",
              "      <td>...</td>\n",
              "      <td>...</td>\n",
              "      <td>...</td>\n",
              "      <td>...</td>\n",
              "      <td>...</td>\n",
              "      <td>...</td>\n",
              "      <td>...</td>\n",
              "      <td>...</td>\n",
              "      <td>...</td>\n",
              "      <td>...</td>\n",
              "      <td>...</td>\n",
              "      <td>...</td>\n",
              "      <td>...</td>\n",
              "      <td>...</td>\n",
              "      <td>...</td>\n",
              "      <td>...</td>\n",
              "      <td>...</td>\n",
              "    </tr>\n",
              "    <tr>\n",
              "      <th>595</th>\n",
              "      <td>0.000000</td>\n",
              "      <td>0.0</td>\n",
              "      <td>0.0</td>\n",
              "      <td>0.0</td>\n",
              "      <td>0.0</td>\n",
              "      <td>0.0</td>\n",
              "      <td>0.0</td>\n",
              "      <td>0.0</td>\n",
              "      <td>0.0</td>\n",
              "      <td>0.0</td>\n",
              "      <td>0.0</td>\n",
              "      <td>0.0</td>\n",
              "      <td>0.0</td>\n",
              "      <td>0.0</td>\n",
              "      <td>0.0</td>\n",
              "      <td>0.0</td>\n",
              "      <td>0.0</td>\n",
              "      <td>0.0</td>\n",
              "      <td>0.0</td>\n",
              "      <td>0.0</td>\n",
              "      <td>0.0</td>\n",
              "      <td>0.0</td>\n",
              "      <td>0.0</td>\n",
              "      <td>0.000000</td>\n",
              "      <td>0.0</td>\n",
              "      <td>0.0</td>\n",
              "      <td>0.0</td>\n",
              "      <td>0.0</td>\n",
              "      <td>0.0</td>\n",
              "      <td>0.0</td>\n",
              "      <td>0.0</td>\n",
              "      <td>0.000000</td>\n",
              "      <td>0.0</td>\n",
              "      <td>0.0</td>\n",
              "      <td>0.0</td>\n",
              "      <td>0.0</td>\n",
              "      <td>0.0</td>\n",
              "      <td>0.0</td>\n",
              "      <td>0.0</td>\n",
              "      <td>0.0</td>\n",
              "      <td>...</td>\n",
              "      <td>0.0</td>\n",
              "      <td>0.0</td>\n",
              "      <td>0.0</td>\n",
              "      <td>0.0</td>\n",
              "      <td>0.0</td>\n",
              "      <td>0.0</td>\n",
              "      <td>0.0</td>\n",
              "      <td>0.0</td>\n",
              "      <td>0.0</td>\n",
              "      <td>0.0</td>\n",
              "      <td>0.0</td>\n",
              "      <td>0.0</td>\n",
              "      <td>0.0</td>\n",
              "      <td>0.0</td>\n",
              "      <td>0.0</td>\n",
              "      <td>0.0</td>\n",
              "      <td>0.0</td>\n",
              "      <td>0.0</td>\n",
              "      <td>0.0</td>\n",
              "      <td>0.0</td>\n",
              "      <td>0.0</td>\n",
              "      <td>0.0</td>\n",
              "      <td>0.0</td>\n",
              "      <td>0.0</td>\n",
              "      <td>0.0</td>\n",
              "      <td>0.0</td>\n",
              "      <td>0.0</td>\n",
              "      <td>0.0</td>\n",
              "      <td>0.0</td>\n",
              "      <td>0.0</td>\n",
              "      <td>0.0</td>\n",
              "      <td>0.0</td>\n",
              "      <td>0.000000</td>\n",
              "      <td>0.0</td>\n",
              "      <td>0.0</td>\n",
              "      <td>0.0</td>\n",
              "      <td>0.0</td>\n",
              "      <td>0.0</td>\n",
              "      <td>0.0</td>\n",
              "      <td>0.0</td>\n",
              "    </tr>\n",
              "    <tr>\n",
              "      <th>596</th>\n",
              "      <td>0.065004</td>\n",
              "      <td>0.0</td>\n",
              "      <td>0.0</td>\n",
              "      <td>0.0</td>\n",
              "      <td>0.0</td>\n",
              "      <td>0.0</td>\n",
              "      <td>0.0</td>\n",
              "      <td>0.0</td>\n",
              "      <td>0.0</td>\n",
              "      <td>0.0</td>\n",
              "      <td>0.0</td>\n",
              "      <td>0.0</td>\n",
              "      <td>0.0</td>\n",
              "      <td>0.0</td>\n",
              "      <td>0.0</td>\n",
              "      <td>0.0</td>\n",
              "      <td>0.0</td>\n",
              "      <td>0.0</td>\n",
              "      <td>0.0</td>\n",
              "      <td>0.0</td>\n",
              "      <td>0.0</td>\n",
              "      <td>0.0</td>\n",
              "      <td>0.0</td>\n",
              "      <td>0.000000</td>\n",
              "      <td>0.0</td>\n",
              "      <td>0.0</td>\n",
              "      <td>0.0</td>\n",
              "      <td>0.0</td>\n",
              "      <td>0.0</td>\n",
              "      <td>0.0</td>\n",
              "      <td>0.0</td>\n",
              "      <td>0.000000</td>\n",
              "      <td>0.0</td>\n",
              "      <td>0.0</td>\n",
              "      <td>0.0</td>\n",
              "      <td>0.0</td>\n",
              "      <td>0.0</td>\n",
              "      <td>0.0</td>\n",
              "      <td>0.0</td>\n",
              "      <td>0.0</td>\n",
              "      <td>...</td>\n",
              "      <td>0.0</td>\n",
              "      <td>0.0</td>\n",
              "      <td>0.0</td>\n",
              "      <td>0.0</td>\n",
              "      <td>0.0</td>\n",
              "      <td>0.0</td>\n",
              "      <td>0.0</td>\n",
              "      <td>0.0</td>\n",
              "      <td>0.0</td>\n",
              "      <td>0.0</td>\n",
              "      <td>0.0</td>\n",
              "      <td>0.0</td>\n",
              "      <td>0.0</td>\n",
              "      <td>0.0</td>\n",
              "      <td>0.0</td>\n",
              "      <td>0.0</td>\n",
              "      <td>0.0</td>\n",
              "      <td>0.0</td>\n",
              "      <td>0.0</td>\n",
              "      <td>0.0</td>\n",
              "      <td>0.0</td>\n",
              "      <td>0.0</td>\n",
              "      <td>0.0</td>\n",
              "      <td>0.0</td>\n",
              "      <td>0.0</td>\n",
              "      <td>0.0</td>\n",
              "      <td>0.0</td>\n",
              "      <td>0.0</td>\n",
              "      <td>0.0</td>\n",
              "      <td>0.0</td>\n",
              "      <td>0.0</td>\n",
              "      <td>0.0</td>\n",
              "      <td>0.000000</td>\n",
              "      <td>0.0</td>\n",
              "      <td>0.0</td>\n",
              "      <td>0.0</td>\n",
              "      <td>0.0</td>\n",
              "      <td>0.0</td>\n",
              "      <td>0.0</td>\n",
              "      <td>0.0</td>\n",
              "    </tr>\n",
              "    <tr>\n",
              "      <th>597</th>\n",
              "      <td>0.000000</td>\n",
              "      <td>0.0</td>\n",
              "      <td>0.0</td>\n",
              "      <td>0.0</td>\n",
              "      <td>0.0</td>\n",
              "      <td>0.0</td>\n",
              "      <td>0.0</td>\n",
              "      <td>0.0</td>\n",
              "      <td>0.0</td>\n",
              "      <td>0.0</td>\n",
              "      <td>0.0</td>\n",
              "      <td>0.0</td>\n",
              "      <td>0.0</td>\n",
              "      <td>0.0</td>\n",
              "      <td>0.0</td>\n",
              "      <td>0.0</td>\n",
              "      <td>0.0</td>\n",
              "      <td>0.0</td>\n",
              "      <td>0.0</td>\n",
              "      <td>0.0</td>\n",
              "      <td>0.0</td>\n",
              "      <td>0.0</td>\n",
              "      <td>0.0</td>\n",
              "      <td>0.000000</td>\n",
              "      <td>0.0</td>\n",
              "      <td>0.0</td>\n",
              "      <td>0.0</td>\n",
              "      <td>0.0</td>\n",
              "      <td>0.0</td>\n",
              "      <td>0.0</td>\n",
              "      <td>0.0</td>\n",
              "      <td>0.000000</td>\n",
              "      <td>0.0</td>\n",
              "      <td>0.0</td>\n",
              "      <td>0.0</td>\n",
              "      <td>0.0</td>\n",
              "      <td>0.0</td>\n",
              "      <td>0.0</td>\n",
              "      <td>0.0</td>\n",
              "      <td>0.0</td>\n",
              "      <td>...</td>\n",
              "      <td>0.0</td>\n",
              "      <td>0.0</td>\n",
              "      <td>0.0</td>\n",
              "      <td>0.0</td>\n",
              "      <td>0.0</td>\n",
              "      <td>0.0</td>\n",
              "      <td>0.0</td>\n",
              "      <td>0.0</td>\n",
              "      <td>0.0</td>\n",
              "      <td>0.0</td>\n",
              "      <td>0.0</td>\n",
              "      <td>0.0</td>\n",
              "      <td>0.0</td>\n",
              "      <td>0.0</td>\n",
              "      <td>0.0</td>\n",
              "      <td>0.0</td>\n",
              "      <td>0.0</td>\n",
              "      <td>0.0</td>\n",
              "      <td>0.0</td>\n",
              "      <td>0.0</td>\n",
              "      <td>0.0</td>\n",
              "      <td>0.0</td>\n",
              "      <td>0.0</td>\n",
              "      <td>0.0</td>\n",
              "      <td>0.0</td>\n",
              "      <td>0.0</td>\n",
              "      <td>0.0</td>\n",
              "      <td>0.0</td>\n",
              "      <td>0.0</td>\n",
              "      <td>0.0</td>\n",
              "      <td>0.0</td>\n",
              "      <td>0.0</td>\n",
              "      <td>0.000000</td>\n",
              "      <td>0.0</td>\n",
              "      <td>0.0</td>\n",
              "      <td>0.0</td>\n",
              "      <td>0.0</td>\n",
              "      <td>0.0</td>\n",
              "      <td>0.0</td>\n",
              "      <td>0.0</td>\n",
              "    </tr>\n",
              "    <tr>\n",
              "      <th>598</th>\n",
              "      <td>0.000000</td>\n",
              "      <td>0.0</td>\n",
              "      <td>0.0</td>\n",
              "      <td>0.0</td>\n",
              "      <td>0.0</td>\n",
              "      <td>0.0</td>\n",
              "      <td>0.0</td>\n",
              "      <td>0.0</td>\n",
              "      <td>0.0</td>\n",
              "      <td>0.0</td>\n",
              "      <td>0.0</td>\n",
              "      <td>0.0</td>\n",
              "      <td>0.0</td>\n",
              "      <td>0.0</td>\n",
              "      <td>0.0</td>\n",
              "      <td>0.0</td>\n",
              "      <td>0.0</td>\n",
              "      <td>0.0</td>\n",
              "      <td>0.0</td>\n",
              "      <td>0.0</td>\n",
              "      <td>0.0</td>\n",
              "      <td>0.0</td>\n",
              "      <td>0.0</td>\n",
              "      <td>0.000000</td>\n",
              "      <td>0.0</td>\n",
              "      <td>0.0</td>\n",
              "      <td>0.0</td>\n",
              "      <td>0.0</td>\n",
              "      <td>0.0</td>\n",
              "      <td>0.0</td>\n",
              "      <td>0.0</td>\n",
              "      <td>0.000000</td>\n",
              "      <td>0.0</td>\n",
              "      <td>0.0</td>\n",
              "      <td>0.0</td>\n",
              "      <td>0.0</td>\n",
              "      <td>0.0</td>\n",
              "      <td>0.0</td>\n",
              "      <td>0.0</td>\n",
              "      <td>0.0</td>\n",
              "      <td>...</td>\n",
              "      <td>0.0</td>\n",
              "      <td>0.0</td>\n",
              "      <td>0.0</td>\n",
              "      <td>0.0</td>\n",
              "      <td>0.0</td>\n",
              "      <td>0.0</td>\n",
              "      <td>0.0</td>\n",
              "      <td>0.0</td>\n",
              "      <td>0.0</td>\n",
              "      <td>0.0</td>\n",
              "      <td>0.0</td>\n",
              "      <td>0.0</td>\n",
              "      <td>0.0</td>\n",
              "      <td>0.0</td>\n",
              "      <td>0.0</td>\n",
              "      <td>0.0</td>\n",
              "      <td>0.0</td>\n",
              "      <td>0.0</td>\n",
              "      <td>0.0</td>\n",
              "      <td>0.0</td>\n",
              "      <td>0.0</td>\n",
              "      <td>0.0</td>\n",
              "      <td>0.0</td>\n",
              "      <td>0.0</td>\n",
              "      <td>0.0</td>\n",
              "      <td>0.0</td>\n",
              "      <td>0.0</td>\n",
              "      <td>0.0</td>\n",
              "      <td>0.0</td>\n",
              "      <td>0.0</td>\n",
              "      <td>0.0</td>\n",
              "      <td>0.0</td>\n",
              "      <td>0.000000</td>\n",
              "      <td>0.0</td>\n",
              "      <td>0.0</td>\n",
              "      <td>0.0</td>\n",
              "      <td>0.0</td>\n",
              "      <td>0.0</td>\n",
              "      <td>0.0</td>\n",
              "      <td>0.0</td>\n",
              "    </tr>\n",
              "    <tr>\n",
              "      <th>599</th>\n",
              "      <td>0.000000</td>\n",
              "      <td>0.0</td>\n",
              "      <td>0.0</td>\n",
              "      <td>0.0</td>\n",
              "      <td>0.0</td>\n",
              "      <td>0.0</td>\n",
              "      <td>0.0</td>\n",
              "      <td>0.0</td>\n",
              "      <td>0.0</td>\n",
              "      <td>0.0</td>\n",
              "      <td>0.0</td>\n",
              "      <td>0.0</td>\n",
              "      <td>0.0</td>\n",
              "      <td>0.0</td>\n",
              "      <td>0.0</td>\n",
              "      <td>0.0</td>\n",
              "      <td>0.0</td>\n",
              "      <td>0.0</td>\n",
              "      <td>0.0</td>\n",
              "      <td>0.0</td>\n",
              "      <td>0.0</td>\n",
              "      <td>0.0</td>\n",
              "      <td>0.0</td>\n",
              "      <td>0.000000</td>\n",
              "      <td>0.0</td>\n",
              "      <td>0.0</td>\n",
              "      <td>0.0</td>\n",
              "      <td>0.0</td>\n",
              "      <td>0.0</td>\n",
              "      <td>0.0</td>\n",
              "      <td>0.0</td>\n",
              "      <td>0.096785</td>\n",
              "      <td>0.0</td>\n",
              "      <td>0.0</td>\n",
              "      <td>0.0</td>\n",
              "      <td>0.0</td>\n",
              "      <td>0.0</td>\n",
              "      <td>0.0</td>\n",
              "      <td>0.0</td>\n",
              "      <td>0.0</td>\n",
              "      <td>...</td>\n",
              "      <td>0.0</td>\n",
              "      <td>0.0</td>\n",
              "      <td>0.0</td>\n",
              "      <td>0.0</td>\n",
              "      <td>0.0</td>\n",
              "      <td>0.0</td>\n",
              "      <td>0.0</td>\n",
              "      <td>0.0</td>\n",
              "      <td>0.0</td>\n",
              "      <td>0.0</td>\n",
              "      <td>0.0</td>\n",
              "      <td>0.0</td>\n",
              "      <td>0.0</td>\n",
              "      <td>0.0</td>\n",
              "      <td>0.0</td>\n",
              "      <td>0.0</td>\n",
              "      <td>0.0</td>\n",
              "      <td>0.0</td>\n",
              "      <td>0.0</td>\n",
              "      <td>0.0</td>\n",
              "      <td>0.0</td>\n",
              "      <td>0.0</td>\n",
              "      <td>0.0</td>\n",
              "      <td>0.0</td>\n",
              "      <td>0.0</td>\n",
              "      <td>0.0</td>\n",
              "      <td>0.0</td>\n",
              "      <td>0.0</td>\n",
              "      <td>0.0</td>\n",
              "      <td>0.0</td>\n",
              "      <td>0.0</td>\n",
              "      <td>0.0</td>\n",
              "      <td>0.000000</td>\n",
              "      <td>0.0</td>\n",
              "      <td>0.0</td>\n",
              "      <td>0.0</td>\n",
              "      <td>0.0</td>\n",
              "      <td>0.0</td>\n",
              "      <td>0.0</td>\n",
              "      <td>0.0</td>\n",
              "    </tr>\n",
              "  </tbody>\n",
              "</table>\n",
              "<p>600 rows × 13120 columns</p>\n",
              "</div>\n",
              "      <button class=\"colab-df-convert\" onclick=\"convertToInteractive('df-94921942-a962-4947-8333-9f3841e562da')\"\n",
              "              title=\"Convert this dataframe to an interactive table.\"\n",
              "              style=\"display:none;\">\n",
              "        \n",
              "  <svg xmlns=\"http://www.w3.org/2000/svg\" height=\"24px\"viewBox=\"0 0 24 24\"\n",
              "       width=\"24px\">\n",
              "    <path d=\"M0 0h24v24H0V0z\" fill=\"none\"/>\n",
              "    <path d=\"M18.56 5.44l.94 2.06.94-2.06 2.06-.94-2.06-.94-.94-2.06-.94 2.06-2.06.94zm-11 1L8.5 8.5l.94-2.06 2.06-.94-2.06-.94L8.5 2.5l-.94 2.06-2.06.94zm10 10l.94 2.06.94-2.06 2.06-.94-2.06-.94-.94-2.06-.94 2.06-2.06.94z\"/><path d=\"M17.41 7.96l-1.37-1.37c-.4-.4-.92-.59-1.43-.59-.52 0-1.04.2-1.43.59L10.3 9.45l-7.72 7.72c-.78.78-.78 2.05 0 2.83L4 21.41c.39.39.9.59 1.41.59.51 0 1.02-.2 1.41-.59l7.78-7.78 2.81-2.81c.8-.78.8-2.07 0-2.86zM5.41 20L4 18.59l7.72-7.72 1.47 1.35L5.41 20z\"/>\n",
              "  </svg>\n",
              "      </button>\n",
              "      \n",
              "  <style>\n",
              "    .colab-df-container {\n",
              "      display:flex;\n",
              "      flex-wrap:wrap;\n",
              "      gap: 12px;\n",
              "    }\n",
              "\n",
              "    .colab-df-convert {\n",
              "      background-color: #E8F0FE;\n",
              "      border: none;\n",
              "      border-radius: 50%;\n",
              "      cursor: pointer;\n",
              "      display: none;\n",
              "      fill: #1967D2;\n",
              "      height: 32px;\n",
              "      padding: 0 0 0 0;\n",
              "      width: 32px;\n",
              "    }\n",
              "\n",
              "    .colab-df-convert:hover {\n",
              "      background-color: #E2EBFA;\n",
              "      box-shadow: 0px 1px 2px rgba(60, 64, 67, 0.3), 0px 1px 3px 1px rgba(60, 64, 67, 0.15);\n",
              "      fill: #174EA6;\n",
              "    }\n",
              "\n",
              "    [theme=dark] .colab-df-convert {\n",
              "      background-color: #3B4455;\n",
              "      fill: #D2E3FC;\n",
              "    }\n",
              "\n",
              "    [theme=dark] .colab-df-convert:hover {\n",
              "      background-color: #434B5C;\n",
              "      box-shadow: 0px 1px 3px 1px rgba(0, 0, 0, 0.15);\n",
              "      filter: drop-shadow(0px 1px 2px rgba(0, 0, 0, 0.3));\n",
              "      fill: #FFFFFF;\n",
              "    }\n",
              "  </style>\n",
              "\n",
              "      <script>\n",
              "        const buttonEl =\n",
              "          document.querySelector('#df-94921942-a962-4947-8333-9f3841e562da button.colab-df-convert');\n",
              "        buttonEl.style.display =\n",
              "          google.colab.kernel.accessAllowed ? 'block' : 'none';\n",
              "\n",
              "        async function convertToInteractive(key) {\n",
              "          const element = document.querySelector('#df-94921942-a962-4947-8333-9f3841e562da');\n",
              "          const dataTable =\n",
              "            await google.colab.kernel.invokeFunction('convertToInteractive',\n",
              "                                                     [key], {});\n",
              "          if (!dataTable) return;\n",
              "\n",
              "          const docLinkHtml = 'Like what you see? Visit the ' +\n",
              "            '<a target=\"_blank\" href=https://colab.research.google.com/notebooks/data_table.ipynb>data table notebook</a>'\n",
              "            + ' to learn more about interactive tables.';\n",
              "          element.innerHTML = '';\n",
              "          dataTable['output_type'] = 'display_data';\n",
              "          await google.colab.output.renderOutput(dataTable, element);\n",
              "          const docLink = document.createElement('div');\n",
              "          docLink.innerHTML = docLinkHtml;\n",
              "          element.appendChild(docLink);\n",
              "        }\n",
              "      </script>\n",
              "    </div>\n",
              "  </div>\n",
              "  "
            ],
            "text/plain": [
              "           00  000   01   02  024  ...  zoomey  zooming  zooms  zx2  zx3\n",
              "0    0.000000  0.0  0.0  0.0  0.0  ...     0.0      0.0    0.0  0.0  0.0\n",
              "1    0.000000  0.0  0.0  0.0  0.0  ...     0.0      0.0    0.0  0.0  0.0\n",
              "2    0.000000  0.0  0.0  0.0  0.0  ...     0.0      0.0    0.0  0.0  0.0\n",
              "3    0.000000  0.0  0.0  0.0  0.0  ...     0.0      0.0    0.0  0.0  0.0\n",
              "4    0.000000  0.0  0.0  0.0  0.0  ...     0.0      0.0    0.0  0.0  0.0\n",
              "..        ...  ...  ...  ...  ...  ...     ...      ...    ...  ...  ...\n",
              "595  0.000000  0.0  0.0  0.0  0.0  ...     0.0      0.0    0.0  0.0  0.0\n",
              "596  0.065004  0.0  0.0  0.0  0.0  ...     0.0      0.0    0.0  0.0  0.0\n",
              "597  0.000000  0.0  0.0  0.0  0.0  ...     0.0      0.0    0.0  0.0  0.0\n",
              "598  0.000000  0.0  0.0  0.0  0.0  ...     0.0      0.0    0.0  0.0  0.0\n",
              "599  0.000000  0.0  0.0  0.0  0.0  ...     0.0      0.0    0.0  0.0  0.0\n",
              "\n",
              "[600 rows x 13120 columns]"
            ]
          },
          "metadata": {},
          "execution_count": 17
        }
      ]
    },
    {
      "cell_type": "markdown",
      "source": [
        "##Feature selection of TF-IDF output"
      ],
      "metadata": {
        "id": "NEK5QI2bQB17"
      }
    },
    {
      "cell_type": "markdown",
      "source": [
        "We execute the **SelectKBest** algorithm to get the **most relevant features** of the **output of the TDIDF vectorizer**\n"
      ],
      "metadata": {
        "id": "HWFZhLO71wG4"
      }
    },
    {
      "cell_type": "code",
      "source": [
        "selector = SelectKBest(score_func=chi2,k=round((df_output_tfidf.shape[1] * 30)/100))\n",
        "output_tfidf_new = selector.fit_transform(df_output_tfidf, comments[\"class\"])"
      ],
      "metadata": {
        "id": "fBKqqQtcQE66"
      },
      "execution_count": null,
      "outputs": []
    },
    {
      "cell_type": "markdown",
      "source": [
        "We convert the results to a **dataframe** in order to get a **valid input** data for the **classification model**."
      ],
      "metadata": {
        "id": "zBjPA-pg2JNo"
      }
    },
    {
      "cell_type": "code",
      "source": [
        "selected_indexes = selector.get_support()\n",
        "selected_columns = []\n",
        "column_names = df_output_tfidf.columns\n",
        "dataframes = []\n",
        "for i in range(df_output_tfidf.shape[1]):\n",
        "  if selected_indexes[i] == True:\n",
        "    aux = []\n",
        "    aux.append(df_output_tfidf.iloc[:,i].tolist())\n",
        "\n",
        "    dataframes.append(pd.DataFrame(aux, [column_names[i]]).transpose())\n",
        "\n",
        "selected_features = pd.concat(dataframes, axis=1)"
      ],
      "metadata": {
        "id": "FrM7oycrX1D-"
      },
      "execution_count": null,
      "outputs": []
    },
    {
      "cell_type": "markdown",
      "source": [
        "We saved it as a **pickle file**"
      ],
      "metadata": {
        "id": "s3N8t6PY2gY9"
      }
    },
    {
      "cell_type": "code",
      "source": [
        "selected_features.to_pickle('./selected_features_task2.pkl')"
      ],
      "metadata": {
        "id": "28vmHh-LYiZ4"
      },
      "execution_count": null,
      "outputs": []
    },
    {
      "cell_type": "markdown",
      "source": [
        "##SVM for TF-IDF output"
      ],
      "metadata": {
        "id": "WICmkzMERNBS"
      }
    },
    {
      "cell_type": "markdown",
      "source": [
        "We divide the dataset into a percentage of **70 for the training** and **30 for the test**, as we have decided to divide it in this way, so the algorithm has more training and will give us good results in the test."
      ],
      "metadata": {
        "id": "KF4uKu7z2r13"
      }
    },
    {
      "cell_type": "code",
      "source": [
        "X_train, X_test, y_train, y_test = model_selection.train_test_split(selected_features, comments[\"class\"], test_size=0.3, shuffle=True)"
      ],
      "metadata": {
        "id": "vyxraArjRjPr"
      },
      "execution_count": null,
      "outputs": []
    },
    {
      "cell_type": "markdown",
      "source": [
        "We **execute** the **Support Vector Machine.**"
      ],
      "metadata": {
        "id": "aSmWmm0g29jR"
      }
    },
    {
      "cell_type": "code",
      "source": [
        "SVM = svm.SVC(kernel='linear', gamma='auto') # SVM Model Definition\n",
        "SVM.fit(X_train,y_train) # Training the model\n",
        "\n",
        "result = SVM.predict(X_test)"
      ],
      "metadata": {
        "id": "ckpyzDrjRQUu"
      },
      "execution_count": null,
      "outputs": []
    },
    {
      "cell_type": "markdown",
      "source": [
        "We calculate **evaluation metrics** returning the true negatives, false positives, false negatives and true positives."
      ],
      "metadata": {
        "id": "WY4X-tlm3K_m"
      }
    },
    {
      "cell_type": "code",
      "source": [
        "tn, fp, fn, tp  = confusion_matrix(y_test, result).ravel()\n",
        "\n",
        "calculate_metrics(tp, fp, tn, fn)"
      ],
      "metadata": {
        "colab": {
          "base_uri": "https://localhost:8080/"
        },
        "id": "rjGaemSwO-9A",
        "outputId": "6b2ba0c2-1983-4c1c-c4c0-f67a6c9d7916"
      },
      "execution_count": null,
      "outputs": [
        {
          "output_type": "stream",
          "name": "stdout",
          "text": [
            "Precision 1.0\n",
            "Recall 1.0\n",
            "Accuracy 1.0\n",
            "F-Measure 1.0\n"
          ]
        }
      ]
    },
    {
      "cell_type": "markdown",
      "source": [
        "We **visualize the confusion matrix** with the metrics obtained in SVM."
      ],
      "metadata": {
        "id": "gf-8FqcB3dvX"
      }
    },
    {
      "cell_type": "code",
      "source": [
        "#SVM ya debe estar entrenado\n",
        "disp = plot_confusion_matrix(SVM, X_test, y_test, display_labels=[\"Camera\", \"Auto\"],cmap=plt.cm.Blues) \n",
        "plt.show()\n",
        "print(disp.confusion_matrix)"
      ],
      "metadata": {
        "colab": {
          "base_uri": "https://localhost:8080/",
          "height": 371
        },
        "id": "ybzz7MNAPI9i",
        "outputId": "0841e7d8-13aa-4c2c-9bfa-739523a287e8"
      },
      "execution_count": null,
      "outputs": [
        {
          "output_type": "stream",
          "name": "stderr",
          "text": [
            "/usr/local/lib/python3.7/dist-packages/sklearn/utils/deprecation.py:87: FutureWarning: Function plot_confusion_matrix is deprecated; Function `plot_confusion_matrix` is deprecated in 1.0 and will be removed in 1.2. Use one of the class methods: ConfusionMatrixDisplay.from_predictions or ConfusionMatrixDisplay.from_estimator.\n",
            "  warnings.warn(msg, category=FutureWarning)\n"
          ]
        },
        {
          "output_type": "display_data",
          "data": {
            "image/png": "[encoded data removed]",
            "text/plain": [
              "<Figure size 432x288 with 2 Axes>"
            ]
          },
          "metadata": {
            "needs_background": "light"
          }
        },
        {
          "output_type": "stream",
          "name": "stdout",
          "text": [
            "[[ 79   0]\n",
            " [  0 101]]\n"
          ]
        }
      ]
    },
    {
      "cell_type": "markdown",
      "source": [
        "As we have seen, there are **79 true positives of camera class** and **101 true positives of auto class**."
      ],
      "metadata": {
        "id": "f7xMT_1y3s7S"
      }
    },
    {
      "cell_type": "markdown",
      "source": [
        "##Decision tree for TF-IDF output"
      ],
      "metadata": {
        "id": "fJQ_7BxUvnVE"
      }
    },
    {
      "cell_type": "code",
      "source": [
        "selected_features = pd.read_pickle('./selected_features_task2.pkl')"
      ],
      "metadata": {
        "id": "9U-6SCRPxucH"
      },
      "execution_count": null,
      "outputs": []
    },
    {
      "cell_type": "markdown",
      "source": [
        "We divide the data into **70% of train and 30% of test**."
      ],
      "metadata": {
        "id": "jjb50Fi54A_2"
      }
    },
    {
      "cell_type": "code",
      "source": [
        "X_train, X_test, y_train, y_test = model_selection.train_test_split(selected_features, numerical_class, test_size=0.3, shuffle=True)"
      ],
      "metadata": {
        "id": "DsCZs-2fxjrC"
      },
      "execution_count": null,
      "outputs": []
    },
    {
      "cell_type": "markdown",
      "source": [
        "We try the **DecissionTreeRegresor** with a **max_depth** value from **1 to 30.**"
      ],
      "metadata": {
        "id": "-InoVnN74Nri"
      }
    },
    {
      "cell_type": "code",
      "source": [
        "cv = KFold(n_splits = 10, shuffle = True)\n",
        "total_scores = []\n",
        "for i in range(1,30):\n",
        "       fold_mae = []\n",
        "       regr = tree.DecisionTreeRegressor(max_depth=i)\n",
        "       for train_fold, test_fold in cv.split(X_train):\n",
        "          # División train test aleatoria\n",
        "          # train\n",
        "          fx_train = X_train.iloc[train_fold]\n",
        "          fy_train = y_train.iloc[train_fold]\n",
        "          # test\n",
        "          fx_test = X_train.iloc[test_fold]\n",
        "          fy_test = y_train.iloc[test_fold]\n",
        "\n",
        "          # entrenamiento y ejecución del modelo\n",
        "          regr.fit(fx_train, fy_train)\n",
        "          y_pred = regr.predict(fx_test)\n",
        "          # evaluación del modelo\n",
        "          mae = mean_absolute_error(fy_test, y_pred)\n",
        "          fold_mae.append(mae)\n",
        "       total_scores.append(sum(fold_mae)/len(fold_mae))\n",
        "      \n",
        "      \n",
        "plt.plot(range(1,len(total_scores)+1), total_scores, \n",
        "           marker='o')\n",
        "print ('Min Value : ' +  str(min(total_scores)) +\" (\" + str(np.argmin(total_scores) + 1) + \")\")\n",
        "plt.ylabel('MAE')      \n",
        "plt.legend()\n",
        "plt.show() "
      ],
      "metadata": {
        "colab": {
          "base_uri": "https://localhost:8080/",
          "height": 304
        },
        "id": "mc6ZKvM0v4RO",
        "outputId": "52394d51-09c2-43ec-bdaf-207ba2c7f23d"
      },
      "execution_count": null,
      "outputs": [
        {
          "output_type": "stream",
          "name": "stderr",
          "text": [
            "No handles with labels found to put in legend.\n"
          ]
        },
        {
          "output_type": "stream",
          "name": "stdout",
          "text": [
            "Min Value : 0.009523809523809523 (3)\n"
          ]
        },
        {
          "output_type": "display_data",
          "data": {
            "image/png": "[encoded data removed]",
            "text/plain": [
              "<Figure size 432x288 with 1 Axes>"
            ]
          },
          "metadata": {
            "needs_background": "light"
          }
        }
      ]
    },
    {
      "cell_type": "markdown",
      "source": [
        "We execute the **DecisionTreeRegressor** with a **max_depth** value of **4**"
      ],
      "metadata": {
        "id": "Kji7YScs4fgR"
      }
    },
    {
      "cell_type": "code",
      "source": [
        "regr = tree.DecisionTreeRegressor(max_depth = 4)\n",
        "regr.fit(fx_train, fy_train)"
      ],
      "metadata": {
        "colab": {
          "base_uri": "https://localhost:8080/"
        },
        "id": "zFjBchx7zA03",
        "outputId": "c520ad98-c235-4fdb-aef6-83229002e40e"
      },
      "execution_count": null,
      "outputs": [
        {
          "output_type": "execute_result",
          "data": {
            "text/plain": [
              "DecisionTreeRegressor(max_depth=4)"
            ]
          },
          "metadata": {},
          "execution_count": 24
        }
      ]
    },
    {
      "cell_type": "code",
      "source": [
        "y_pred = regr.predict(X_test)"
      ],
      "metadata": {
        "id": "QFEaMLurzb8R"
      },
      "execution_count": null,
      "outputs": []
    },
    {
      "cell_type": "markdown",
      "source": [
        "We **visualize the results**"
      ],
      "metadata": {
        "id": "DrjrMNVh4qXq"
      }
    },
    {
      "cell_type": "code",
      "source": [
        "# x axis for plotting\n",
        "xx = np.stack(i for i in range(y_test.shape[0]))\n",
        "plt.plot(xx, y_test, c='r', label='data')\n",
        "#plt.plot(xx, y, c='k', label='data')\n",
        "plt.plot(xx, y_pred, c='g', label='prediction')\n",
        "plt.axis('tight')\n",
        "plt.legend()\n",
        "plt.title(\"DecisionTreeRegressor\")\n",
        "\n",
        "plt.show()"
      ],
      "metadata": {
        "colab": {
          "base_uri": "https://localhost:8080/",
          "height": 336
        },
        "id": "NRIup4npzk3J",
        "outputId": "608f6ca8-381f-40f6-bf89-5fb834a2907b"
      },
      "execution_count": null,
      "outputs": [
        {
          "output_type": "stream",
          "name": "stderr",
          "text": [
            "/usr/local/lib/python3.7/dist-packages/IPython/core/interactiveshell.py:2822: FutureWarning: arrays to stack must be passed as a \"sequence\" type such as list or tuple. Support for non-sequence iterables such as generators is deprecated as of NumPy 1.16 and will raise an error in the future.\n",
            "  if self.run_code(code, result):\n"
          ]
        },
        {
          "output_type": "display_data",
          "data": {
            "image/png": "[encoded data removed]",
            "text/plain": [
              "<Figure size 432x288 with 1 Axes>"
            ]
          },
          "metadata": {
            "needs_background": "light"
          }
        }
      ]
    },
    {
      "cell_type": "markdown",
      "source": [
        "##TFIDF + N-GRAM\n",
        "\n"
      ],
      "metadata": {
        "id": "HaFVvdFwsUMH"
      }
    },
    {
      "cell_type": "markdown",
      "source": [
        "We calculate the vectorization of the text by using a standard **TFIDF vectorizer** and a **ngram_range** from **1 to 3**. It returns the **relevance of each 1 to 3 word combinations** keeping in mind the document each combination appears and the rest of the documents in the collection."
      ],
      "metadata": {
        "id": "HRp4srRf4-kG"
      }
    },
    {
      "cell_type": "code",
      "source": [
        "vectorizer = TfidfVectorizer(ngram_range=(1,3))\n",
        "output_tfidf_ngram = vectorizer.fit_transform(comments[\"text\"].tolist())\n",
        "\n",
        "df_output_tfidf_ngram=pandas.DataFrame(output_tfidf_ngram.toarray(), columns=vectorizer.get_feature_names())"
      ],
      "metadata": {
        "colab": {
          "base_uri": "https://localhost:8080/"
        },
        "id": "dnmDflLyodIC",
        "outputId": "4b39977f-0c8f-403c-aeb0-ff7bf01a7fc3"
      },
      "execution_count": null,
      "outputs": [
        {
          "output_type": "stream",
          "name": "stderr",
          "text": [
            "/usr/local/lib/python3.7/dist-packages/sklearn/utils/deprecation.py:87: FutureWarning: Function get_feature_names is deprecated; get_feature_names is deprecated in 1.0 and will be removed in 1.2. Please use get_feature_names_out instead.\n",
            "  warnings.warn(msg, category=FutureWarning)\n"
          ]
        }
      ]
    },
    {
      "cell_type": "markdown",
      "source": [
        "##Feature selection of TF-IDF + N-GRAM output"
      ],
      "metadata": {
        "id": "TBOGjkZVSUi7"
      }
    },
    {
      "cell_type": "markdown",
      "source": [
        "We execute the **SelectKBest** algorithm to get the **most relevant features** of the **output of the TDIDF vectorizer with the 1 to 3 ngrams**"
      ],
      "metadata": {
        "id": "rC05uGuO5y0P"
      }
    },
    {
      "cell_type": "code",
      "source": [
        "selector = SelectKBest(score_func=chi2,k=round((df_output_tfidf_ngram.shape[1] * 30)/100))\n",
        "output_tfidf_ngram_new = selector.fit_transform(df_output_tfidf_ngram, comments[\"class\"])"
      ],
      "metadata": {
        "id": "6J9QyOqdSSmn"
      },
      "execution_count": null,
      "outputs": []
    },
    {
      "cell_type": "markdown",
      "source": [
        "We convert the results to a **dataframe** in order to get a **valid input** data for the **classification model**."
      ],
      "metadata": {
        "id": "Gfi-YVFM6Nzh"
      }
    },
    {
      "cell_type": "code",
      "source": [
        "selected_features_ngram = pd.DataFrame(output_tfidf_ngram_new)"
      ],
      "metadata": {
        "id": "2ylvrC_HSnAD"
      },
      "execution_count": null,
      "outputs": []
    },
    {
      "cell_type": "markdown",
      "source": [
        "##SVM for TFIDF + N-GRAM output"
      ],
      "metadata": {
        "id": "3kf7i11yS6xg"
      }
    },
    {
      "cell_type": "markdown",
      "source": [
        "We divide the dataset into a percentage of **70 for the training** and **30 for the test** again"
      ],
      "metadata": {
        "id": "hqn9Eojm69wG"
      }
    },
    {
      "cell_type": "code",
      "source": [
        "X_train, X_test, y_train, y_test = model_selection.train_test_split(selected_features_ngram, comments[\"class\"], test_size=0.3, shuffle=True)"
      ],
      "metadata": {
        "id": "Bqw0OdfHS-Wh"
      },
      "execution_count": null,
      "outputs": []
    },
    {
      "cell_type": "markdown",
      "source": [
        "We **execute** the **Support Vector Machine**"
      ],
      "metadata": {
        "id": "i39NgOr77HGj"
      }
    },
    {
      "cell_type": "code",
      "source": [
        "SVM = svm.SVC(kernel='linear', gamma='auto') # SVM Model Definition\n",
        "SVM.fit(X_train,y_train) # Training the model\n",
        "\n",
        "result = SVM.predict(X_test)"
      ],
      "metadata": {
        "id": "dwgX6xjVTERT"
      },
      "execution_count": null,
      "outputs": []
    },
    {
      "cell_type": "markdown",
      "source": [
        "We calculate **evaluation metrics** returning the true negatives, false positives, false negatives and true positives."
      ],
      "metadata": {
        "id": "64EVoXt-7iYO"
      }
    },
    {
      "cell_type": "code",
      "source": [
        "tn, fp, fn, tp  = confusion_matrix(y_test, result).ravel()\n",
        "\n",
        "calculate_metrics(tp, fp, tn, fn)"
      ],
      "metadata": {
        "colab": {
          "base_uri": "https://localhost:8080/"
        },
        "id": "oxxF2G7ETSTh",
        "outputId": "b5bdd376-38bc-499b-ac72-265818ade3c2"
      },
      "execution_count": null,
      "outputs": [
        {
          "output_type": "stream",
          "name": "stdout",
          "text": [
            "Precision 1.0\n",
            "Recall 1.0\n",
            "Accuracy 1.0\n",
            "F-Measure 1.0\n"
          ]
        }
      ]
    },
    {
      "cell_type": "markdown",
      "source": [
        "We **visualize the confusion matrix** with the metrics obtained in SVM."
      ],
      "metadata": {
        "id": "QBW2C5T47w8T"
      }
    },
    {
      "cell_type": "code",
      "source": [
        "disp = plot_confusion_matrix(SVM, X_test, y_test, display_labels=[\"Camera\", \"Auto\"],cmap=plt.cm.Blues) \n",
        "plt.show()\n",
        "print(disp.confusion_matrix)"
      ],
      "metadata": {
        "colab": {
          "base_uri": "https://localhost:8080/",
          "height": 369
        },
        "id": "WLy_z1-4TV1i",
        "outputId": "57be6153-6198-4bf6-d82e-d6282b9c713c"
      },
      "execution_count": null,
      "outputs": [
        {
          "output_type": "stream",
          "name": "stderr",
          "text": [
            "/usr/local/lib/python3.7/dist-packages/sklearn/utils/deprecation.py:87: FutureWarning: Function plot_confusion_matrix is deprecated; Function `plot_confusion_matrix` is deprecated in 1.0 and will be removed in 1.2. Use one of the class methods: ConfusionMatrixDisplay.from_predictions or ConfusionMatrixDisplay.from_estimator.\n",
            "  warnings.warn(msg, category=FutureWarning)\n"
          ]
        },
        {
          "output_type": "display_data",
          "data": {
            "image/png": "[encoded data removed]",
            "text/plain": [
              "<Figure size 432x288 with 2 Axes>"
            ]
          },
          "metadata": {
            "needs_background": "light"
          }
        },
        {
          "output_type": "stream",
          "name": "stdout",
          "text": [
            "[[ 76   0]\n",
            " [  0 104]]\n"
          ]
        }
      ]
    },
    {
      "cell_type": "markdown",
      "source": [
        "As we have seen, there are **76 true positives of camera class** and **104 true positives of auto class**."
      ],
      "metadata": {
        "id": "DarR_Wl-8EpB"
      }
    },
    {
      "cell_type": "markdown",
      "source": [
        "##Decision tree for TFIDF + N-GRAM output"
      ],
      "metadata": {
        "id": "x_jiNJ-ZY6XW"
      }
    },
    {
      "cell_type": "markdown",
      "source": [
        "We divide the data into **70% of train and 30% of test** again."
      ],
      "metadata": {
        "id": "37kFWYFP8XRc"
      }
    },
    {
      "cell_type": "code",
      "source": [
        "X_train, X_test, y_train, y_test = model_selection.train_test_split(selected_features_ngram, numerical_class, test_size=0.3, shuffle=True)"
      ],
      "metadata": {
        "id": "KSYL4YsLY9r5"
      },
      "execution_count": null,
      "outputs": []
    },
    {
      "cell_type": "markdown",
      "source": [
        "We try the **DecissionTreeRegresor** with a **max_depth** value from **1 to 5.**"
      ],
      "metadata": {
        "id": "smg6liUT9Eav"
      }
    },
    {
      "cell_type": "code",
      "source": [
        "cv = KFold(n_splits = 10, shuffle = True)\n",
        "total_scores = []\n",
        "for i in range(1,5):\n",
        "       fold_mae = []\n",
        "       regr = tree.DecisionTreeRegressor(max_depth=i)\n",
        "       for train_fold, test_fold in cv.split(X_train):\n",
        "          # División train test aleatoria\n",
        "          # train\n",
        "          fx_train = X_train.iloc[train_fold]\n",
        "          fy_train = y_train.iloc[train_fold]\n",
        "          # test\n",
        "          fx_test = X_train.iloc[test_fold]\n",
        "          fy_test = y_train.iloc[test_fold]\n",
        "\n",
        "          # entrenamiento y ejecución del modelo\n",
        "          regr.fit(fx_train, fy_train)\n",
        "          y_pred = regr.predict(fx_test)\n",
        "          # evaluación del modelo\n",
        "          mae = mean_absolute_error(fy_test, y_pred)\n",
        "          fold_mae.append(mae)\n",
        "       total_scores.append(sum(fold_mae)/len(fold_mae))\n",
        "      \n",
        "      \n",
        "plt.plot(range(1,len(total_scores)+1), total_scores, \n",
        "           marker='o')\n",
        "print ('Min Value : ' +  str(min(total_scores)) +\" (\" + str(np.argmin(total_scores) + 1) + \")\")\n",
        "plt.ylabel('MAE')      \n",
        "plt.legend()\n",
        "plt.show() "
      ],
      "metadata": {
        "colab": {
          "base_uri": "https://localhost:8080/",
          "height": 300
        },
        "id": "zmjAoQSfZnKn",
        "outputId": "5ef11beb-bddf-499e-c763-9e165cb2c3f5"
      },
      "execution_count": null,
      "outputs": [
        {
          "output_type": "stream",
          "name": "stderr",
          "text": [
            "No handles with labels found to put in legend.\n"
          ]
        },
        {
          "output_type": "stream",
          "name": "stdout",
          "text": [
            "Min Value : 0.011904761904761904 (2)\n"
          ]
        },
        {
          "output_type": "display_data",
          "data": {
            "image/png": "[encoded data removed]",
            "text/plain": [
              "<Figure size 432x288 with 1 Axes>"
            ]
          },
          "metadata": {
            "needs_background": "light"
          }
        }
      ]
    },
    {
      "cell_type": "markdown",
      "source": [
        "We execute the **DecisionTreeRegressor** with a **max_depth** value of **2**"
      ],
      "metadata": {
        "id": "XCpM77ql9Y88"
      }
    },
    {
      "cell_type": "code",
      "source": [
        "regr = tree.DecisionTreeRegressor(max_depth = 2)\n",
        "regr.fit(fx_train, fy_train)"
      ],
      "metadata": {
        "colab": {
          "base_uri": "https://localhost:8080/"
        },
        "id": "nIsdJ-37ZrrK",
        "outputId": "e2dda0a4-9496-4ed9-e32e-5e6e29142c91"
      },
      "execution_count": null,
      "outputs": [
        {
          "output_type": "execute_result",
          "data": {
            "text/plain": [
              "DecisionTreeRegressor(max_depth=2)"
            ]
          },
          "metadata": {},
          "execution_count": 12
        }
      ]
    },
    {
      "cell_type": "code",
      "source": [
        "y_pred = regr.predict(X_test)"
      ],
      "metadata": {
        "id": "trVuZYqLZvpv"
      },
      "execution_count": null,
      "outputs": []
    },
    {
      "cell_type": "markdown",
      "source": [
        "We **visualize the results**"
      ],
      "metadata": {
        "id": "IXxTiQ269cB5"
      }
    },
    {
      "cell_type": "code",
      "source": [
        "# x axis for plotting\n",
        "xx = np.stack(i for i in range(y_test.shape[0]))\n",
        "plt.plot(xx, y_test, c='r', label='data')\n",
        "#plt.plot(xx, y, c='k', label='data')\n",
        "plt.plot(xx, y_pred, c='g', label='prediction')\n",
        "plt.axis('tight')\n",
        "plt.legend()\n",
        "plt.title(\"DecisionTreeRegressor\")\n",
        "\n",
        "plt.show()"
      ],
      "metadata": {
        "colab": {
          "base_uri": "https://localhost:8080/",
          "height": 336
        },
        "id": "DPbgUsIKZyel",
        "outputId": "51080396-3894-4679-87b0-58a58e2135fc"
      },
      "execution_count": null,
      "outputs": [
        {
          "output_type": "stream",
          "name": "stderr",
          "text": [
            "/usr/local/lib/python3.7/dist-packages/IPython/core/interactiveshell.py:2822: FutureWarning: arrays to stack must be passed as a \"sequence\" type such as list or tuple. Support for non-sequence iterables such as generators is deprecated as of NumPy 1.16 and will raise an error in the future.\n",
            "  if self.run_code(code, result):\n"
          ]
        },
        {
          "output_type": "display_data",
          "data": {
            "image/png": "[encoded data removed]",
            "text/plain": [
              "<Figure size 432x288 with 1 Axes>"
            ]
          },
          "metadata": {
            "needs_background": "light"
          }
        }
      ]
    },
    {
      "cell_type": "markdown",
      "source": [
        "##TFIDF + N-GRAM + POS TAGGING"
      ],
      "metadata": {
        "id": "Gjt6XNIoNCnN"
      }
    },
    {
      "cell_type": "markdown",
      "source": [
        "###POS tagging"
      ],
      "metadata": {
        "id": "IabTdCUWRN-R"
      }
    },
    {
      "cell_type": "markdown",
      "source": [
        "We define a function to **calculate** the **POS tags of each document.** Then, we **include** the pos tags per document **as a column in the dataframe**."
      ],
      "metadata": {
        "id": "Wb8lFAgW_DcQ"
      }
    },
    {
      "cell_type": "code",
      "source": [
        "pos_tagging_column = []\n",
        "\n",
        "def pos_tagging(text):\n",
        "  tags = \"\"\n",
        "  tokens  = word_tokenize(text)\n",
        "  pos_tags = nltk.pos_tag(tokens)\n",
        "  for tag in pos_tags:\n",
        "    tags = tags + tag[1] + \" \"\n",
        "  return tags\n",
        "\n",
        "for i in range(len(comments)):\n",
        "  pos_tagging_column.append(pos_tagging(comments.loc[i, \"text\"]))\n",
        "comments[\"POS\"] = pos_tagging_column"
      ],
      "metadata": {
        "id": "BpcXEgr7RP4y",
        "colab": {
          "base_uri": "https://localhost:8080/"
        },
        "outputId": "64b15896-37df-4aad-b790-3e8b3d45a234"
      },
      "execution_count": null,
      "outputs": [
        {
          "output_type": "stream",
          "name": "stdout",
          "text": [
            "[nltk_data] Downloading collection 'popular'\n",
            "[nltk_data]    | \n",
            "[nltk_data]    | Downloading package cmudict to /root/nltk_data...\n",
            "[nltk_data]    |   Package cmudict is already up-to-date!\n",
            "[nltk_data]    | Downloading package gazetteers to /root/nltk_data...\n",
            "[nltk_data]    |   Package gazetteers is already up-to-date!\n",
            "[nltk_data]    | Downloading package genesis to /root/nltk_data...\n",
            "[nltk_data]    |   Package genesis is already up-to-date!\n",
            "[nltk_data]    | Downloading package gutenberg to /root/nltk_data...\n",
            "[nltk_data]    |   Package gutenberg is already up-to-date!\n",
            "[nltk_data]    | Downloading package inaugural to /root/nltk_data...\n",
            "[nltk_data]    |   Package inaugural is already up-to-date!\n",
            "[nltk_data]    | Downloading package movie_reviews to\n",
            "[nltk_data]    |     /root/nltk_data...\n",
            "[nltk_data]    |   Package movie_reviews is already up-to-date!\n",
            "[nltk_data]    | Downloading package names to /root/nltk_data...\n",
            "[nltk_data]    |   Package names is already up-to-date!\n",
            "[nltk_data]    | Downloading package shakespeare to /root/nltk_data...\n",
            "[nltk_data]    |   Package shakespeare is already up-to-date!\n",
            "[nltk_data]    | Downloading package stopwords to /root/nltk_data...\n",
            "[nltk_data]    |   Package stopwords is already up-to-date!\n",
            "[nltk_data]    | Downloading package treebank to /root/nltk_data...\n",
            "[nltk_data]    |   Package treebank is already up-to-date!\n",
            "[nltk_data]    | Downloading package twitter_samples to\n",
            "[nltk_data]    |     /root/nltk_data...\n",
            "[nltk_data]    |   Package twitter_samples is already up-to-date!\n",
            "[nltk_data]    | Downloading package omw to /root/nltk_data...\n",
            "[nltk_data]    |   Package omw is already up-to-date!\n",
            "[nltk_data]    | Downloading package omw-1.4 to /root/nltk_data...\n",
            "[nltk_data]    |   Package omw-1.4 is already up-to-date!\n",
            "[nltk_data]    | Downloading package wordnet to /root/nltk_data...\n",
            "[nltk_data]    |   Package wordnet is already up-to-date!\n",
            "[nltk_data]    | Downloading package wordnet2021 to /root/nltk_data...\n",
            "[nltk_data]    |   Package wordnet2021 is already up-to-date!\n",
            "[nltk_data]    | Downloading package wordnet31 to /root/nltk_data...\n",
            "[nltk_data]    |   Package wordnet31 is already up-to-date!\n",
            "[nltk_data]    | Downloading package wordnet_ic to /root/nltk_data...\n",
            "[nltk_data]    |   Package wordnet_ic is already up-to-date!\n",
            "[nltk_data]    | Downloading package words to /root/nltk_data...\n",
            "[nltk_data]    |   Package words is already up-to-date!\n",
            "[nltk_data]    | Downloading package maxent_ne_chunker to\n",
            "[nltk_data]    |     /root/nltk_data...\n",
            "[nltk_data]    |   Package maxent_ne_chunker is already up-to-date!\n",
            "[nltk_data]    | Downloading package punkt to /root/nltk_data...\n",
            "[nltk_data]    |   Package punkt is already up-to-date!\n",
            "[nltk_data]    | Downloading package snowball_data to\n",
            "[nltk_data]    |     /root/nltk_data...\n",
            "[nltk_data]    |   Package snowball_data is already up-to-date!\n",
            "[nltk_data]    | Downloading package averaged_perceptron_tagger to\n",
            "[nltk_data]    |     /root/nltk_data...\n",
            "[nltk_data]    |   Package averaged_perceptron_tagger is already up-\n",
            "[nltk_data]    |       to-date!\n",
            "[nltk_data]    | \n",
            "[nltk_data]  Done downloading collection popular\n"
          ]
        }
      ]
    },
    {
      "cell_type": "markdown",
      "source": [
        "Now, a function to create a **column per type of POS tagging** taking into account **each document** is defined.\n"
      ],
      "metadata": {
        "id": "Yib075dj8gxN"
      }
    },
    {
      "cell_type": "code",
      "source": [
        "#Tipos de pos_tagging\n",
        "types = [\"NNS\", \"VBP\", \"RB\", \"VB\", \"DT\", \"NN\", \"IN\", \"JJ\", \"WDT\", \"VBN\", \"CC\", \"JJR\", \"PRP\", \"VBZ\", \"WP\", \"TO\", \"RB\", \"PRP$\", \"CD\", \"WRB\", \"MD\", \"NNP\", \"JJR\", \"PDT\"]\n",
        "pos_column = []\n",
        "\n",
        "def calculate_number_pos_tag(post_tag, document_pos_taggings):\n",
        "    count = 0\n",
        "    tokens  = word_tokenize(document_pos_taggings)\n",
        "    for token in tokens:\n",
        "      if(token == post_tag):\n",
        "        count= count + 1\n",
        "    return count\n",
        "table = []\n",
        "#Recorremos los tipos\n",
        "for type in types:\n",
        "  #Para cada documento contamos los pos_taggings de ese tipo\n",
        "  for document_pos_taggings in comments['POS']:\n",
        "    counter = calculate_number_pos_tag(type, document_pos_taggings )\n",
        "    pos_column.append(str(counter))\n",
        "  table.append(pos_column) \n",
        "  pos_column = []"
      ],
      "metadata": {
        "id": "DqbrkfrJ83Fv"
      },
      "execution_count": null,
      "outputs": []
    },
    {
      "cell_type": "markdown",
      "source": [
        "The **results** are **converted** into a **dataframe**"
      ],
      "metadata": {
        "id": "dMD7_unBCGq7"
      }
    },
    {
      "cell_type": "code",
      "source": [
        "df = pd.DataFrame(table)\n",
        "df= df.transpose()\n",
        "df.columns = types\n",
        "df"
      ],
      "metadata": {
        "colab": {
          "base_uri": "https://localhost:8080/",
          "height": 487
        },
        "id": "-j07iAKuUzNR",
        "outputId": "ad0f2703-6603-4aad-f183-7b577c430101"
      },
      "execution_count": null,
      "outputs": [
        {
          "output_type": "execute_result",
          "data": {
            "text/html": [
              "\n",
              "  <div id=\"df-10530f7d-3094-4291-8695-9ea1fbcb5b37\">\n",
              "    <div class=\"colab-df-container\">\n",
              "      <div>\n",
              "<style scoped>\n",
              "    .dataframe tbody tr th:only-of-type {\n",
              "        vertical-align: middle;\n",
              "    }\n",
              "\n",
              "    .dataframe tbody tr th {\n",
              "        vertical-align: top;\n",
              "    }\n",
              "\n",
              "    .dataframe thead th {\n",
              "        text-align: right;\n",
              "    }\n",
              "</style>\n",
              "<table border=\"1\" class=\"dataframe\">\n",
              "  <thead>\n",
              "    <tr style=\"text-align: right;\">\n",
              "      <th></th>\n",
              "      <th>NNS</th>\n",
              "      <th>VBP</th>\n",
              "      <th>RB</th>\n",
              "      <th>VB</th>\n",
              "      <th>DT</th>\n",
              "      <th>NN</th>\n",
              "      <th>IN</th>\n",
              "      <th>JJ</th>\n",
              "      <th>WDT</th>\n",
              "      <th>VBN</th>\n",
              "      <th>CC</th>\n",
              "      <th>JJR</th>\n",
              "      <th>PRP</th>\n",
              "      <th>VBZ</th>\n",
              "      <th>WP</th>\n",
              "      <th>TO</th>\n",
              "      <th>RB</th>\n",
              "      <th>PRP$</th>\n",
              "      <th>CD</th>\n",
              "      <th>WRB</th>\n",
              "      <th>MD</th>\n",
              "      <th>NNP</th>\n",
              "      <th>JJR</th>\n",
              "      <th>PDT</th>\n",
              "    </tr>\n",
              "  </thead>\n",
              "  <tbody>\n",
              "    <tr>\n",
              "      <th>0</th>\n",
              "      <td>2</td>\n",
              "      <td>12</td>\n",
              "      <td>15</td>\n",
              "      <td>17</td>\n",
              "      <td>24</td>\n",
              "      <td>63</td>\n",
              "      <td>24</td>\n",
              "      <td>25</td>\n",
              "      <td>3</td>\n",
              "      <td>4</td>\n",
              "      <td>11</td>\n",
              "      <td>1</td>\n",
              "      <td>7</td>\n",
              "      <td>1</td>\n",
              "      <td>2</td>\n",
              "      <td>5</td>\n",
              "      <td>15</td>\n",
              "      <td>0</td>\n",
              "      <td>1</td>\n",
              "      <td>1</td>\n",
              "      <td>0</td>\n",
              "      <td>0</td>\n",
              "      <td>1</td>\n",
              "      <td>1</td>\n",
              "    </tr>\n",
              "    <tr>\n",
              "      <th>1</th>\n",
              "      <td>5</td>\n",
              "      <td>32</td>\n",
              "      <td>17</td>\n",
              "      <td>46</td>\n",
              "      <td>57</td>\n",
              "      <td>137</td>\n",
              "      <td>64</td>\n",
              "      <td>50</td>\n",
              "      <td>5</td>\n",
              "      <td>2</td>\n",
              "      <td>21</td>\n",
              "      <td>2</td>\n",
              "      <td>45</td>\n",
              "      <td>3</td>\n",
              "      <td>2</td>\n",
              "      <td>13</td>\n",
              "      <td>17</td>\n",
              "      <td>0</td>\n",
              "      <td>7</td>\n",
              "      <td>4</td>\n",
              "      <td>13</td>\n",
              "      <td>1</td>\n",
              "      <td>2</td>\n",
              "      <td>0</td>\n",
              "    </tr>\n",
              "    <tr>\n",
              "      <th>2</th>\n",
              "      <td>3</td>\n",
              "      <td>13</td>\n",
              "      <td>21</td>\n",
              "      <td>21</td>\n",
              "      <td>37</td>\n",
              "      <td>77</td>\n",
              "      <td>24</td>\n",
              "      <td>26</td>\n",
              "      <td>2</td>\n",
              "      <td>3</td>\n",
              "      <td>6</td>\n",
              "      <td>1</td>\n",
              "      <td>10</td>\n",
              "      <td>4</td>\n",
              "      <td>0</td>\n",
              "      <td>13</td>\n",
              "      <td>21</td>\n",
              "      <td>0</td>\n",
              "      <td>7</td>\n",
              "      <td>1</td>\n",
              "      <td>4</td>\n",
              "      <td>0</td>\n",
              "      <td>1</td>\n",
              "      <td>1</td>\n",
              "    </tr>\n",
              "    <tr>\n",
              "      <th>3</th>\n",
              "      <td>3</td>\n",
              "      <td>12</td>\n",
              "      <td>16</td>\n",
              "      <td>22</td>\n",
              "      <td>23</td>\n",
              "      <td>40</td>\n",
              "      <td>21</td>\n",
              "      <td>20</td>\n",
              "      <td>0</td>\n",
              "      <td>1</td>\n",
              "      <td>6</td>\n",
              "      <td>0</td>\n",
              "      <td>12</td>\n",
              "      <td>9</td>\n",
              "      <td>1</td>\n",
              "      <td>5</td>\n",
              "      <td>16</td>\n",
              "      <td>0</td>\n",
              "      <td>3</td>\n",
              "      <td>1</td>\n",
              "      <td>3</td>\n",
              "      <td>0</td>\n",
              "      <td>0</td>\n",
              "      <td>0</td>\n",
              "    </tr>\n",
              "    <tr>\n",
              "      <th>4</th>\n",
              "      <td>12</td>\n",
              "      <td>32</td>\n",
              "      <td>48</td>\n",
              "      <td>56</td>\n",
              "      <td>112</td>\n",
              "      <td>287</td>\n",
              "      <td>104</td>\n",
              "      <td>108</td>\n",
              "      <td>8</td>\n",
              "      <td>5</td>\n",
              "      <td>40</td>\n",
              "      <td>11</td>\n",
              "      <td>36</td>\n",
              "      <td>16</td>\n",
              "      <td>5</td>\n",
              "      <td>18</td>\n",
              "      <td>48</td>\n",
              "      <td>0</td>\n",
              "      <td>42</td>\n",
              "      <td>3</td>\n",
              "      <td>5</td>\n",
              "      <td>0</td>\n",
              "      <td>11</td>\n",
              "      <td>1</td>\n",
              "    </tr>\n",
              "    <tr>\n",
              "      <th>...</th>\n",
              "      <td>...</td>\n",
              "      <td>...</td>\n",
              "      <td>...</td>\n",
              "      <td>...</td>\n",
              "      <td>...</td>\n",
              "      <td>...</td>\n",
              "      <td>...</td>\n",
              "      <td>...</td>\n",
              "      <td>...</td>\n",
              "      <td>...</td>\n",
              "      <td>...</td>\n",
              "      <td>...</td>\n",
              "      <td>...</td>\n",
              "      <td>...</td>\n",
              "      <td>...</td>\n",
              "      <td>...</td>\n",
              "      <td>...</td>\n",
              "      <td>...</td>\n",
              "      <td>...</td>\n",
              "      <td>...</td>\n",
              "      <td>...</td>\n",
              "      <td>...</td>\n",
              "      <td>...</td>\n",
              "      <td>...</td>\n",
              "    </tr>\n",
              "    <tr>\n",
              "      <th>595</th>\n",
              "      <td>4</td>\n",
              "      <td>17</td>\n",
              "      <td>27</td>\n",
              "      <td>47</td>\n",
              "      <td>54</td>\n",
              "      <td>86</td>\n",
              "      <td>41</td>\n",
              "      <td>42</td>\n",
              "      <td>0</td>\n",
              "      <td>3</td>\n",
              "      <td>11</td>\n",
              "      <td>2</td>\n",
              "      <td>31</td>\n",
              "      <td>2</td>\n",
              "      <td>0</td>\n",
              "      <td>14</td>\n",
              "      <td>27</td>\n",
              "      <td>0</td>\n",
              "      <td>8</td>\n",
              "      <td>0</td>\n",
              "      <td>6</td>\n",
              "      <td>0</td>\n",
              "      <td>2</td>\n",
              "      <td>1</td>\n",
              "    </tr>\n",
              "    <tr>\n",
              "      <th>596</th>\n",
              "      <td>3</td>\n",
              "      <td>26</td>\n",
              "      <td>25</td>\n",
              "      <td>31</td>\n",
              "      <td>39</td>\n",
              "      <td>78</td>\n",
              "      <td>37</td>\n",
              "      <td>24</td>\n",
              "      <td>2</td>\n",
              "      <td>0</td>\n",
              "      <td>17</td>\n",
              "      <td>1</td>\n",
              "      <td>22</td>\n",
              "      <td>5</td>\n",
              "      <td>0</td>\n",
              "      <td>10</td>\n",
              "      <td>25</td>\n",
              "      <td>0</td>\n",
              "      <td>7</td>\n",
              "      <td>1</td>\n",
              "      <td>2</td>\n",
              "      <td>0</td>\n",
              "      <td>1</td>\n",
              "      <td>2</td>\n",
              "    </tr>\n",
              "    <tr>\n",
              "      <th>597</th>\n",
              "      <td>3</td>\n",
              "      <td>3</td>\n",
              "      <td>14</td>\n",
              "      <td>27</td>\n",
              "      <td>12</td>\n",
              "      <td>30</td>\n",
              "      <td>14</td>\n",
              "      <td>11</td>\n",
              "      <td>1</td>\n",
              "      <td>1</td>\n",
              "      <td>8</td>\n",
              "      <td>0</td>\n",
              "      <td>14</td>\n",
              "      <td>0</td>\n",
              "      <td>1</td>\n",
              "      <td>5</td>\n",
              "      <td>14</td>\n",
              "      <td>0</td>\n",
              "      <td>0</td>\n",
              "      <td>0</td>\n",
              "      <td>4</td>\n",
              "      <td>0</td>\n",
              "      <td>0</td>\n",
              "      <td>0</td>\n",
              "    </tr>\n",
              "    <tr>\n",
              "      <th>598</th>\n",
              "      <td>3</td>\n",
              "      <td>20</td>\n",
              "      <td>30</td>\n",
              "      <td>47</td>\n",
              "      <td>48</td>\n",
              "      <td>112</td>\n",
              "      <td>50</td>\n",
              "      <td>40</td>\n",
              "      <td>5</td>\n",
              "      <td>10</td>\n",
              "      <td>22</td>\n",
              "      <td>4</td>\n",
              "      <td>25</td>\n",
              "      <td>0</td>\n",
              "      <td>1</td>\n",
              "      <td>10</td>\n",
              "      <td>30</td>\n",
              "      <td>0</td>\n",
              "      <td>17</td>\n",
              "      <td>3</td>\n",
              "      <td>6</td>\n",
              "      <td>0</td>\n",
              "      <td>4</td>\n",
              "      <td>0</td>\n",
              "    </tr>\n",
              "    <tr>\n",
              "      <th>599</th>\n",
              "      <td>3</td>\n",
              "      <td>7</td>\n",
              "      <td>12</td>\n",
              "      <td>23</td>\n",
              "      <td>29</td>\n",
              "      <td>62</td>\n",
              "      <td>26</td>\n",
              "      <td>21</td>\n",
              "      <td>2</td>\n",
              "      <td>3</td>\n",
              "      <td>8</td>\n",
              "      <td>0</td>\n",
              "      <td>13</td>\n",
              "      <td>2</td>\n",
              "      <td>1</td>\n",
              "      <td>5</td>\n",
              "      <td>12</td>\n",
              "      <td>0</td>\n",
              "      <td>3</td>\n",
              "      <td>2</td>\n",
              "      <td>6</td>\n",
              "      <td>0</td>\n",
              "      <td>0</td>\n",
              "      <td>0</td>\n",
              "    </tr>\n",
              "  </tbody>\n",
              "</table>\n",
              "<p>600 rows × 24 columns</p>\n",
              "</div>\n",
              "      <button class=\"colab-df-convert\" onclick=\"convertToInteractive('df-10530f7d-3094-4291-8695-9ea1fbcb5b37')\"\n",
              "              title=\"Convert this dataframe to an interactive table.\"\n",
              "              style=\"display:none;\">\n",
              "        \n",
              "  <svg xmlns=\"http://www.w3.org/2000/svg\" height=\"24px\"viewBox=\"0 0 24 24\"\n",
              "       width=\"24px\">\n",
              "    <path d=\"M0 0h24v24H0V0z\" fill=\"none\"/>\n",
              "    <path d=\"M18.56 5.44l.94 2.06.94-2.06 2.06-.94-2.06-.94-.94-2.06-.94 2.06-2.06.94zm-11 1L8.5 8.5l.94-2.06 2.06-.94-2.06-.94L8.5 2.5l-.94 2.06-2.06.94zm10 10l.94 2.06.94-2.06 2.06-.94-2.06-.94-.94-2.06-.94 2.06-2.06.94z\"/><path d=\"M17.41 7.96l-1.37-1.37c-.4-.4-.92-.59-1.43-.59-.52 0-1.04.2-1.43.59L10.3 9.45l-7.72 7.72c-.78.78-.78 2.05 0 2.83L4 21.41c.39.39.9.59 1.41.59.51 0 1.02-.2 1.41-.59l7.78-7.78 2.81-2.81c.8-.78.8-2.07 0-2.86zM5.41 20L4 18.59l7.72-7.72 1.47 1.35L5.41 20z\"/>\n",
              "  </svg>\n",
              "      </button>\n",
              "      \n",
              "  <style>\n",
              "    .colab-df-container {\n",
              "      display:flex;\n",
              "      flex-wrap:wrap;\n",
              "      gap: 12px;\n",
              "    }\n",
              "\n",
              "    .colab-df-convert {\n",
              "      background-color: #E8F0FE;\n",
              "      border: none;\n",
              "      border-radius: 50%;\n",
              "      cursor: pointer;\n",
              "      display: none;\n",
              "      fill: #1967D2;\n",
              "      height: 32px;\n",
              "      padding: 0 0 0 0;\n",
              "      width: 32px;\n",
              "    }\n",
              "\n",
              "    .colab-df-convert:hover {\n",
              "      background-color: #E2EBFA;\n",
              "      box-shadow: 0px 1px 2px rgba(60, 64, 67, 0.3), 0px 1px 3px 1px rgba(60, 64, 67, 0.15);\n",
              "      fill: #174EA6;\n",
              "    }\n",
              "\n",
              "    [theme=dark] .colab-df-convert {\n",
              "      background-color: #3B4455;\n",
              "      fill: #D2E3FC;\n",
              "    }\n",
              "\n",
              "    [theme=dark] .colab-df-convert:hover {\n",
              "      background-color: #434B5C;\n",
              "      box-shadow: 0px 1px 3px 1px rgba(0, 0, 0, 0.15);\n",
              "      filter: drop-shadow(0px 1px 2px rgba(0, 0, 0, 0.3));\n",
              "      fill: #FFFFFF;\n",
              "    }\n",
              "  </style>\n",
              "\n",
              "      <script>\n",
              "        const buttonEl =\n",
              "          document.querySelector('#df-10530f7d-3094-4291-8695-9ea1fbcb5b37 button.colab-df-convert');\n",
              "        buttonEl.style.display =\n",
              "          google.colab.kernel.accessAllowed ? 'block' : 'none';\n",
              "\n",
              "        async function convertToInteractive(key) {\n",
              "          const element = document.querySelector('#df-10530f7d-3094-4291-8695-9ea1fbcb5b37');\n",
              "          const dataTable =\n",
              "            await google.colab.kernel.invokeFunction('convertToInteractive',\n",
              "                                                     [key], {});\n",
              "          if (!dataTable) return;\n",
              "\n",
              "          const docLinkHtml = 'Like what you see? Visit the ' +\n",
              "            '<a target=\"_blank\" href=https://colab.research.google.com/notebooks/data_table.ipynb>data table notebook</a>'\n",
              "            + ' to learn more about interactive tables.';\n",
              "          element.innerHTML = '';\n",
              "          dataTable['output_type'] = 'display_data';\n",
              "          await google.colab.output.renderOutput(dataTable, element);\n",
              "          const docLink = document.createElement('div');\n",
              "          docLink.innerHTML = docLinkHtml;\n",
              "          element.appendChild(docLink);\n",
              "        }\n",
              "      </script>\n",
              "    </div>\n",
              "  </div>\n",
              "  "
            ],
            "text/plain": [
              "    NNS VBP  RB  VB   DT   NN   IN   JJ  ...  RB PRP$  CD WRB  MD NNP JJR PDT\n",
              "0     2  12  15  17   24   63   24   25  ...  15    0   1   1   0   0   1   1\n",
              "1     5  32  17  46   57  137   64   50  ...  17    0   7   4  13   1   2   0\n",
              "2     3  13  21  21   37   77   24   26  ...  21    0   7   1   4   0   1   1\n",
              "3     3  12  16  22   23   40   21   20  ...  16    0   3   1   3   0   0   0\n",
              "4    12  32  48  56  112  287  104  108  ...  48    0  42   3   5   0  11   1\n",
              "..   ..  ..  ..  ..  ...  ...  ...  ...  ...  ..  ...  ..  ..  ..  ..  ..  ..\n",
              "595   4  17  27  47   54   86   41   42  ...  27    0   8   0   6   0   2   1\n",
              "596   3  26  25  31   39   78   37   24  ...  25    0   7   1   2   0   1   2\n",
              "597   3   3  14  27   12   30   14   11  ...  14    0   0   0   4   0   0   0\n",
              "598   3  20  30  47   48  112   50   40  ...  30    0  17   3   6   0   4   0\n",
              "599   3   7  12  23   29   62   26   21  ...  12    0   3   2   6   0   0   0\n",
              "\n",
              "[600 rows x 24 columns]"
            ]
          },
          "metadata": {},
          "execution_count": 17
        }
      ]
    },
    {
      "cell_type": "markdown",
      "source": [
        "The **dataframe** obtained with TFIDF vectorizer + ngrams is concatenated with the **most relevant features that we have consider in the POS tagging based on the number of occurencies**. This features are: **NN** (nouns), **VB** (verbs), **JJ** (adjetives) and **RB** (adverbs)."
      ],
      "metadata": {
        "id": "IUH4emENCPP8"
      }
    },
    {
      "cell_type": "code",
      "source": [
        "tfidf_ngram_pos = pd.concat([df_output_tfidf_ngram, df['NN'], df['VB'], df['JJ'], df['RB']], axis=1)"
      ],
      "metadata": {
        "id": "j-mfvCQXW0md"
      },
      "execution_count": null,
      "outputs": []
    },
    {
      "cell_type": "markdown",
      "source": [
        "We save the results as a **pickle file**"
      ],
      "metadata": {
        "id": "eSKbFSVpFK2j"
      }
    },
    {
      "cell_type": "code",
      "source": [
        "tfidf_ngram_pos.to_pickle('./tfidf_ngram_pos.pkl')"
      ],
      "metadata": {
        "id": "c6LezPkcZJtW"
      },
      "execution_count": null,
      "outputs": []
    },
    {
      "cell_type": "markdown",
      "source": [
        "##Feature selection of TF-IDF + N-GRAM + POS Tagging output\n",
        "\n"
      ],
      "metadata": {
        "id": "oZHPD-tUYRPg"
      }
    },
    {
      "cell_type": "code",
      "source": [
        "tfidf_ngram_pos = pd.read_pickle('./tfidf_ngram_pos.pkl')"
      ],
      "metadata": {
        "id": "mw806Qtje5Sa"
      },
      "execution_count": null,
      "outputs": []
    },
    {
      "cell_type": "markdown",
      "source": [
        "We execute the **SelectKBest** algorithm to get the **most relevant features** of the **output of the TDIDF vectorizer with the one to three ngrams + POS tagging**"
      ],
      "metadata": {
        "id": "8nM3aFkVG8Gp"
      }
    },
    {
      "cell_type": "code",
      "source": [
        "selector = SelectKBest(score_func=chi2,k=round((tfidf_ngram_pos.shape[1] * 30)/100))\n",
        "output_tfidf_ngram_pos_new = selector.fit_transform(tfidf_ngram_pos, comments[\"class\"])"
      ],
      "metadata": {
        "id": "0Efj697xYQnN"
      },
      "execution_count": null,
      "outputs": []
    },
    {
      "cell_type": "markdown",
      "source": [
        "We convert the results to a **dataframe** in order to get a **valid input** data for the **classification model**."
      ],
      "metadata": {
        "id": "DPyYtjbRHx6c"
      }
    },
    {
      "cell_type": "code",
      "source": [
        "selected_features_ngram_pos = pd.DataFrame(output_tfidf_ngram_pos_new)"
      ],
      "metadata": {
        "id": "yqxGMyYcYXTy"
      },
      "execution_count": null,
      "outputs": []
    },
    {
      "cell_type": "markdown",
      "source": [
        "We save the results as a **pickle file**"
      ],
      "metadata": {
        "id": "D1x6KEOIHzKB"
      }
    },
    {
      "cell_type": "code",
      "source": [
        "selected_features_ngram_pos.to_pickle('./selected_features_ngram_pos.pkl')"
      ],
      "metadata": {
        "id": "5366UJpmfn8x"
      },
      "execution_count": null,
      "outputs": []
    },
    {
      "cell_type": "markdown",
      "source": [
        "##SVM for TFIDF + N-GRAM + POS Tagging output"
      ],
      "metadata": {
        "id": "GnLuDD_ohxmm"
      }
    },
    {
      "cell_type": "markdown",
      "source": [
        "We divide the dataset into a percentage of **70 for the training** and **30 for the test** again."
      ],
      "metadata": {
        "id": "S1sLM9ItR98X"
      }
    },
    {
      "cell_type": "code",
      "source": [
        "X_train, X_test, y_train, y_test = model_selection.train_test_split(selected_features_ngram_pos, comments[\"class\"], test_size=0.3, shuffle=True)"
      ],
      "metadata": {
        "id": "n6IF_kOJhw-x"
      },
      "execution_count": null,
      "outputs": []
    },
    {
      "cell_type": "markdown",
      "source": [
        "We **execute** the **Support Vector Machine**."
      ],
      "metadata": {
        "id": "SmizRJ_dR_1V"
      }
    },
    {
      "cell_type": "code",
      "source": [
        "SVM = svm.SVC(kernel='linear', gamma='auto') # SVM Model Definition\n",
        "SVM.fit(X_train,y_train) # Training the model\n",
        "\n",
        "result = SVM.predict(X_test)"
      ],
      "metadata": {
        "id": "UQLhD4jgiAkr"
      },
      "execution_count": null,
      "outputs": []
    },
    {
      "cell_type": "markdown",
      "source": [
        "We calculate **evaluation metrics** returning the true negatives, false positives, false negatives and true positives."
      ],
      "metadata": {
        "id": "8hN14JrfSNPO"
      }
    },
    {
      "cell_type": "code",
      "source": [
        "tn, fp, fn, tp  = confusion_matrix(y_test, result).ravel()\n",
        "\n",
        "calculate_metrics(tp, fp, tn, fn)"
      ],
      "metadata": {
        "colab": {
          "base_uri": "https://localhost:8080/"
        },
        "id": "7bGY62j1iSW9",
        "outputId": "3d89d36f-2d56-4ff7-fbd4-4843e2945eab"
      },
      "execution_count": null,
      "outputs": [
        {
          "output_type": "stream",
          "name": "stdout",
          "text": [
            "Precision 1.0\n",
            "Recall 1.0\n",
            "Accuracy 1.0\n",
            "F-Measure 1.0\n"
          ]
        }
      ]
    },
    {
      "cell_type": "markdown",
      "source": [
        "We **visualize the confusion matrix** with the metrics obtained in SVM."
      ],
      "metadata": {
        "id": "sv8SVAbmSVHh"
      }
    },
    {
      "cell_type": "code",
      "source": [
        "disp = plot_confusion_matrix(SVM, X_test, y_test, display_labels=[\"Camera\", \"Auto\"],cmap=plt.cm.Blues) \n",
        "plt.show()\n",
        "print(disp.confusion_matrix)"
      ],
      "metadata": {
        "colab": {
          "base_uri": "https://localhost:8080/",
          "height": 369
        },
        "id": "vKDhO6azi6lt",
        "outputId": "b824e185-8eb8-4df9-99a0-702f9531dfa6"
      },
      "execution_count": null,
      "outputs": [
        {
          "output_type": "stream",
          "name": "stderr",
          "text": [
            "/usr/local/lib/python3.7/dist-packages/sklearn/utils/deprecation.py:87: FutureWarning: Function plot_confusion_matrix is deprecated; Function `plot_confusion_matrix` is deprecated in 1.0 and will be removed in 1.2. Use one of the class methods: ConfusionMatrixDisplay.from_predictions or ConfusionMatrixDisplay.from_estimator.\n",
            "  warnings.warn(msg, category=FutureWarning)\n"
          ]
        },
        {
          "output_type": "display_data",
          "data": {
            "image/png": "[encoded data removed]",
            "text/plain": [
              "<Figure size 432x288 with 2 Axes>"
            ]
          },
          "metadata": {
            "needs_background": "light"
          }
        },
        {
          "output_type": "stream",
          "name": "stdout",
          "text": [
            "[[ 70   0]\n",
            " [  0 110]]\n"
          ]
        }
      ]
    },
    {
      "cell_type": "markdown",
      "source": [
        "As we have seen, there are **70 true positives of camera class** and **110 true positives of auto class**."
      ],
      "metadata": {
        "id": "n7VCNLA3Sjgr"
      }
    },
    {
      "cell_type": "markdown",
      "source": [
        "##Decision tree for TFIDF + N-GRAM + POS Tagging output"
      ],
      "metadata": {
        "id": "Gkiq02iIcE40"
      }
    },
    {
      "cell_type": "code",
      "source": [
        "selected_features_ngram_pos = pd.read_pickle('./selected_features_ngram_pos.pkl')"
      ],
      "metadata": {
        "id": "A_TWf3USncGl"
      },
      "execution_count": null,
      "outputs": []
    },
    {
      "cell_type": "markdown",
      "source": [
        "We divide the data into **70% of train and 30% of test** again."
      ],
      "metadata": {
        "id": "CzEIXAD8Susy"
      }
    },
    {
      "cell_type": "code",
      "source": [
        "X_train, X_test, y_train, y_test = model_selection.train_test_split(selected_features_ngram_pos, numerical_class, test_size=0.3, shuffle=True)"
      ],
      "metadata": {
        "id": "2Il3DxWAcIwB"
      },
      "execution_count": null,
      "outputs": []
    },
    {
      "cell_type": "markdown",
      "source": [
        "We try the **DecissionTreeRegresor** with a **max_depth** value from **1 to 5.**"
      ],
      "metadata": {
        "id": "hBqGQPyUS2u_"
      }
    },
    {
      "cell_type": "code",
      "source": [
        "cv = KFold(n_splits = 10, shuffle = True)\n",
        "total_scores = []\n",
        "for i in range(1,5):\n",
        "       fold_mae = []\n",
        "       regr = tree.DecisionTreeRegressor(max_depth=i)\n",
        "       for train_fold, test_fold in cv.split(X_train):\n",
        "          # División train test aleatoria\n",
        "          # train\n",
        "          fx_train = X_train.iloc[train_fold]\n",
        "          fy_train = y_train.iloc[train_fold]\n",
        "          # test\n",
        "          fx_test = X_train.iloc[test_fold]\n",
        "          fy_test = y_train.iloc[test_fold]\n",
        "\n",
        "          # entrenamiento y ejecución del modelo\n",
        "          regr.fit(fx_train, fy_train)\n",
        "          y_pred = regr.predict(fx_test)\n",
        "          # evaluación del modelo\n",
        "          mae = mean_absolute_error(fy_test, y_pred)\n",
        "          fold_mae.append(mae)\n",
        "       total_scores.append(sum(fold_mae)/len(fold_mae))\n",
        "      \n",
        "      \n",
        "plt.plot(range(1,len(total_scores)+1), total_scores, \n",
        "           marker='o')\n",
        "print ('Min Value : ' +  str(min(total_scores)) +\" (\" + str(np.argmin(total_scores) + 1) + \")\")\n",
        "plt.ylabel('MAE')      \n",
        "plt.legend()\n",
        "plt.show()"
      ],
      "metadata": {
        "colab": {
          "base_uri": "https://localhost:8080/",
          "height": 300
        },
        "id": "16CaklKFcl8G",
        "outputId": "60582a03-0697-463f-f8ad-1fc8611b97f8"
      },
      "execution_count": null,
      "outputs": [
        {
          "output_type": "stream",
          "name": "stderr",
          "text": [
            "No handles with labels found to put in legend.\n"
          ]
        },
        {
          "output_type": "stream",
          "name": "stdout",
          "text": [
            "Min Value : 0.011904761904761904 (2)\n"
          ]
        },
        {
          "output_type": "display_data",
          "data": {
            "image/png": "[encoded data removed]",
            "text/plain": [
              "<Figure size 432x288 with 1 Axes>"
            ]
          },
          "metadata": {
            "needs_background": "light"
          }
        }
      ]
    },
    {
      "cell_type": "markdown",
      "source": [
        "We execute the **DecisionTreeRegressor** with a **max_depth** value of **2**"
      ],
      "metadata": {
        "id": "2gn9JhBnTH0i"
      }
    },
    {
      "cell_type": "code",
      "source": [
        "regr = tree.DecisionTreeRegressor(max_depth = 2)\n",
        "regr.fit(fx_train, fy_train)"
      ],
      "metadata": {
        "colab": {
          "base_uri": "https://localhost:8080/"
        },
        "id": "BEe-QqJccsme",
        "outputId": "f1d78ae9-ee6f-475d-f613-a5d32100a3b7"
      },
      "execution_count": null,
      "outputs": [
        {
          "output_type": "execute_result",
          "data": {
            "text/plain": [
              "DecisionTreeRegressor(max_depth=2)"
            ]
          },
          "metadata": {},
          "execution_count": 18
        }
      ]
    },
    {
      "cell_type": "code",
      "source": [
        "y_pred = regr.predict(X_test)"
      ],
      "metadata": {
        "id": "5uhZsihQcwh-"
      },
      "execution_count": null,
      "outputs": []
    },
    {
      "cell_type": "markdown",
      "source": [
        "We **visualize the results**"
      ],
      "metadata": {
        "id": "qb5zQfJyTR2p"
      }
    },
    {
      "cell_type": "code",
      "source": [
        "# x axis for plotting\n",
        "xx = np.stack(i for i in range(y_test.shape[0]))\n",
        "plt.plot(xx, y_test, c='r', label='data')\n",
        "#plt.plot(xx, y, c='k', label='data')\n",
        "plt.plot(xx, y_pred, c='g', label='prediction')\n",
        "plt.axis('tight')\n",
        "plt.legend()\n",
        "plt.title(\"DecisionTreeRegressor\")\n",
        "\n",
        "plt.show()"
      ],
      "metadata": {
        "colab": {
          "base_uri": "https://localhost:8080/",
          "height": 336
        },
        "id": "RyqwFR31c2sT",
        "outputId": "01cfd182-46eb-45a7-b26f-b9b616e5ac5b"
      },
      "execution_count": null,
      "outputs": [
        {
          "output_type": "stream",
          "name": "stderr",
          "text": [
            "/usr/local/lib/python3.7/dist-packages/IPython/core/interactiveshell.py:2822: FutureWarning: arrays to stack must be passed as a \"sequence\" type such as list or tuple. Support for non-sequence iterables such as generators is deprecated as of NumPy 1.16 and will raise an error in the future.\n",
            "  if self.run_code(code, result):\n"
          ]
        },
        {
          "output_type": "display_data",
          "data": {
            "image/png": "[encoded data removed]",
            "text/plain": [
              "<Figure size 432x288 with 1 Axes>"
            ]
          },
          "metadata": {
            "needs_background": "light"
          }
        }
      ]
    },
    {
      "cell_type": "markdown",
      "source": [
        "##TFIDF + N-GRAMS + POS TAGGING + NUMBER OF WORDS"
      ],
      "metadata": {
        "id": "OskAmwLyeUuB"
      }
    },
    {
      "cell_type": "markdown",
      "source": [
        "We define a function to **calculate** the **number of words in each text**. Then, we **include** them **as a column in the dataframe**."
      ],
      "metadata": {
        "id": "c7S-g232ed9s"
      }
    },
    {
      "cell_type": "code",
      "source": [
        "def number_of_words(text):\n",
        "  tokens = nltk.word_tokenize(text)\n",
        "  return str(len(tokens))\n",
        "\n",
        "number_of_words_column = []\n",
        "\n",
        "for i in range(len(comments)):\n",
        "  number_of_words_column.append(number_of_words(comments.loc[i, \"text\"]))\n",
        "\n",
        "comments[\"number_of_words\"] = number_of_words_column"
      ],
      "metadata": {
        "id": "q7fRQe9YemFD",
        "colab": {
          "base_uri": "https://localhost:8080/"
        },
        "outputId": "40b5eafb-693b-47e4-924a-311dfe282665"
      },
      "execution_count": null,
      "outputs": [
        {
          "output_type": "stream",
          "name": "stdout",
          "text": [
            "[nltk_data] Downloading collection 'popular'\n",
            "[nltk_data]    | \n",
            "[nltk_data]    | Downloading package cmudict to /root/nltk_data...\n",
            "[nltk_data]    |   Package cmudict is already up-to-date!\n",
            "[nltk_data]    | Downloading package gazetteers to /root/nltk_data...\n",
            "[nltk_data]    |   Package gazetteers is already up-to-date!\n",
            "[nltk_data]    | Downloading package genesis to /root/nltk_data...\n",
            "[nltk_data]    |   Package genesis is already up-to-date!\n",
            "[nltk_data]    | Downloading package gutenberg to /root/nltk_data...\n",
            "[nltk_data]    |   Package gutenberg is already up-to-date!\n",
            "[nltk_data]    | Downloading package inaugural to /root/nltk_data...\n",
            "[nltk_data]    |   Package inaugural is already up-to-date!\n",
            "[nltk_data]    | Downloading package movie_reviews to\n",
            "[nltk_data]    |     /root/nltk_data...\n",
            "[nltk_data]    |   Package movie_reviews is already up-to-date!\n",
            "[nltk_data]    | Downloading package names to /root/nltk_data...\n",
            "[nltk_data]    |   Package names is already up-to-date!\n",
            "[nltk_data]    | Downloading package shakespeare to /root/nltk_data...\n",
            "[nltk_data]    |   Package shakespeare is already up-to-date!\n",
            "[nltk_data]    | Downloading package stopwords to /root/nltk_data...\n",
            "[nltk_data]    |   Package stopwords is already up-to-date!\n",
            "[nltk_data]    | Downloading package treebank to /root/nltk_data...\n",
            "[nltk_data]    |   Package treebank is already up-to-date!\n",
            "[nltk_data]    | Downloading package twitter_samples to\n",
            "[nltk_data]    |     /root/nltk_data...\n",
            "[nltk_data]    |   Package twitter_samples is already up-to-date!\n",
            "[nltk_data]    | Downloading package omw to /root/nltk_data...\n",
            "[nltk_data]    |   Package omw is already up-to-date!\n",
            "[nltk_data]    | Downloading package omw-1.4 to /root/nltk_data...\n",
            "[nltk_data]    |   Package omw-1.4 is already up-to-date!\n",
            "[nltk_data]    | Downloading package wordnet to /root/nltk_data...\n",
            "[nltk_data]    |   Package wordnet is already up-to-date!\n",
            "[nltk_data]    | Downloading package wordnet2021 to /root/nltk_data...\n",
            "[nltk_data]    |   Package wordnet2021 is already up-to-date!\n",
            "[nltk_data]    | Downloading package wordnet31 to /root/nltk_data...\n",
            "[nltk_data]    |   Package wordnet31 is already up-to-date!\n",
            "[nltk_data]    | Downloading package wordnet_ic to /root/nltk_data...\n",
            "[nltk_data]    |   Package wordnet_ic is already up-to-date!\n",
            "[nltk_data]    | Downloading package words to /root/nltk_data...\n",
            "[nltk_data]    |   Package words is already up-to-date!\n",
            "[nltk_data]    | Downloading package maxent_ne_chunker to\n",
            "[nltk_data]    |     /root/nltk_data...\n",
            "[nltk_data]    |   Package maxent_ne_chunker is already up-to-date!\n",
            "[nltk_data]    | Downloading package punkt to /root/nltk_data...\n",
            "[nltk_data]    |   Package punkt is already up-to-date!\n",
            "[nltk_data]    | Downloading package snowball_data to\n",
            "[nltk_data]    |     /root/nltk_data...\n",
            "[nltk_data]    |   Package snowball_data is already up-to-date!\n",
            "[nltk_data]    | Downloading package averaged_perceptron_tagger to\n",
            "[nltk_data]    |     /root/nltk_data...\n",
            "[nltk_data]    |   Package averaged_perceptron_tagger is already up-\n",
            "[nltk_data]    |       to-date!\n",
            "[nltk_data]    | \n",
            "[nltk_data]  Done downloading collection popular\n"
          ]
        }
      ]
    },
    {
      "cell_type": "markdown",
      "source": [
        "The **dataframe** obtained with TFIDF vectorizer + ngrams + POS tags is concatenated with the previous one with the **number of words per text**."
      ],
      "metadata": {
        "id": "qy_HgGEgTvHj"
      }
    },
    {
      "cell_type": "code",
      "source": [
        "tfidf_ngram_pos_numberOfWords = pd.concat([tfidf_ngram_pos, comments[\"number_of_words\"]], axis=1)"
      ],
      "metadata": {
        "id": "apYIYaJkjy6n"
      },
      "execution_count": null,
      "outputs": []
    },
    {
      "cell_type": "markdown",
      "source": [
        "We save the results as a **pickle file**"
      ],
      "metadata": {
        "id": "MqQvcvoDUvsK"
      }
    },
    {
      "cell_type": "code",
      "source": [
        "tfidf_ngram_pos_numberOfWords.to_pickle('./tfidf_ngram_pos_numberOfWords.pkl')"
      ],
      "metadata": {
        "id": "dd2lpDODku_O"
      },
      "execution_count": null,
      "outputs": []
    },
    {
      "cell_type": "markdown",
      "source": [
        "##Feature selection of TF-IDF + N-GRAM + POS Tagging + Number of words output"
      ],
      "metadata": {
        "id": "6iIxH-RNqplk"
      }
    },
    {
      "cell_type": "code",
      "source": [
        "tfidf_ngram_pos_numberOfWords = pd.read_pickle('./tfidf_ngram_pos_numberOfWords.pkl')"
      ],
      "metadata": {
        "id": "RCkjgrOirBnk"
      },
      "execution_count": null,
      "outputs": []
    },
    {
      "cell_type": "markdown",
      "source": [
        "We execute the **SelectKBest** algorithm to get the **most relevant features** of the **output of the TDIDF vectorizer with the 1 to 3 ngrams + POS tagging + number of words**"
      ],
      "metadata": {
        "id": "he-EOmS-VK6r"
      }
    },
    {
      "cell_type": "code",
      "source": [
        "selector = SelectKBest(score_func=chi2,k=round((tfidf_ngram_pos_numberOfWords.shape[1] * 30)/100))\n",
        "output_tfidf_ngram_pos_numberOfWords_new = selector.fit_transform(tfidf_ngram_pos_numberOfWords, comments[\"class\"])"
      ],
      "metadata": {
        "id": "qRN0jE8pqpMj"
      },
      "execution_count": null,
      "outputs": []
    },
    {
      "cell_type": "markdown",
      "source": [
        "We convert the results to a **dataframe** in order to get a **valid input** data for the **classification model**."
      ],
      "metadata": {
        "id": "U5uBZ5cwVYoJ"
      }
    },
    {
      "cell_type": "code",
      "source": [
        "df_output_tfidf_ngram_pos_new = pd.DataFrame(output_tfidf_ngram_pos_numberOfWords_new)"
      ],
      "metadata": {
        "id": "r0tZLkVxrmyJ"
      },
      "execution_count": null,
      "outputs": []
    },
    {
      "cell_type": "markdown",
      "source": [
        "We **save** the results as a **pickle file**"
      ],
      "metadata": {
        "id": "OT9KHqHiVaOu"
      }
    },
    {
      "cell_type": "code",
      "source": [
        "df_output_tfidf_ngram_pos_new.to_pickle('./df_output_tfidf_ngram_pos_new.pkl')"
      ],
      "metadata": {
        "id": "bRyB9Xa6W978"
      },
      "execution_count": null,
      "outputs": []
    },
    {
      "cell_type": "markdown",
      "source": [
        "##SVM for TFIDF + N-GRAM + POS Tagging + Number of words output"
      ],
      "metadata": {
        "id": "YjWheFTZs39u"
      }
    },
    {
      "cell_type": "markdown",
      "source": [
        "We divide the dataset into a percentage of **70 for the training** and **30 for the test** again."
      ],
      "metadata": {
        "id": "SqjxXag6VmFx"
      }
    },
    {
      "cell_type": "code",
      "source": [
        "X_train, X_test, y_train, y_test = model_selection.train_test_split(df_output_tfidf_ngram_pos_new, comments[\"class\"], test_size=0.3, shuffle=True)"
      ],
      "metadata": {
        "id": "UslfeRV6s48e"
      },
      "execution_count": null,
      "outputs": []
    },
    {
      "cell_type": "markdown",
      "source": [
        "We **execute** the **Support Vector Machine**"
      ],
      "metadata": {
        "id": "G0fnTOldVm_C"
      }
    },
    {
      "cell_type": "code",
      "source": [
        "SVM = svm.SVC(kernel='linear', gamma='auto') # SVM Model Definition\n",
        "SVM.fit(X_train,y_train) # Training the model\n",
        "\n",
        "result = SVM.predict(X_test)"
      ],
      "metadata": {
        "id": "S5f8IUpdtDLT"
      },
      "execution_count": null,
      "outputs": []
    },
    {
      "cell_type": "markdown",
      "source": [
        "We calculate **evaluation metrics** returning the true negatives, false positives, false negatives and true positives."
      ],
      "metadata": {
        "id": "5hpxCOh4Vx7L"
      }
    },
    {
      "cell_type": "code",
      "source": [
        "tn, fp, fn, tp  = confusion_matrix(y_test, result).ravel()\n",
        "\n",
        "calculate_metrics(tp, fp, tn, fn)"
      ],
      "metadata": {
        "colab": {
          "base_uri": "https://localhost:8080/"
        },
        "id": "0I2308hhu7fb",
        "outputId": "2dcad6b7-4dd0-4786-96d6-ee0287e4b2bc"
      },
      "execution_count": null,
      "outputs": [
        {
          "output_type": "stream",
          "name": "stdout",
          "text": [
            "Precision 1.0\n",
            "Recall 1.0\n",
            "Accuracy 1.0\n",
            "F-Measure 1.0\n"
          ]
        }
      ]
    },
    {
      "cell_type": "markdown",
      "source": [
        "We **visualize the confusion matrix** with the metrics obtained in SVM."
      ],
      "metadata": {
        "id": "TutP3sDiV35L"
      }
    },
    {
      "cell_type": "code",
      "source": [
        "disp = plot_confusion_matrix(SVM, X_test, y_test, display_labels=[\"Camera\", \"Auto\"],cmap=plt.cm.Blues) \n",
        "plt.show()\n",
        "print(disp.confusion_matrix)"
      ],
      "metadata": {
        "colab": {
          "base_uri": "https://localhost:8080/",
          "height": 369
        },
        "id": "MGlPr3asvFHU",
        "outputId": "8d1cbecb-abaf-42b2-e2ed-aae72ef4ede9"
      },
      "execution_count": null,
      "outputs": [
        {
          "output_type": "stream",
          "name": "stderr",
          "text": [
            "/usr/local/lib/python3.7/dist-packages/sklearn/utils/deprecation.py:87: FutureWarning: Function plot_confusion_matrix is deprecated; Function `plot_confusion_matrix` is deprecated in 1.0 and will be removed in 1.2. Use one of the class methods: ConfusionMatrixDisplay.from_predictions or ConfusionMatrixDisplay.from_estimator.\n",
            "  warnings.warn(msg, category=FutureWarning)\n"
          ]
        },
        {
          "output_type": "display_data",
          "data": {
            "image/png": "[encoded data removed]",
            "text/plain": [
              "<Figure size 432x288 with 2 Axes>"
            ]
          },
          "metadata": {
            "needs_background": "light"
          }
        },
        {
          "output_type": "stream",
          "name": "stdout",
          "text": [
            "[[ 77   0]\n",
            " [  0 103]]\n"
          ]
        }
      ]
    },
    {
      "cell_type": "markdown",
      "source": [
        "As we have seen, there are **77 true positives of camera class** and **103 true positives of auto class**."
      ],
      "metadata": {
        "id": "5px3E43rV9tk"
      }
    },
    {
      "cell_type": "markdown",
      "source": [
        "##Decision tree for TFIDF + N-GRAM + POS Tagging + Number of words output"
      ],
      "metadata": {
        "id": "ePdStBUdc6XU"
      }
    },
    {
      "cell_type": "markdown",
      "source": [
        "We divide the data into **70% of train and 30% of test** again."
      ],
      "metadata": {
        "id": "IlCiCyuDWISL"
      }
    },
    {
      "cell_type": "code",
      "source": [
        "X_train, X_test, y_train, y_test = model_selection.train_test_split(df_output_tfidf_ngram_pos_new, numerical_class, test_size=0.3, shuffle=True)"
      ],
      "metadata": {
        "id": "5Di9ho1Kc56K"
      },
      "execution_count": null,
      "outputs": []
    },
    {
      "cell_type": "markdown",
      "source": [
        "We try the **DecissionTreeRegresor** with a **max_depth** value from **1 to 5.**"
      ],
      "metadata": {
        "id": "c7pgbok2WTrU"
      }
    },
    {
      "cell_type": "code",
      "source": [
        "cv = KFold(n_splits = 10, shuffle = True)\n",
        "total_scores = []\n",
        "for i in range(1,5):\n",
        "       fold_mae = []\n",
        "       regr = tree.DecisionTreeRegressor(max_depth=i)\n",
        "       for train_fold, test_fold in cv.split(X_train):\n",
        "          # División train test aleatoria\n",
        "          # train\n",
        "          fx_train = X_train.iloc[train_fold]\n",
        "          fy_train = y_train.iloc[train_fold]\n",
        "          # test\n",
        "          fx_test = X_train.iloc[test_fold]\n",
        "          fy_test = y_train.iloc[test_fold]\n",
        "\n",
        "          # entrenamiento y ejecución del modelo\n",
        "          regr.fit(fx_train, fy_train)\n",
        "          y_pred = regr.predict(fx_test)\n",
        "          # evaluación del modelo\n",
        "          mae = mean_absolute_error(fy_test, y_pred)\n",
        "          fold_mae.append(mae)\n",
        "       total_scores.append(sum(fold_mae)/len(fold_mae))\n",
        "      \n",
        "      \n",
        "plt.plot(range(1,len(total_scores)+1), total_scores, \n",
        "           marker='o')\n",
        "print ('Min Value : ' +  str(min(total_scores)) +\" (\" + str(np.argmin(total_scores) + 1) + \")\")\n",
        "plt.ylabel('MAE')      \n",
        "plt.legend()\n",
        "plt.show()"
      ],
      "metadata": {
        "id": "j5nYs1HBdMbp",
        "colab": {
          "base_uri": "https://localhost:8080/",
          "height": 300
        },
        "outputId": "f31a2957-8abe-4d69-84f2-800c07a3b6ac"
      },
      "execution_count": null,
      "outputs": [
        {
          "output_type": "stream",
          "name": "stderr",
          "text": [
            "No handles with labels found to put in legend.\n"
          ]
        },
        {
          "output_type": "stream",
          "name": "stdout",
          "text": [
            "Min Value : 0.0047619047619047615 (2)\n"
          ]
        },
        {
          "output_type": "display_data",
          "data": {
            "image/png": "[encoded data removed]",
            "text/plain": [
              "<Figure size 432x288 with 1 Axes>"
            ]
          },
          "metadata": {
            "needs_background": "light"
          }
        }
      ]
    },
    {
      "cell_type": "markdown",
      "source": [
        "We execute the **DecisionTreeRegressor** with a **max_depth** value of **2**"
      ],
      "metadata": {
        "id": "gCOLCbBtXI5B"
      }
    },
    {
      "cell_type": "code",
      "source": [
        "regr = tree.DecisionTreeRegressor(max_depth = 2)\n",
        "regr.fit(fx_train, fy_train)"
      ],
      "metadata": {
        "id": "F-sHBE8odRCu",
        "colab": {
          "base_uri": "https://localhost:8080/"
        },
        "outputId": "1c804729-56f3-4c62-9974-948191622fca"
      },
      "execution_count": null,
      "outputs": [
        {
          "output_type": "execute_result",
          "data": {
            "text/plain": [
              "DecisionTreeRegressor(max_depth=2)"
            ]
          },
          "metadata": {},
          "execution_count": 11
        }
      ]
    },
    {
      "cell_type": "code",
      "source": [
        "y_pred = regr.predict(X_test)"
      ],
      "metadata": {
        "id": "wwPns8QHdbnW"
      },
      "execution_count": null,
      "outputs": []
    },
    {
      "cell_type": "markdown",
      "source": [
        "We **visualize the results**"
      ],
      "metadata": {
        "id": "r04XN_whXJ6B"
      }
    },
    {
      "cell_type": "code",
      "source": [
        "# x axis for plotting\n",
        "xx = np.stack(i for i in range(y_test.shape[0]))\n",
        "plt.plot(xx, y_test, c='r', label='data')\n",
        "#plt.plot(xx, y, c='k', label='data')\n",
        "plt.plot(xx, y_pred, c='g', label='prediction')\n",
        "plt.axis('tight')\n",
        "plt.legend()\n",
        "plt.title(\"DecisionTreeRegressor\")\n",
        "\n",
        "plt.show()"
      ],
      "metadata": {
        "id": "-NtbUE-ldbAQ",
        "colab": {
          "base_uri": "https://localhost:8080/",
          "height": 336
        },
        "outputId": "93a08721-69fd-4904-818e-bc382a20d236"
      },
      "execution_count": null,
      "outputs": [
        {
          "output_type": "stream",
          "name": "stderr",
          "text": [
            "/usr/local/lib/python3.7/dist-packages/IPython/core/interactiveshell.py:2822: FutureWarning: arrays to stack must be passed as a \"sequence\" type such as list or tuple. Support for non-sequence iterables such as generators is deprecated as of NumPy 1.16 and will raise an error in the future.\n",
            "  if self.run_code(code, result):\n"
          ]
        },
        {
          "output_type": "display_data",
          "data": {
            "image/png": "[encoded data removed]",
            "text/plain": [
              "<Figure size 432x288 with 1 Axes>"
            ]
          },
          "metadata": {
            "needs_background": "light"
          }
        }
      ]
    },
    {
      "cell_type": "markdown",
      "source": [
        "#Conclusions"
      ],
      "metadata": {
        "id": "ZN7vgh4UgYIT"
      }
    },
    {
      "cell_type": "markdown",
      "source": [
        "As we have seen in this task, not only **numerical features** are useful in order to develop a classification model. **Text-based features** can **contribute** notably to this process. However, to use this kind of features, a **preprocess step** needs to be done because text may content useless information, misspelled words, etc. Furthermore, we have to use a **TF-IDF vectorizer** to ensure a **valid input** for the classification model. In addition, there are some interesting tools such as **n-grams** because we have checked that we can obtain really useful word combinations and **POS tags** because they allow us to focus on different types of words depending on our aim."
      ],
      "metadata": {
        "id": "Ev8Z4TF0ecAw"
      }
    }
  ],
  "metadata": {
    "colab": {
      "collapsed_sections": [],
      "name": "Task 2",
      "provenance": []
    },
    "kernelspec": {
      "display_name": "Python 3",
      "name": "python3"
    },
    "language_info": {
      "name": "python"
    }
  },
  "nbformat": 4,
  "nbformat_minor": 0
}