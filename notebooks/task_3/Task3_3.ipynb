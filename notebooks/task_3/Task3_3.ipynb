{
  "nbformat": 4,
  "nbformat_minor": 0,
  "metadata": {
    "colab": {
      "name": "Task3.3",
      "provenance": [],
      "collapsed_sections": []
    },
    "kernelspec": {
      "name": "python3",
      "display_name": "Python 3"
    },
    "language_info": {
      "name": "python"
    }
  },
  "cells": [
    {
      "cell_type": "markdown",
      "source": [
        "#All imports we need"
      ],
      "metadata": {
        "id": "or0Vf_6A3QaQ"
      }
    },
    {
      "cell_type": "code",
      "source": [
        "import pandas as pd\n",
        "import re\n",
        "import nltk\n",
        "import pandas \n",
        "import matplotlib.pyplot as plt\n",
        "import numpy as np\n",
        "\n",
        "from nltk.corpus import stopwords \n",
        "from nltk.tokenize import word_tokenize\n",
        "from nltk.stem import WordNetLemmatizer\n",
        "!pip install textblob\n",
        "from textblob import TextBlob\n",
        "from sklearn.feature_extraction.text import TfidfVectorizer\n",
        "from sklearn.model_selection import train_test_split\n",
        "from sklearn.ensemble import RandomForestRegressor\n",
        "from sklearn.metrics import mean_absolute_error\n",
        "from sklearn.feature_selection import SelectKBest, f_regression"
      ],
      "metadata": {
        "id": "YT986lD-3Unj"
      },
      "execution_count": null,
      "outputs": []
    },
    {
      "cell_type": "markdown",
      "source": [
        "##Data loading"
      ],
      "metadata": {
        "id": "lHiK57r23UNB"
      }
    },
    {
      "cell_type": "code",
      "execution_count": null,
      "metadata": {
        "colab": {
          "base_uri": "https://localhost:8080/"
        },
        "id": "hORasICv2w_H",
        "outputId": "d7bcf76a-e232-4bc2-9aff-5d7d3c576ec5"
      },
      "outputs": [
        {
          "output_type": "stream",
          "name": "stdout",
          "text": [
            "--2022-01-22 15:49:24--  https://github.com/curso-iabd-uclm/machinelearning/raw/main/insurance/train.csv\n",
            "Resolving github.com (github.com)... 140.82.113.3\n",
            "Connecting to github.com (github.com)|140.82.113.3|:443... connected.\n",
            "HTTP request sent, awaiting response... 302 Found\n",
            "Location: https://raw.githubusercontent.com/curso-iabd-uclm/machinelearning/main/insurance/train.csv [following]\n",
            "--2022-01-22 15:49:25--  https://raw.githubusercontent.com/curso-iabd-uclm/machinelearning/main/insurance/train.csv\n",
            "Resolving raw.githubusercontent.com (raw.githubusercontent.com)... 185.199.111.133, 185.199.109.133, 185.199.108.133, ...\n",
            "Connecting to raw.githubusercontent.com (raw.githubusercontent.com)|185.199.111.133|:443... connected.\n",
            "HTTP request sent, awaiting response... 200 OK\n",
            "Length: 4942050 (4.7M) [text/plain]\n",
            "Saving to: ‘train.csv’\n",
            "\n",
            "train.csv           100%[===================>]   4.71M  --.-KB/s    in 0.02s   \n",
            "\n",
            "2022-01-22 15:49:25 (215 MB/s) - ‘train.csv’ saved [4942050/4942050]\n",
            "\n"
          ]
        }
      ],
      "source": [
        "!wget https://github.com/curso-iabd-uclm/machinelearning/raw/main/insurance/train.csv"
      ]
    },
    {
      "cell_type": "code",
      "source": [
        "df = pd.read_csv(\"train.csv\")\n",
        "df"
      ],
      "metadata": {
        "id": "2rFN4IWH4TSP",
        "colab": {
          "base_uri": "https://localhost:8080/",
          "height": 956
        },
        "outputId": "7d6ffe91-b579-4bb7-b0cd-f1bab34509e9"
      },
      "execution_count": null,
      "outputs": [
        {
          "output_type": "execute_result",
          "data": {
            "text/html": [
              "\n",
              "  <div id=\"df-b71b312a-9180-43cb-a418-55a5465b1e54\">\n",
              "    <div class=\"colab-df-container\">\n",
              "      <div>\n",
              "<style scoped>\n",
              "    .dataframe tbody tr th:only-of-type {\n",
              "        vertical-align: middle;\n",
              "    }\n",
              "\n",
              "    .dataframe tbody tr th {\n",
              "        vertical-align: top;\n",
              "    }\n",
              "\n",
              "    .dataframe thead th {\n",
              "        text-align: right;\n",
              "    }\n",
              "</style>\n",
              "<table border=\"1\" class=\"dataframe\">\n",
              "  <thead>\n",
              "    <tr style=\"text-align: right;\">\n",
              "      <th></th>\n",
              "      <th>ClaimNumber</th>\n",
              "      <th>DateTimeOfAccident</th>\n",
              "      <th>DateReported</th>\n",
              "      <th>Age</th>\n",
              "      <th>Gender</th>\n",
              "      <th>MaritalStatus</th>\n",
              "      <th>DependentChildren</th>\n",
              "      <th>DependentsOther</th>\n",
              "      <th>WeeklyWages</th>\n",
              "      <th>PartTimeFullTime</th>\n",
              "      <th>HoursWorkedPerWeek</th>\n",
              "      <th>DaysWorkedPerWeek</th>\n",
              "      <th>ClaimDescription</th>\n",
              "      <th>InitialIncurredCalimsCost</th>\n",
              "      <th>UltimateIncurredClaimCost</th>\n",
              "    </tr>\n",
              "  </thead>\n",
              "  <tbody>\n",
              "    <tr>\n",
              "      <th>0</th>\n",
              "      <td>WC8205482</td>\n",
              "      <td>2002-04-09T07:00:00Z</td>\n",
              "      <td>2002-07-05T00:00:00Z</td>\n",
              "      <td>48</td>\n",
              "      <td>M</td>\n",
              "      <td>M</td>\n",
              "      <td>0</td>\n",
              "      <td>0</td>\n",
              "      <td>500.00</td>\n",
              "      <td>F</td>\n",
              "      <td>38.0</td>\n",
              "      <td>5</td>\n",
              "      <td>LIFTING TYRE INJURY TO RIGHT ARM AND WRIST INJURY</td>\n",
              "      <td>1500</td>\n",
              "      <td>4748.203388</td>\n",
              "    </tr>\n",
              "    <tr>\n",
              "      <th>1</th>\n",
              "      <td>WC6922469</td>\n",
              "      <td>1999-01-07T11:00:00Z</td>\n",
              "      <td>1999-01-20T00:00:00Z</td>\n",
              "      <td>43</td>\n",
              "      <td>F</td>\n",
              "      <td>M</td>\n",
              "      <td>0</td>\n",
              "      <td>0</td>\n",
              "      <td>509.34</td>\n",
              "      <td>F</td>\n",
              "      <td>37.5</td>\n",
              "      <td>5</td>\n",
              "      <td>STEPPED AROUND CRATES AND TRUCK TRAY FRACTURE ...</td>\n",
              "      <td>5500</td>\n",
              "      <td>6326.285819</td>\n",
              "    </tr>\n",
              "    <tr>\n",
              "      <th>2</th>\n",
              "      <td>WC5442654</td>\n",
              "      <td>1996-03-25T00:00:00Z</td>\n",
              "      <td>1996-04-14T00:00:00Z</td>\n",
              "      <td>30</td>\n",
              "      <td>M</td>\n",
              "      <td>U</td>\n",
              "      <td>0</td>\n",
              "      <td>0</td>\n",
              "      <td>709.10</td>\n",
              "      <td>F</td>\n",
              "      <td>38.0</td>\n",
              "      <td>5</td>\n",
              "      <td>CUT ON SHARP EDGE CUT LEFT THUMB</td>\n",
              "      <td>1700</td>\n",
              "      <td>2293.949087</td>\n",
              "    </tr>\n",
              "    <tr>\n",
              "      <th>3</th>\n",
              "      <td>WC9796897</td>\n",
              "      <td>2005-06-22T13:00:00Z</td>\n",
              "      <td>2005-07-22T00:00:00Z</td>\n",
              "      <td>41</td>\n",
              "      <td>M</td>\n",
              "      <td>S</td>\n",
              "      <td>0</td>\n",
              "      <td>0</td>\n",
              "      <td>555.46</td>\n",
              "      <td>F</td>\n",
              "      <td>38.0</td>\n",
              "      <td>5</td>\n",
              "      <td>DIGGING LOWER BACK LOWER BACK STRAIN</td>\n",
              "      <td>15000</td>\n",
              "      <td>17786.487170</td>\n",
              "    </tr>\n",
              "    <tr>\n",
              "      <th>4</th>\n",
              "      <td>WC2603726</td>\n",
              "      <td>1990-08-29T08:00:00Z</td>\n",
              "      <td>1990-09-27T00:00:00Z</td>\n",
              "      <td>36</td>\n",
              "      <td>M</td>\n",
              "      <td>M</td>\n",
              "      <td>0</td>\n",
              "      <td>0</td>\n",
              "      <td>377.10</td>\n",
              "      <td>F</td>\n",
              "      <td>38.0</td>\n",
              "      <td>5</td>\n",
              "      <td>REACHING ABOVE SHOULDER LEVEL ACUTE MUSCLE STR...</td>\n",
              "      <td>2800</td>\n",
              "      <td>4014.002925</td>\n",
              "    </tr>\n",
              "    <tr>\n",
              "      <th>...</th>\n",
              "      <td>...</td>\n",
              "      <td>...</td>\n",
              "      <td>...</td>\n",
              "      <td>...</td>\n",
              "      <td>...</td>\n",
              "      <td>...</td>\n",
              "      <td>...</td>\n",
              "      <td>...</td>\n",
              "      <td>...</td>\n",
              "      <td>...</td>\n",
              "      <td>...</td>\n",
              "      <td>...</td>\n",
              "      <td>...</td>\n",
              "      <td>...</td>\n",
              "      <td>...</td>\n",
              "    </tr>\n",
              "    <tr>\n",
              "      <th>36171</th>\n",
              "      <td>WC5624756</td>\n",
              "      <td>1996-05-29T09:00:00Z</td>\n",
              "      <td>1996-06-27T00:00:00Z</td>\n",
              "      <td>20</td>\n",
              "      <td>F</td>\n",
              "      <td>S</td>\n",
              "      <td>0</td>\n",
              "      <td>0</td>\n",
              "      <td>344.16</td>\n",
              "      <td>F</td>\n",
              "      <td>40.0</td>\n",
              "      <td>5</td>\n",
              "      <td>WALKED INTO DOOR BRUISED LEFT KNEE PAIN</td>\n",
              "      <td>1400</td>\n",
              "      <td>1343.054886</td>\n",
              "    </tr>\n",
              "    <tr>\n",
              "      <th>36172</th>\n",
              "      <td>WC8516685</td>\n",
              "      <td>2002-10-08T08:00:00Z</td>\n",
              "      <td>2003-02-07T00:00:00Z</td>\n",
              "      <td>35</td>\n",
              "      <td>M</td>\n",
              "      <td>M</td>\n",
              "      <td>0</td>\n",
              "      <td>0</td>\n",
              "      <td>1668.83</td>\n",
              "      <td>F</td>\n",
              "      <td>71.0</td>\n",
              "      <td>7</td>\n",
              "      <td>LIFTING HOT WATER FROM TRAY BURN LEFT WRIST</td>\n",
              "      <td>1000</td>\n",
              "      <td>172876.632600</td>\n",
              "    </tr>\n",
              "    <tr>\n",
              "      <th>36173</th>\n",
              "      <td>WC6891668</td>\n",
              "      <td>1999-09-22T09:00:00Z</td>\n",
              "      <td>1999-11-11T00:00:00Z</td>\n",
              "      <td>52</td>\n",
              "      <td>F</td>\n",
              "      <td>M</td>\n",
              "      <td>0</td>\n",
              "      <td>0</td>\n",
              "      <td>204.87</td>\n",
              "      <td>P</td>\n",
              "      <td>20.0</td>\n",
              "      <td>4</td>\n",
              "      <td>REMOVING BROKEN GLASS LACERATED LEFT THUMB</td>\n",
              "      <td>500</td>\n",
              "      <td>632.281472</td>\n",
              "    </tr>\n",
              "    <tr>\n",
              "      <th>36174</th>\n",
              "      <td>WC4287842</td>\n",
              "      <td>1993-02-05T06:00:00Z</td>\n",
              "      <td>1993-03-19T00:00:00Z</td>\n",
              "      <td>28</td>\n",
              "      <td>M</td>\n",
              "      <td>M</td>\n",
              "      <td>0</td>\n",
              "      <td>0</td>\n",
              "      <td>730.87</td>\n",
              "      <td>F</td>\n",
              "      <td>38.0</td>\n",
              "      <td>5</td>\n",
              "      <td>FELL OVER SPRAINED ANKLE AND KNEE INJURY</td>\n",
              "      <td>4000</td>\n",
              "      <td>6714.495760</td>\n",
              "    </tr>\n",
              "    <tr>\n",
              "      <th>36175</th>\n",
              "      <td>WC6368063</td>\n",
              "      <td>1998-03-06T10:00:00Z</td>\n",
              "      <td>1998-04-09T00:00:00Z</td>\n",
              "      <td>29</td>\n",
              "      <td>M</td>\n",
              "      <td>S</td>\n",
              "      <td>0</td>\n",
              "      <td>0</td>\n",
              "      <td>200.00</td>\n",
              "      <td>F</td>\n",
              "      <td>38.0</td>\n",
              "      <td>5</td>\n",
              "      <td>LIFTING METAL CYLINDER STRAIN NECK</td>\n",
              "      <td>3000</td>\n",
              "      <td>2588.845117</td>\n",
              "    </tr>\n",
              "  </tbody>\n",
              "</table>\n",
              "<p>36176 rows × 15 columns</p>\n",
              "</div>\n",
              "      <button class=\"colab-df-convert\" onclick=\"convertToInteractive('df-b71b312a-9180-43cb-a418-55a5465b1e54')\"\n",
              "              title=\"Convert this dataframe to an interactive table.\"\n",
              "              style=\"display:none;\">\n",
              "        \n",
              "  <svg xmlns=\"http://www.w3.org/2000/svg\" height=\"24px\"viewBox=\"0 0 24 24\"\n",
              "       width=\"24px\">\n",
              "    <path d=\"M0 0h24v24H0V0z\" fill=\"none\"/>\n",
              "    <path d=\"M18.56 5.44l.94 2.06.94-2.06 2.06-.94-2.06-.94-.94-2.06-.94 2.06-2.06.94zm-11 1L8.5 8.5l.94-2.06 2.06-.94-2.06-.94L8.5 2.5l-.94 2.06-2.06.94zm10 10l.94 2.06.94-2.06 2.06-.94-2.06-.94-.94-2.06-.94 2.06-2.06.94z\"/><path d=\"M17.41 7.96l-1.37-1.37c-.4-.4-.92-.59-1.43-.59-.52 0-1.04.2-1.43.59L10.3 9.45l-7.72 7.72c-.78.78-.78 2.05 0 2.83L4 21.41c.39.39.9.59 1.41.59.51 0 1.02-.2 1.41-.59l7.78-7.78 2.81-2.81c.8-.78.8-2.07 0-2.86zM5.41 20L4 18.59l7.72-7.72 1.47 1.35L5.41 20z\"/>\n",
              "  </svg>\n",
              "      </button>\n",
              "      \n",
              "  <style>\n",
              "    .colab-df-container {\n",
              "      display:flex;\n",
              "      flex-wrap:wrap;\n",
              "      gap: 12px;\n",
              "    }\n",
              "\n",
              "    .colab-df-convert {\n",
              "      background-color: #E8F0FE;\n",
              "      border: none;\n",
              "      border-radius: 50%;\n",
              "      cursor: pointer;\n",
              "      display: none;\n",
              "      fill: #1967D2;\n",
              "      height: 32px;\n",
              "      padding: 0 0 0 0;\n",
              "      width: 32px;\n",
              "    }\n",
              "\n",
              "    .colab-df-convert:hover {\n",
              "      background-color: #E2EBFA;\n",
              "      box-shadow: 0px 1px 2px rgba(60, 64, 67, 0.3), 0px 1px 3px 1px rgba(60, 64, 67, 0.15);\n",
              "      fill: #174EA6;\n",
              "    }\n",
              "\n",
              "    [theme=dark] .colab-df-convert {\n",
              "      background-color: #3B4455;\n",
              "      fill: #D2E3FC;\n",
              "    }\n",
              "\n",
              "    [theme=dark] .colab-df-convert:hover {\n",
              "      background-color: #434B5C;\n",
              "      box-shadow: 0px 1px 3px 1px rgba(0, 0, 0, 0.15);\n",
              "      filter: drop-shadow(0px 1px 2px rgba(0, 0, 0, 0.3));\n",
              "      fill: #FFFFFF;\n",
              "    }\n",
              "  </style>\n",
              "\n",
              "      <script>\n",
              "        const buttonEl =\n",
              "          document.querySelector('#df-b71b312a-9180-43cb-a418-55a5465b1e54 button.colab-df-convert');\n",
              "        buttonEl.style.display =\n",
              "          google.colab.kernel.accessAllowed ? 'block' : 'none';\n",
              "\n",
              "        async function convertToInteractive(key) {\n",
              "          const element = document.querySelector('#df-b71b312a-9180-43cb-a418-55a5465b1e54');\n",
              "          const dataTable =\n",
              "            await google.colab.kernel.invokeFunction('convertToInteractive',\n",
              "                                                     [key], {});\n",
              "          if (!dataTable) return;\n",
              "\n",
              "          const docLinkHtml = 'Like what you see? Visit the ' +\n",
              "            '<a target=\"_blank\" href=https://colab.research.google.com/notebooks/data_table.ipynb>data table notebook</a>'\n",
              "            + ' to learn more about interactive tables.';\n",
              "          element.innerHTML = '';\n",
              "          dataTable['output_type'] = 'display_data';\n",
              "          await google.colab.output.renderOutput(dataTable, element);\n",
              "          const docLink = document.createElement('div');\n",
              "          docLink.innerHTML = docLinkHtml;\n",
              "          element.appendChild(docLink);\n",
              "        }\n",
              "      </script>\n",
              "    </div>\n",
              "  </div>\n",
              "  "
            ],
            "text/plain": [
              "      ClaimNumber  ... UltimateIncurredClaimCost\n",
              "0       WC8205482  ...               4748.203388\n",
              "1       WC6922469  ...               6326.285819\n",
              "2       WC5442654  ...               2293.949087\n",
              "3       WC9796897  ...              17786.487170\n",
              "4       WC2603726  ...               4014.002925\n",
              "...           ...  ...                       ...\n",
              "36171   WC5624756  ...               1343.054886\n",
              "36172   WC8516685  ...             172876.632600\n",
              "36173   WC6891668  ...                632.281472\n",
              "36174   WC4287842  ...               6714.495760\n",
              "36175   WC6368063  ...               2588.845117\n",
              "\n",
              "[36176 rows x 15 columns]"
            ]
          },
          "metadata": {},
          "execution_count": 15
        }
      ]
    },
    {
      "cell_type": "markdown",
      "source": [
        "##Preprocessing"
      ],
      "metadata": {
        "id": "r2jmtoLh3rsR"
      }
    },
    {
      "cell_type": "markdown",
      "source": [
        "Once we have downloaded train.csv, the first thing we are going to do is to remove the null values from this file."
      ],
      "metadata": {
        "id": "RikTeQKV4Fds"
      }
    },
    {
      "cell_type": "code",
      "source": [
        "df.dropna(axis=0, how='any', thresh=None, subset=None, inplace=True)"
      ],
      "metadata": {
        "id": "03GFoAsS3yJH"
      },
      "execution_count": null,
      "outputs": []
    },
    {
      "cell_type": "markdown",
      "source": [
        "The next step is to transform the categorical features into numerical features."
      ],
      "metadata": {
        "id": "M4c-87ck4liN"
      }
    },
    {
      "cell_type": "code",
      "source": [
        "df_OneHot = pd.get_dummies(df[['Gender','MaritalStatus', 'PartTimeFullTime']])"
      ],
      "metadata": {
        "id": "8dxYkrll4hZS"
      },
      "execution_count": null,
      "outputs": []
    },
    {
      "cell_type": "code",
      "source": [
        "df_full = pd.concat([df, df_OneHot], axis = 1)"
      ],
      "metadata": {
        "id": "zGQzwUb34uiM"
      },
      "execution_count": null,
      "outputs": []
    },
    {
      "cell_type": "markdown",
      "source": [
        "##Feature selection"
      ],
      "metadata": {
        "id": "cpdltJWH5MQy"
      }
    },
    {
      "cell_type": "markdown",
      "source": [
        "For the feature selection we decided to exclude categorical, text-based and date-based features. In this context they are **'Gender', 'MaritalStatus', 'PartialFullTime', 'DateReported', 'DateTimeOfAccident', 'ClaimNumber', 'PartTimeFullTime'.** However, in this part of the task we will keep **'ClaimDescription'** feature due to we will work with it in the next steps"
      ],
      "metadata": {
        "id": "tll0O51q5XkZ"
      }
    },
    {
      "cell_type": "code",
      "source": [
        "exclude = ['Gender', 'MaritalStatus', 'PartialFullTime', 'DateReported', 'DateTimeOfAccident', 'ClaimNumber', 'PartTimeFullTime']\n",
        "df_feature_selected = df_full.loc[:, df_full.columns.difference(exclude)]\n",
        "df_feature_selected"
      ],
      "metadata": {
        "colab": {
          "base_uri": "https://localhost:8080/",
          "height": 956
        },
        "id": "JOS3WnsZ5YEf",
        "outputId": "b0722fa7-f3c1-43f2-8a2f-e2f75427ddb6"
      },
      "execution_count": null,
      "outputs": [
        {
          "output_type": "execute_result",
          "data": {
            "text/html": [
              "\n",
              "  <div id=\"df-d0ea3acf-9666-47e7-b306-1fe3d2a483de\">\n",
              "    <div class=\"colab-df-container\">\n",
              "      <div>\n",
              "<style scoped>\n",
              "    .dataframe tbody tr th:only-of-type {\n",
              "        vertical-align: middle;\n",
              "    }\n",
              "\n",
              "    .dataframe tbody tr th {\n",
              "        vertical-align: top;\n",
              "    }\n",
              "\n",
              "    .dataframe thead th {\n",
              "        text-align: right;\n",
              "    }\n",
              "</style>\n",
              "<table border=\"1\" class=\"dataframe\">\n",
              "  <thead>\n",
              "    <tr style=\"text-align: right;\">\n",
              "      <th></th>\n",
              "      <th>Age</th>\n",
              "      <th>ClaimDescription</th>\n",
              "      <th>DaysWorkedPerWeek</th>\n",
              "      <th>DependentChildren</th>\n",
              "      <th>DependentsOther</th>\n",
              "      <th>Gender_F</th>\n",
              "      <th>Gender_M</th>\n",
              "      <th>Gender_U</th>\n",
              "      <th>HoursWorkedPerWeek</th>\n",
              "      <th>InitialIncurredCalimsCost</th>\n",
              "      <th>MaritalStatus_M</th>\n",
              "      <th>MaritalStatus_S</th>\n",
              "      <th>MaritalStatus_U</th>\n",
              "      <th>PartTimeFullTime_F</th>\n",
              "      <th>PartTimeFullTime_P</th>\n",
              "      <th>UltimateIncurredClaimCost</th>\n",
              "      <th>WeeklyWages</th>\n",
              "    </tr>\n",
              "  </thead>\n",
              "  <tbody>\n",
              "    <tr>\n",
              "      <th>0</th>\n",
              "      <td>48</td>\n",
              "      <td>LIFTING TYRE INJURY TO RIGHT ARM AND WRIST INJURY</td>\n",
              "      <td>5</td>\n",
              "      <td>0</td>\n",
              "      <td>0</td>\n",
              "      <td>0</td>\n",
              "      <td>1</td>\n",
              "      <td>0</td>\n",
              "      <td>38.0</td>\n",
              "      <td>1500</td>\n",
              "      <td>1</td>\n",
              "      <td>0</td>\n",
              "      <td>0</td>\n",
              "      <td>1</td>\n",
              "      <td>0</td>\n",
              "      <td>4748.203388</td>\n",
              "      <td>500.00</td>\n",
              "    </tr>\n",
              "    <tr>\n",
              "      <th>1</th>\n",
              "      <td>43</td>\n",
              "      <td>STEPPED AROUND CRATES AND TRUCK TRAY FRACTURE ...</td>\n",
              "      <td>5</td>\n",
              "      <td>0</td>\n",
              "      <td>0</td>\n",
              "      <td>1</td>\n",
              "      <td>0</td>\n",
              "      <td>0</td>\n",
              "      <td>37.5</td>\n",
              "      <td>5500</td>\n",
              "      <td>1</td>\n",
              "      <td>0</td>\n",
              "      <td>0</td>\n",
              "      <td>1</td>\n",
              "      <td>0</td>\n",
              "      <td>6326.285819</td>\n",
              "      <td>509.34</td>\n",
              "    </tr>\n",
              "    <tr>\n",
              "      <th>2</th>\n",
              "      <td>30</td>\n",
              "      <td>CUT ON SHARP EDGE CUT LEFT THUMB</td>\n",
              "      <td>5</td>\n",
              "      <td>0</td>\n",
              "      <td>0</td>\n",
              "      <td>0</td>\n",
              "      <td>1</td>\n",
              "      <td>0</td>\n",
              "      <td>38.0</td>\n",
              "      <td>1700</td>\n",
              "      <td>0</td>\n",
              "      <td>0</td>\n",
              "      <td>1</td>\n",
              "      <td>1</td>\n",
              "      <td>0</td>\n",
              "      <td>2293.949087</td>\n",
              "      <td>709.10</td>\n",
              "    </tr>\n",
              "    <tr>\n",
              "      <th>3</th>\n",
              "      <td>41</td>\n",
              "      <td>DIGGING LOWER BACK LOWER BACK STRAIN</td>\n",
              "      <td>5</td>\n",
              "      <td>0</td>\n",
              "      <td>0</td>\n",
              "      <td>0</td>\n",
              "      <td>1</td>\n",
              "      <td>0</td>\n",
              "      <td>38.0</td>\n",
              "      <td>15000</td>\n",
              "      <td>0</td>\n",
              "      <td>1</td>\n",
              "      <td>0</td>\n",
              "      <td>1</td>\n",
              "      <td>0</td>\n",
              "      <td>17786.487170</td>\n",
              "      <td>555.46</td>\n",
              "    </tr>\n",
              "    <tr>\n",
              "      <th>4</th>\n",
              "      <td>36</td>\n",
              "      <td>REACHING ABOVE SHOULDER LEVEL ACUTE MUSCLE STR...</td>\n",
              "      <td>5</td>\n",
              "      <td>0</td>\n",
              "      <td>0</td>\n",
              "      <td>0</td>\n",
              "      <td>1</td>\n",
              "      <td>0</td>\n",
              "      <td>38.0</td>\n",
              "      <td>2800</td>\n",
              "      <td>1</td>\n",
              "      <td>0</td>\n",
              "      <td>0</td>\n",
              "      <td>1</td>\n",
              "      <td>0</td>\n",
              "      <td>4014.002925</td>\n",
              "      <td>377.10</td>\n",
              "    </tr>\n",
              "    <tr>\n",
              "      <th>...</th>\n",
              "      <td>...</td>\n",
              "      <td>...</td>\n",
              "      <td>...</td>\n",
              "      <td>...</td>\n",
              "      <td>...</td>\n",
              "      <td>...</td>\n",
              "      <td>...</td>\n",
              "      <td>...</td>\n",
              "      <td>...</td>\n",
              "      <td>...</td>\n",
              "      <td>...</td>\n",
              "      <td>...</td>\n",
              "      <td>...</td>\n",
              "      <td>...</td>\n",
              "      <td>...</td>\n",
              "      <td>...</td>\n",
              "      <td>...</td>\n",
              "    </tr>\n",
              "    <tr>\n",
              "      <th>36171</th>\n",
              "      <td>20</td>\n",
              "      <td>WALKED INTO DOOR BRUISED LEFT KNEE PAIN</td>\n",
              "      <td>5</td>\n",
              "      <td>0</td>\n",
              "      <td>0</td>\n",
              "      <td>1</td>\n",
              "      <td>0</td>\n",
              "      <td>0</td>\n",
              "      <td>40.0</td>\n",
              "      <td>1400</td>\n",
              "      <td>0</td>\n",
              "      <td>1</td>\n",
              "      <td>0</td>\n",
              "      <td>1</td>\n",
              "      <td>0</td>\n",
              "      <td>1343.054886</td>\n",
              "      <td>344.16</td>\n",
              "    </tr>\n",
              "    <tr>\n",
              "      <th>36172</th>\n",
              "      <td>35</td>\n",
              "      <td>LIFTING HOT WATER FROM TRAY BURN LEFT WRIST</td>\n",
              "      <td>7</td>\n",
              "      <td>0</td>\n",
              "      <td>0</td>\n",
              "      <td>0</td>\n",
              "      <td>1</td>\n",
              "      <td>0</td>\n",
              "      <td>71.0</td>\n",
              "      <td>1000</td>\n",
              "      <td>1</td>\n",
              "      <td>0</td>\n",
              "      <td>0</td>\n",
              "      <td>1</td>\n",
              "      <td>0</td>\n",
              "      <td>172876.632600</td>\n",
              "      <td>1668.83</td>\n",
              "    </tr>\n",
              "    <tr>\n",
              "      <th>36173</th>\n",
              "      <td>52</td>\n",
              "      <td>REMOVING BROKEN GLASS LACERATED LEFT THUMB</td>\n",
              "      <td>4</td>\n",
              "      <td>0</td>\n",
              "      <td>0</td>\n",
              "      <td>1</td>\n",
              "      <td>0</td>\n",
              "      <td>0</td>\n",
              "      <td>20.0</td>\n",
              "      <td>500</td>\n",
              "      <td>1</td>\n",
              "      <td>0</td>\n",
              "      <td>0</td>\n",
              "      <td>0</td>\n",
              "      <td>1</td>\n",
              "      <td>632.281472</td>\n",
              "      <td>204.87</td>\n",
              "    </tr>\n",
              "    <tr>\n",
              "      <th>36174</th>\n",
              "      <td>28</td>\n",
              "      <td>FELL OVER SPRAINED ANKLE AND KNEE INJURY</td>\n",
              "      <td>5</td>\n",
              "      <td>0</td>\n",
              "      <td>0</td>\n",
              "      <td>0</td>\n",
              "      <td>1</td>\n",
              "      <td>0</td>\n",
              "      <td>38.0</td>\n",
              "      <td>4000</td>\n",
              "      <td>1</td>\n",
              "      <td>0</td>\n",
              "      <td>0</td>\n",
              "      <td>1</td>\n",
              "      <td>0</td>\n",
              "      <td>6714.495760</td>\n",
              "      <td>730.87</td>\n",
              "    </tr>\n",
              "    <tr>\n",
              "      <th>36175</th>\n",
              "      <td>29</td>\n",
              "      <td>LIFTING METAL CYLINDER STRAIN NECK</td>\n",
              "      <td>5</td>\n",
              "      <td>0</td>\n",
              "      <td>0</td>\n",
              "      <td>0</td>\n",
              "      <td>1</td>\n",
              "      <td>0</td>\n",
              "      <td>38.0</td>\n",
              "      <td>3000</td>\n",
              "      <td>0</td>\n",
              "      <td>1</td>\n",
              "      <td>0</td>\n",
              "      <td>1</td>\n",
              "      <td>0</td>\n",
              "      <td>2588.845117</td>\n",
              "      <td>200.00</td>\n",
              "    </tr>\n",
              "  </tbody>\n",
              "</table>\n",
              "<p>36049 rows × 17 columns</p>\n",
              "</div>\n",
              "      <button class=\"colab-df-convert\" onclick=\"convertToInteractive('df-d0ea3acf-9666-47e7-b306-1fe3d2a483de')\"\n",
              "              title=\"Convert this dataframe to an interactive table.\"\n",
              "              style=\"display:none;\">\n",
              "        \n",
              "  <svg xmlns=\"http://www.w3.org/2000/svg\" height=\"24px\"viewBox=\"0 0 24 24\"\n",
              "       width=\"24px\">\n",
              "    <path d=\"M0 0h24v24H0V0z\" fill=\"none\"/>\n",
              "    <path d=\"M18.56 5.44l.94 2.06.94-2.06 2.06-.94-2.06-.94-.94-2.06-.94 2.06-2.06.94zm-11 1L8.5 8.5l.94-2.06 2.06-.94-2.06-.94L8.5 2.5l-.94 2.06-2.06.94zm10 10l.94 2.06.94-2.06 2.06-.94-2.06-.94-.94-2.06-.94 2.06-2.06.94z\"/><path d=\"M17.41 7.96l-1.37-1.37c-.4-.4-.92-.59-1.43-.59-.52 0-1.04.2-1.43.59L10.3 9.45l-7.72 7.72c-.78.78-.78 2.05 0 2.83L4 21.41c.39.39.9.59 1.41.59.51 0 1.02-.2 1.41-.59l7.78-7.78 2.81-2.81c.8-.78.8-2.07 0-2.86zM5.41 20L4 18.59l7.72-7.72 1.47 1.35L5.41 20z\"/>\n",
              "  </svg>\n",
              "      </button>\n",
              "      \n",
              "  <style>\n",
              "    .colab-df-container {\n",
              "      display:flex;\n",
              "      flex-wrap:wrap;\n",
              "      gap: 12px;\n",
              "    }\n",
              "\n",
              "    .colab-df-convert {\n",
              "      background-color: #E8F0FE;\n",
              "      border: none;\n",
              "      border-radius: 50%;\n",
              "      cursor: pointer;\n",
              "      display: none;\n",
              "      fill: #1967D2;\n",
              "      height: 32px;\n",
              "      padding: 0 0 0 0;\n",
              "      width: 32px;\n",
              "    }\n",
              "\n",
              "    .colab-df-convert:hover {\n",
              "      background-color: #E2EBFA;\n",
              "      box-shadow: 0px 1px 2px rgba(60, 64, 67, 0.3), 0px 1px 3px 1px rgba(60, 64, 67, 0.15);\n",
              "      fill: #174EA6;\n",
              "    }\n",
              "\n",
              "    [theme=dark] .colab-df-convert {\n",
              "      background-color: #3B4455;\n",
              "      fill: #D2E3FC;\n",
              "    }\n",
              "\n",
              "    [theme=dark] .colab-df-convert:hover {\n",
              "      background-color: #434B5C;\n",
              "      box-shadow: 0px 1px 3px 1px rgba(0, 0, 0, 0.15);\n",
              "      filter: drop-shadow(0px 1px 2px rgba(0, 0, 0, 0.3));\n",
              "      fill: #FFFFFF;\n",
              "    }\n",
              "  </style>\n",
              "\n",
              "      <script>\n",
              "        const buttonEl =\n",
              "          document.querySelector('#df-d0ea3acf-9666-47e7-b306-1fe3d2a483de button.colab-df-convert');\n",
              "        buttonEl.style.display =\n",
              "          google.colab.kernel.accessAllowed ? 'block' : 'none';\n",
              "\n",
              "        async function convertToInteractive(key) {\n",
              "          const element = document.querySelector('#df-d0ea3acf-9666-47e7-b306-1fe3d2a483de');\n",
              "          const dataTable =\n",
              "            await google.colab.kernel.invokeFunction('convertToInteractive',\n",
              "                                                     [key], {});\n",
              "          if (!dataTable) return;\n",
              "\n",
              "          const docLinkHtml = 'Like what you see? Visit the ' +\n",
              "            '<a target=\"_blank\" href=https://colab.research.google.com/notebooks/data_table.ipynb>data table notebook</a>'\n",
              "            + ' to learn more about interactive tables.';\n",
              "          element.innerHTML = '';\n",
              "          dataTable['output_type'] = 'display_data';\n",
              "          await google.colab.output.renderOutput(dataTable, element);\n",
              "          const docLink = document.createElement('div');\n",
              "          docLink.innerHTML = docLinkHtml;\n",
              "          element.appendChild(docLink);\n",
              "        }\n",
              "      </script>\n",
              "    </div>\n",
              "  </div>\n",
              "  "
            ],
            "text/plain": [
              "       Age  ... WeeklyWages\n",
              "0       48  ...      500.00\n",
              "1       43  ...      509.34\n",
              "2       30  ...      709.10\n",
              "3       41  ...      555.46\n",
              "4       36  ...      377.10\n",
              "...    ...  ...         ...\n",
              "36171   20  ...      344.16\n",
              "36172   35  ...     1668.83\n",
              "36173   52  ...      204.87\n",
              "36174   28  ...      730.87\n",
              "36175   29  ...      200.00\n",
              "\n",
              "[36049 rows x 17 columns]"
            ]
          },
          "metadata": {},
          "execution_count": 19
        }
      ]
    },
    {
      "cell_type": "markdown",
      "source": [
        "#3. Improvements"
      ],
      "metadata": {
        "id": "3bH_yF-8_B4H"
      }
    },
    {
      "cell_type": "markdown",
      "source": [
        "In order to consider other options, now we will take into account **'ClaimDescription'**, which is a **text-based feature**. To do that, a **preprocessing** step needs to be done, then we will use **TF-IDF** vectorizer and TF-IDF vectorizer with **n-grams** as input of a **Random Forest Regressor**."
      ],
      "metadata": {
        "id": "tymCJSuswKMY"
      }
    },
    {
      "cell_type": "markdown",
      "source": [
        "##Preprocessing ClaimDescription text"
      ],
      "metadata": {
        "id": "-z7byjh4BZ6y"
      }
    },
    {
      "cell_type": "markdown",
      "source": [
        "We remove all **capital letters**"
      ],
      "metadata": {
        "id": "e_tewNljARdH"
      }
    },
    {
      "cell_type": "code",
      "source": [
        "df_feature_selected[\"ClaimDescription\"] = df_feature_selected[\"ClaimDescription\"].apply(lambda elem: elem.lower())"
      ],
      "metadata": {
        "id": "RWbh_sQ-AJxg"
      },
      "execution_count": null,
      "outputs": []
    },
    {
      "cell_type": "markdown",
      "source": [
        "We remove **repeated words**"
      ],
      "metadata": {
        "id": "sI5L0ITwAqMu"
      }
    },
    {
      "cell_type": "code",
      "source": [
        "df_feature_selected[\"ClaimDescription\"] = df_feature_selected[\"ClaimDescription\"].apply(lambda elem: re.sub(r'\\b(\\w+)( \\1\\b)+', r'\\1', elem))"
      ],
      "metadata": {
        "id": "nQaqITajAsIZ"
      },
      "execution_count": null,
      "outputs": []
    },
    {
      "cell_type": "markdown",
      "source": [
        "We remove **stopwords** using nltk"
      ],
      "metadata": {
        "id": "_50a3x0bfv6I"
      }
    },
    {
      "cell_type": "code",
      "source": [
        "nltk.download('stopwords')\n",
        "nltk.download('punkt')\n",
        "stopwords = set(stopwords.words(\"english\"))\n",
        "\n",
        "def remove_stop_words(text):\n",
        "  text_without_stopwords = \"\"\n",
        "  tokens = word_tokenize(text)\n",
        "  words_without_stopwords = [w for w in tokens if not w in stopwords]\n",
        "  for word in words_without_stopwords:\n",
        "    text_without_stopwords = text_without_stopwords + word + \" \"\n",
        "  return text_without_stopwords\n",
        "\n",
        "df_feature_selected[\"ClaimDescription\"] = df_feature_selected[\"ClaimDescription\"].apply(lambda elem: remove_stop_words(elem))"
      ],
      "metadata": {
        "colab": {
          "base_uri": "https://localhost:8080/"
        },
        "id": "_tlaNnOdfxrP",
        "outputId": "4d5f1295-f398-418b-9dfe-bc94117af675"
      },
      "execution_count": null,
      "outputs": [
        {
          "output_type": "stream",
          "name": "stdout",
          "text": [
            "[nltk_data] Downloading package stopwords to /root/nltk_data...\n",
            "[nltk_data]   Unzipping corpora/stopwords.zip.\n",
            "[nltk_data] Downloading package punkt to /root/nltk_data...\n",
            "[nltk_data]   Unzipping tokenizers/punkt.zip.\n"
          ]
        }
      ]
    },
    {
      "cell_type": "markdown",
      "source": [
        "We **lemmatize** all terms using WordNetLemmatizer"
      ],
      "metadata": {
        "id": "THXYr0JDBlkC"
      }
    },
    {
      "cell_type": "code",
      "source": [
        "nltk.download('wordnet')\n",
        "\n",
        "lemmatizer=WordNetLemmatizer()\n",
        "\n",
        "def lemmatizerAux(words):\n",
        "  lemmatized_words = \"\"\n",
        "  tokenized_words = word_tokenize(words)\n",
        "  for word in tokenized_words:\n",
        "    v_lemmatized_word = lemmatizer.lemmatize(word, pos = 'v')\n",
        "    lemmatized_words = lemmatized_words + \" \" + lemmatizer.lemmatize(v_lemmatized_word, pos = 'n')\n",
        "  return lemmatized_words\n",
        "\n",
        "df_feature_selected[\"ClaimDescription\"] = df_feature_selected[\"ClaimDescription\"].apply(lambda elem: lemmatizerAux(elem))"
      ],
      "metadata": {
        "id": "VEkgn396B1Yj",
        "colab": {
          "base_uri": "https://localhost:8080/"
        },
        "outputId": "c1eb1d6d-1e21-480e-ba4e-54dcf195fd71"
      },
      "execution_count": null,
      "outputs": [
        {
          "output_type": "stream",
          "name": "stdout",
          "text": [
            "[nltk_data] Downloading package wordnet to /root/nltk_data...\n",
            "[nltk_data]   Unzipping corpora/wordnet.zip.\n"
          ]
        }
      ]
    },
    {
      "cell_type": "markdown",
      "source": [
        "We correct **wrong words** using TextBlob\n",
        "\n"
      ],
      "metadata": {
        "id": "0YrmFZWTDGsT"
      }
    },
    {
      "cell_type": "code",
      "source": [
        "def correct_words(text):\n",
        "  new_doc = TextBlob(text)\n",
        "  result = new_doc.correct()\n",
        "  return str(result)\n",
        "\n",
        "df_feature_selected[\"ClaimDescription\"] = df_feature_selected[\"ClaimDescription\"].apply(lambda elem: correct_words(elem))"
      ],
      "metadata": {
        "id": "NZ6q6R_5DCiq",
        "colab": {
          "base_uri": "https://localhost:8080/"
        },
        "outputId": "3b65d2bd-aa08-4836-eb5c-19ba8b51ae12"
      },
      "execution_count": null,
      "outputs": [
        {
          "output_type": "stream",
          "name": "stdout",
          "text": [
            "Requirement already satisfied: textblob in /usr/local/lib/python3.7/dist-packages (0.15.3)\n",
            "Requirement already satisfied: nltk>=3.1 in /usr/local/lib/python3.7/dist-packages (from textblob) (3.2.5)\n",
            "Requirement already satisfied: six in /usr/local/lib/python3.7/dist-packages (from nltk>=3.1->textblob) (1.15.0)\n"
          ]
        }
      ]
    },
    {
      "cell_type": "markdown",
      "source": [
        "Save the preprocessed dataframe with pickle"
      ],
      "metadata": {
        "id": "6VRhNOkUezTe"
      }
    },
    {
      "cell_type": "code",
      "source": [
        "df_feature_selected.to_pickle('./preprocessed.pkl')"
      ],
      "metadata": {
        "id": "nrfkFpZBe2hD"
      },
      "execution_count": null,
      "outputs": []
    },
    {
      "cell_type": "code",
      "source": [
        "df_feature_selected = pd.read_pickle('./preprocessed.pkl')"
      ],
      "metadata": {
        "id": "9oYQSTTMf5ZV"
      },
      "execution_count": null,
      "outputs": []
    },
    {
      "cell_type": "markdown",
      "source": [
        "###TF-IDF vectorizer"
      ],
      "metadata": {
        "id": "8KXrWkXiDq9U"
      }
    },
    {
      "cell_type": "code",
      "source": [
        "vectorizer = TfidfVectorizer(use_idf=True, smooth_idf=True)\n",
        "output_tfidf = vectorizer.fit_transform(df_feature_selected[\"ClaimDescription\"].tolist())\n",
        "\n",
        "cv_dataframe=pandas.DataFrame(output_tfidf.toarray(), columns=vectorizer.get_feature_names())"
      ],
      "metadata": {
        "id": "iVSylG9fD_p8",
        "colab": {
          "base_uri": "https://localhost:8080/"
        },
        "outputId": "3a6b9937-9a57-4aee-fa59-152df0b42614"
      },
      "execution_count": null,
      "outputs": [
        {
          "output_type": "stream",
          "name": "stderr",
          "text": [
            "/usr/local/lib/python3.7/dist-packages/sklearn/utils/deprecation.py:87: FutureWarning: Function get_feature_names is deprecated; get_feature_names is deprecated in 1.0 and will be removed in 1.2. Please use get_feature_names_out instead.\n",
            "  warnings.warn(msg, category=FutureWarning)\n"
          ]
        }
      ]
    },
    {
      "cell_type": "markdown",
      "source": [
        "##Regression"
      ],
      "metadata": {
        "id": "u8x_NlDJjaYD"
      }
    },
    {
      "cell_type": "markdown",
      "source": [
        "We **split** the output of the tf-idf vectorizer in train (70%) and test (30%)"
      ],
      "metadata": {
        "id": "AUswTXQOu8NB"
      }
    },
    {
      "cell_type": "code",
      "source": [
        "X = cv_dataframe#output_tfidf\n",
        "y = df['UltimateIncurredClaimCost']\n",
        "\n",
        "X_train, X_test, y_train, y_test = train_test_split(X, y, test_size=0.4)"
      ],
      "metadata": {
        "id": "vFrj503QjcSs"
      },
      "execution_count": null,
      "outputs": []
    },
    {
      "cell_type": "code",
      "source": [
        "#1.1 Model Parametrization \n",
        "regressor = RandomForestRegressor(n_estimators= 4, max_depth = 2, criterion='mae', random_state=0)\n",
        "#1.2 Model construction\n",
        "regressor.fit(X_train, y_train)\n",
        "\n",
        "# Test\n",
        "y_pred = regressor.predict(X_test)\n",
        "\n",
        "# metrics calculation \n",
        "mae = mean_absolute_error(y_test,y_pred)\n",
        "print (\"Error Measure \",  mae)"
      ],
      "metadata": {
        "colab": {
          "base_uri": "https://localhost:8080/"
        },
        "id": "nFq9UHPKj3x7",
        "outputId": "afdc988f-f6ae-49cb-ecb5-fb7ec2375f3b"
      },
      "execution_count": null,
      "outputs": [
        {
          "output_type": "stream",
          "name": "stderr",
          "text": [
            "/usr/local/lib/python3.7/dist-packages/sklearn/ensemble/_forest.py:407: FutureWarning: Criterion 'mae' was deprecated in v1.0 and will be removed in version 1.2. Use `criterion='absolute_error'` which is equivalent.\n",
            "  FutureWarning,\n"
          ]
        },
        {
          "output_type": "stream",
          "name": "stdout",
          "text": [
            "Error Measure  9407.971663936332\n"
          ]
        }
      ]
    },
    {
      "cell_type": "markdown",
      "source": [
        "We visualize the results"
      ],
      "metadata": {
        "id": "HI9iQRNhy3SC"
      }
    },
    {
      "cell_type": "code",
      "source": [
        "xx = np.stack(i for i in range(len(y_test)))\n",
        "plt.scatter(xx, y_test, c='r', label='data')\n",
        "plt.plot(xx, y_pred, c='g', label='prediction')\n",
        "plt.axis('tight')\n",
        "plt.legend()\n",
        "plt.title(\"RandomForests Regressor\")\n",
        "\n",
        "plt.show()"
      ],
      "metadata": {
        "colab": {
          "base_uri": "https://localhost:8080/",
          "height": 336
        },
        "id": "Eq7OhSxNpK6t",
        "outputId": "b824b577-aa43-4165-a7a3-add0b47f6dcd"
      },
      "execution_count": null,
      "outputs": [
        {
          "output_type": "stream",
          "name": "stderr",
          "text": [
            "/usr/local/lib/python3.7/dist-packages/IPython/core/interactiveshell.py:2822: FutureWarning: arrays to stack must be passed as a \"sequence\" type such as list or tuple. Support for non-sequence iterables such as generators is deprecated as of NumPy 1.16 and will raise an error in the future.\n",
            "  if self.run_code(code, result):\n"
          ]
        },
        {
          "output_type": "display_data",
          "data": {
            "image/png": "[encoded data removed]",
            "text/plain": [
              "<Figure size 432x288 with 1 Axes>"
            ]
          },
          "metadata": {
            "needs_background": "light"
          }
        }
      ]
    },
    {
      "cell_type": "markdown",
      "source": [
        "Once Random Forest Regressor is done with ClaimDescription feature, we are going to a TFIDF **vectorizer** **with** **n-grams** for ClaimDescription feature, perform a feature selection for TFIDF output with **SelectKBest** and execute **Random Forest Regressor** with the selected features."
      ],
      "metadata": {
        "id": "vBfEPIH6pjTg"
      }
    },
    {
      "cell_type": "markdown",
      "source": [
        "###TFIDF + N-GRAM"
      ],
      "metadata": {
        "id": "ILfKgh79qUQ1"
      }
    },
    {
      "cell_type": "code",
      "source": [
        "vectorizer = TfidfVectorizer(ngram_range=(1,2), max_features=200)\n",
        "#vectorizer = TfidfVectorizer(use_idf=True, smooth_idf=True)\n",
        "\n",
        "output_tfidf_ngrams = vectorizer.fit_transform(df_feature_selected[\"ClaimDescription\"].tolist())\n",
        "\n",
        "df_output_tfidf_ngrams=pandas.DataFrame(output_tfidf_ngrams.toarray(), columns=vectorizer.get_feature_names())"
      ],
      "metadata": {
        "colab": {
          "base_uri": "https://localhost:8080/"
        },
        "id": "yA7-Cw2YqMHp",
        "outputId": "bb50d07f-82da-4a96-8c01-211ea6553d01"
      },
      "execution_count": null,
      "outputs": [
        {
          "output_type": "stream",
          "name": "stderr",
          "text": [
            "/usr/local/lib/python3.7/dist-packages/sklearn/utils/deprecation.py:87: FutureWarning: Function get_feature_names is deprecated; get_feature_names is deprecated in 1.0 and will be removed in 1.2. Please use get_feature_names_out instead.\n",
            "  warnings.warn(msg, category=FutureWarning)\n"
          ]
        }
      ]
    },
    {
      "cell_type": "code",
      "source": [
        "df_output_tfidf_ngrams.to_pickle('./tfidf_ngrams.pkl')"
      ],
      "metadata": {
        "id": "W2nsBToTkHOQ"
      },
      "execution_count": null,
      "outputs": []
    },
    {
      "cell_type": "markdown",
      "source": [
        "###Feature selection with SelectKBest"
      ],
      "metadata": {
        "id": "Y6KuUt4MrS35"
      }
    },
    {
      "cell_type": "markdown",
      "source": [
        "We select the best 30% of all features in the tfidf vectorizer with n-grams output"
      ],
      "metadata": {
        "id": "jDpUoWQPu48b"
      }
    },
    {
      "cell_type": "code",
      "source": [
        "selector = SelectKBest(score_func=f_regression,k=round((df_output_tfidf_ngrams.shape[1] * 30)/100))\n",
        "output_tfidf_ngrams_new = selector.fit_transform(output_tfidf_ngrams, df_feature_selected[\"UltimateIncurredClaimCost\"])"
      ],
      "metadata": {
        "id": "8uXerRMBrSdC"
      },
      "execution_count": null,
      "outputs": []
    },
    {
      "cell_type": "markdown",
      "source": [
        "We convert the **output** of the KBest selector, the **selected features **into a pandas **dataframe**"
      ],
      "metadata": {
        "id": "xwaCpbMbwSoq"
      }
    },
    {
      "cell_type": "code",
      "source": [
        "selected_indexes = selector.get_support()\n",
        "selected_columns = []\n",
        "column_names = df_output_tfidf_ngrams.columns\n",
        "dataframes = []\n",
        "for i in range(df_output_tfidf_ngrams.shape[1]):\n",
        "  if selected_indexes[i] == True:\n",
        "    aux = []\n",
        "    aux.append(df_output_tfidf_ngrams.iloc[:,i].tolist())\n",
        "\n",
        "    dataframes.append(pd.DataFrame(aux, [column_names[i]]).transpose())\n",
        "\n",
        "selected_features = pd.concat(dataframes, axis=1)"
      ],
      "metadata": {
        "id": "VXeXXNlFwZ9s"
      },
      "execution_count": null,
      "outputs": []
    },
    {
      "cell_type": "markdown",
      "source": [
        "###Regression"
      ],
      "metadata": {
        "id": "igN6-qg-6N0F"
      }
    },
    {
      "cell_type": "code",
      "source": [
        "X = selected_features\n",
        "y = df_full['UltimateIncurredClaimCost']\n",
        "\n",
        "X_train, X_test, y_train, y_test = train_test_split(X, y, test_size=0.4)"
      ],
      "metadata": {
        "id": "puRd3Qhh6Pw_"
      },
      "execution_count": null,
      "outputs": []
    },
    {
      "cell_type": "code",
      "source": [
        "#1.1 Model Parametrization \n",
        "regressor = RandomForestRegressor(n_estimators= 4, max_depth = 2, criterion='mae', random_state=0)\n",
        "#1.2 Model construction\n",
        "regressor.fit(X_train, y_train)\n",
        "\n",
        "# Test\n",
        "y_pred = regressor.predict(X_test)\n",
        "\n",
        "# metrics calculation \n",
        "mae = mean_absolute_error(y_test,y_pred)\n",
        "print (\"Error Measure \",  mae)"
      ],
      "metadata": {
        "colab": {
          "base_uri": "https://localhost:8080/"
        },
        "id": "1d7iTv9prq_5",
        "outputId": "075ddcfd-0872-4298-f511-d9dfca7ef1a3"
      },
      "execution_count": null,
      "outputs": [
        {
          "output_type": "stream",
          "name": "stderr",
          "text": [
            "/usr/local/lib/python3.7/dist-packages/sklearn/ensemble/_forest.py:407: FutureWarning: Criterion 'mae' was deprecated in v1.0 and will be removed in version 1.2. Use `criterion='absolute_error'` which is equivalent.\n",
            "  FutureWarning,\n"
          ]
        },
        {
          "output_type": "stream",
          "name": "stdout",
          "text": [
            "Error Measure  8884.372296938034\n"
          ]
        }
      ]
    },
    {
      "cell_type": "code",
      "source": [
        "xx = np.stack(i for i in range(len(y_test)))\n",
        "plt.scatter(xx, y_test, c='r', label='data')\n",
        "plt.plot(xx, y_pred, c='g', label='prediction')\n",
        "plt.axis('tight')\n",
        "plt.legend()\n",
        "plt.title(\"RandomForests Regressor\")\n",
        "\n",
        "plt.show()"
      ],
      "metadata": {
        "colab": {
          "base_uri": "https://localhost:8080/",
          "height": 336
        },
        "id": "oeMRt2t_rxPp",
        "outputId": "8f1afe76-0c31-48f9-98bc-08c9b1dfb9fd"
      },
      "execution_count": null,
      "outputs": [
        {
          "output_type": "stream",
          "name": "stderr",
          "text": [
            "/usr/local/lib/python3.7/dist-packages/IPython/core/interactiveshell.py:2822: FutureWarning: arrays to stack must be passed as a \"sequence\" type such as list or tuple. Support for non-sequence iterables such as generators is deprecated as of NumPy 1.16 and will raise an error in the future.\n",
            "  if self.run_code(code, result):\n"
          ]
        },
        {
          "output_type": "display_data",
          "data": {
            "image/png": "[encoded data removed]",
            "text/plain": [
              "<Figure size 432x288 with 1 Axes>"
            ]
          },
          "metadata": {
            "needs_background": "light"
          }
        }
      ]
    },
    {
      "cell_type": "markdown",
      "source": [
        "#Conclusions"
      ],
      "metadata": {
        "id": "zIgEZT8yz5V0"
      }
    },
    {
      "cell_type": "markdown",
      "source": [
        "As we have seen in this part of the task, not only **numerical features** are useful in order to develop a regression model. **Text-based features** can **contribute** notably to this process. However, to use this kind of features, a **preprocess step** needs to be done because text may content useless information, misspelled words, etc. Furthermore, we have to use a **TF-IDF vectorizer** to ensure a **valid input** for the regression model. "
      ],
      "metadata": {
        "id": "ClQ3kCoIz76x"
      }
    }
  ]
}